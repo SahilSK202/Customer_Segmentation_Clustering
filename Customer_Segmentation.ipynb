{
 "cells": [
  {
   "cell_type": "markdown",
   "id": "national-distribution",
   "metadata": {
    "id": "national-distribution"
   },
   "source": [
    "## Overview\n",
    "The Business Operations function at XYZ plays a central role in Operations. Our aim is to\n",
    "create a world-class Operations, which delivers the most reliable customer service\n",
    "experience and contributes to the best value proposition. As a data-driven company, the\n",
    "Business Intelligence Analyst will be key in supporting our goal and help us take the right\n",
    "business decisions\n",
    "\n",
    "\n",
    "### Problem Statement\n",
    "\n",
    "The 1st Line Financial Crime team, which is part of the Business Operations team, is\n",
    "responsible for protecting Kroo and its customers from fraudulent activities. You’ve been\n",
    "asked by your line manager to have a look and analyse a sample of mock customer data\n",
    "and share your findings with the Heads of Fincrime and Compliance.\n",
    "1. Propose a model for assessing customer risk level (High/Medium/Low)(assume fraud\n",
    "confirmed means confirmed that the customers are bad actors). How did you get to\n",
    "your conclusion? What other attributes would you suggest us could consider?\n"
   ]
  },
  {
   "cell_type": "markdown",
   "id": "racial-expression",
   "metadata": {
    "id": "racial-expression"
   },
   "source": [
    "## Approach\n",
    "1. Exploring and Cleaning Data\n",
    "2. Applying PCA to reduce dimension\n",
    "3. Clusturing data into 3 groups\n",
    "4. Identifying type of cluster by exploring data\n",
    "5. Creating ML model to classify customer"
   ]
  },
  {
   "cell_type": "markdown",
   "id": "FmGfgQeX-jO_",
   "metadata": {
    "id": "FmGfgQeX-jO_"
   },
   "source": [
    "## Mounting Drive"
   ]
  },
  {
   "cell_type": "code",
   "execution_count": 1,
   "id": "TP5jO_skPdSf",
   "metadata": {
    "colab": {
     "base_uri": "https://localhost:8080/"
    },
    "id": "TP5jO_skPdSf",
    "outputId": "f57590a7-99d3-4d23-aa7c-7345d32c9522"
   },
   "outputs": [
    {
     "name": "stdout",
     "output_type": "stream",
     "text": [
      "Mounted at /content/drive/\n"
     ]
    }
   ],
   "source": [
    "from google.colab import drive\n",
    "drive.mount('/content/drive/')"
   ]
  },
  {
   "cell_type": "code",
   "execution_count": 2,
   "id": "5oR1S4ULRVhB",
   "metadata": {
    "id": "5oR1S4ULRVhB"
   },
   "outputs": [],
   "source": [
    "path = \"path to files\""
   ]
  },
  {
   "cell_type": "markdown",
   "id": "patent-police",
   "metadata": {
    "id": "patent-police"
   },
   "source": [
    "# Importing Libraries"
   ]
  },
  {
   "cell_type": "code",
   "execution_count": 3,
   "id": "pointed-miami",
   "metadata": {
    "ExecuteTime": {
     "end_time": "2022-04-08T14:48:27.841747Z",
     "start_time": "2022-04-08T14:48:25.421262Z"
    },
    "id": "pointed-miami"
   },
   "outputs": [],
   "source": [
    "import numpy as np\n",
    "import pandas as pd\n",
    "import pandas_profiling\n",
    "import seaborn as sns\n",
    "\n",
    "%matplotlib inline\n",
    "import matplotlib.pyplot as plt\n",
    "plt.style.use('ggplot')\n",
    "\n",
    "from ipywidgets import interact\n",
    "\n",
    "# Supressing the warning messages\n",
    "import warnings\n",
    "warnings.filterwarnings('ignore')\n",
    "\n",
    "import pickle\n",
    "import os"
   ]
  },
  {
   "cell_type": "code",
   "execution_count": 4,
   "id": "focal-outline",
   "metadata": {
    "ExecuteTime": {
     "end_time": "2022-04-08T14:48:29.929157Z",
     "start_time": "2022-04-08T14:48:27.842743Z"
    },
    "id": "focal-outline"
   },
   "outputs": [],
   "source": [
    "from sklearn.model_selection import KFold, cross_val_score\n",
    "from sklearn.linear_model import LogisticRegression\n",
    "from sklearn.naive_bayes import GaussianNB\n",
    "from sklearn.svm import SVC\n",
    "from sklearn.tree import DecisionTreeClassifier\n",
    "from xgboost.sklearn import XGBClassifier\n",
    "from sklearn.ensemble import GradientBoostingClassifier\n",
    "from sklearn.neighbors import KNeighborsClassifier\n",
    "from sklearn.ensemble import RandomForestClassifier\n",
    "from sklearn.model_selection import train_test_split\n",
    "from sklearn import metrics\n",
    "from sklearn.cluster import KMeans\n",
    "from sklearn.decomposition import PCA\n",
    "\n",
    "from sklearn.pipeline import Pipeline, make_pipeline\n",
    "\n",
    "# Tuning\n",
    "from sklearn.model_selection import GridSearchCV\n",
    "\n",
    "\n",
    "# Preprocessing\n",
    "from sklearn.preprocessing import MinMaxScaler, StandardScaler, Normalizer, Binarizer, LabelEncoder"
   ]
  },
  {
   "cell_type": "markdown",
   "id": "following-medicaid",
   "metadata": {
    "id": "following-medicaid"
   },
   "source": [
    "# Importing Data"
   ]
  },
  {
   "cell_type": "code",
   "execution_count": 5,
   "id": "derived-sheet",
   "metadata": {
    "ExecuteTime": {
     "end_time": "2022-04-08T16:09:05.650720Z",
     "start_time": "2022-04-08T16:09:04.821730Z"
    },
    "colab": {
     "base_uri": "https://localhost:8080/",
     "height": 372
    },
    "id": "derived-sheet",
    "outputId": "7648630c-d930-4265-d421-44b420277cc2"
   },
   "outputs": [
    {
     "name": "stdout",
     "output_type": "stream",
     "text": [
      "(216, 14)\n"
     ]
    },
    {
     "data": {
      "text/html": [
       "\n",
       "  <div id=\"df-ee9abf50-13ae-45e6-995e-6ffbaf4beb6d\">\n",
       "    <div class=\"colab-df-container\">\n",
       "      <div>\n",
       "<style scoped>\n",
       "    .dataframe tbody tr th:only-of-type {\n",
       "        vertical-align: middle;\n",
       "    }\n",
       "\n",
       "    .dataframe tbody tr th {\n",
       "        vertical-align: top;\n",
       "    }\n",
       "\n",
       "    .dataframe thead th {\n",
       "        text-align: right;\n",
       "    }\n",
       "</style>\n",
       "<table border=\"1\" class=\"dataframe\">\n",
       "  <thead>\n",
       "    <tr style=\"text-align: right;\">\n",
       "      <th></th>\n",
       "      <th>Post code</th>\n",
       "      <th>ID Type</th>\n",
       "      <th>Email</th>\n",
       "      <th>Location</th>\n",
       "      <th>Numer of Devices</th>\n",
       "      <th>Age</th>\n",
       "      <th>Crypto Use</th>\n",
       "      <th>ATM use</th>\n",
       "      <th>Declared Use</th>\n",
       "      <th>Declated Turnover</th>\n",
       "      <th>Actual Use</th>\n",
       "      <th>Actual turnover</th>\n",
       "      <th>Months Active</th>\n",
       "      <th>Fraud Confirmed</th>\n",
       "    </tr>\n",
       "  </thead>\n",
       "  <tbody>\n",
       "    <tr>\n",
       "      <th>211</th>\n",
       "      <td>W32</td>\n",
       "      <td>Driving licence Full</td>\n",
       "      <td>elinore.swaniawski@sbcglobal.net</td>\n",
       "      <td>UK</td>\n",
       "      <td>1.0</td>\n",
       "      <td>21.0</td>\n",
       "      <td>YES</td>\n",
       "      <td>NO</td>\n",
       "      <td>Receiving and Withdrawing</td>\n",
       "      <td>50k</td>\n",
       "      <td>ATM</td>\n",
       "      <td>40k</td>\n",
       "      <td>1.0</td>\n",
       "      <td>NO</td>\n",
       "    </tr>\n",
       "    <tr>\n",
       "      <th>212</th>\n",
       "      <td>W33</td>\n",
       "      <td>Driving licence Provisional</td>\n",
       "      <td>fheller@yahoo.com</td>\n",
       "      <td>Europe</td>\n",
       "      <td>1.0</td>\n",
       "      <td>22.0</td>\n",
       "      <td>NO</td>\n",
       "      <td>NO</td>\n",
       "      <td>Day to date</td>\n",
       "      <td>20k</td>\n",
       "      <td>Friends and Family</td>\n",
       "      <td>20k</td>\n",
       "      <td>2.0</td>\n",
       "      <td>NO</td>\n",
       "    </tr>\n",
       "    <tr>\n",
       "      <th>213</th>\n",
       "      <td>W34</td>\n",
       "      <td>Driving licence Provisional</td>\n",
       "      <td>predovic.syble@icloud.com</td>\n",
       "      <td>Other</td>\n",
       "      <td>3.0</td>\n",
       "      <td>21.0</td>\n",
       "      <td>NO</td>\n",
       "      <td>NO</td>\n",
       "      <td>Day to date</td>\n",
       "      <td>20k</td>\n",
       "      <td>Receiving and Withdrawing</td>\n",
       "      <td>70k</td>\n",
       "      <td>1.0</td>\n",
       "      <td>NO</td>\n",
       "    </tr>\n",
       "    <tr>\n",
       "      <th>214</th>\n",
       "      <td>W35</td>\n",
       "      <td>Passport</td>\n",
       "      <td>hahn.vivienne@comcast.net</td>\n",
       "      <td>High Risk Coutry</td>\n",
       "      <td>2.0</td>\n",
       "      <td>27.0</td>\n",
       "      <td>NO</td>\n",
       "      <td>YES</td>\n",
       "      <td>ATM</td>\n",
       "      <td>20k</td>\n",
       "      <td>ATM</td>\n",
       "      <td>100k</td>\n",
       "      <td>1.0</td>\n",
       "      <td>NO</td>\n",
       "    </tr>\n",
       "    <tr>\n",
       "      <th>215</th>\n",
       "      <td>W36</td>\n",
       "      <td>Passport</td>\n",
       "      <td>volkman.augustine@hotmail.com</td>\n",
       "      <td>High Risk Coutry</td>\n",
       "      <td>3.0</td>\n",
       "      <td>25.0</td>\n",
       "      <td>NO</td>\n",
       "      <td>YES</td>\n",
       "      <td>ATM</td>\n",
       "      <td>30k</td>\n",
       "      <td>ATM</td>\n",
       "      <td>60k</td>\n",
       "      <td>1.0</td>\n",
       "      <td>NO</td>\n",
       "    </tr>\n",
       "  </tbody>\n",
       "</table>\n",
       "</div>\n",
       "      <button class=\"colab-df-convert\" onclick=\"convertToInteractive('df-ee9abf50-13ae-45e6-995e-6ffbaf4beb6d')\"\n",
       "              title=\"Convert this dataframe to an interactive table.\"\n",
       "              style=\"display:none;\">\n",
       "        \n",
       "  <svg xmlns=\"http://www.w3.org/2000/svg\" height=\"24px\"viewBox=\"0 0 24 24\"\n",
       "       width=\"24px\">\n",
       "    <path d=\"M0 0h24v24H0V0z\" fill=\"none\"/>\n",
       "    <path d=\"M18.56 5.44l.94 2.06.94-2.06 2.06-.94-2.06-.94-.94-2.06-.94 2.06-2.06.94zm-11 1L8.5 8.5l.94-2.06 2.06-.94-2.06-.94L8.5 2.5l-.94 2.06-2.06.94zm10 10l.94 2.06.94-2.06 2.06-.94-2.06-.94-.94-2.06-.94 2.06-2.06.94z\"/><path d=\"M17.41 7.96l-1.37-1.37c-.4-.4-.92-.59-1.43-.59-.52 0-1.04.2-1.43.59L10.3 9.45l-7.72 7.72c-.78.78-.78 2.05 0 2.83L4 21.41c.39.39.9.59 1.41.59.51 0 1.02-.2 1.41-.59l7.78-7.78 2.81-2.81c.8-.78.8-2.07 0-2.86zM5.41 20L4 18.59l7.72-7.72 1.47 1.35L5.41 20z\"/>\n",
       "  </svg>\n",
       "      </button>\n",
       "      \n",
       "  <style>\n",
       "    .colab-df-container {\n",
       "      display:flex;\n",
       "      flex-wrap:wrap;\n",
       "      gap: 12px;\n",
       "    }\n",
       "\n",
       "    .colab-df-convert {\n",
       "      background-color: #E8F0FE;\n",
       "      border: none;\n",
       "      border-radius: 50%;\n",
       "      cursor: pointer;\n",
       "      display: none;\n",
       "      fill: #1967D2;\n",
       "      height: 32px;\n",
       "      padding: 0 0 0 0;\n",
       "      width: 32px;\n",
       "    }\n",
       "\n",
       "    .colab-df-convert:hover {\n",
       "      background-color: #E2EBFA;\n",
       "      box-shadow: 0px 1px 2px rgba(60, 64, 67, 0.3), 0px 1px 3px 1px rgba(60, 64, 67, 0.15);\n",
       "      fill: #174EA6;\n",
       "    }\n",
       "\n",
       "    [theme=dark] .colab-df-convert {\n",
       "      background-color: #3B4455;\n",
       "      fill: #D2E3FC;\n",
       "    }\n",
       "\n",
       "    [theme=dark] .colab-df-convert:hover {\n",
       "      background-color: #434B5C;\n",
       "      box-shadow: 0px 1px 3px 1px rgba(0, 0, 0, 0.15);\n",
       "      filter: drop-shadow(0px 1px 2px rgba(0, 0, 0, 0.3));\n",
       "      fill: #FFFFFF;\n",
       "    }\n",
       "  </style>\n",
       "\n",
       "      <script>\n",
       "        const buttonEl =\n",
       "          document.querySelector('#df-ee9abf50-13ae-45e6-995e-6ffbaf4beb6d button.colab-df-convert');\n",
       "        buttonEl.style.display =\n",
       "          google.colab.kernel.accessAllowed ? 'block' : 'none';\n",
       "\n",
       "        async function convertToInteractive(key) {\n",
       "          const element = document.querySelector('#df-ee9abf50-13ae-45e6-995e-6ffbaf4beb6d');\n",
       "          const dataTable =\n",
       "            await google.colab.kernel.invokeFunction('convertToInteractive',\n",
       "                                                     [key], {});\n",
       "          if (!dataTable) return;\n",
       "\n",
       "          const docLinkHtml = 'Like what you see? Visit the ' +\n",
       "            '<a target=\"_blank\" href=https://colab.research.google.com/notebooks/data_table.ipynb>data table notebook</a>'\n",
       "            + ' to learn more about interactive tables.';\n",
       "          element.innerHTML = '';\n",
       "          dataTable['output_type'] = 'display_data';\n",
       "          await google.colab.output.renderOutput(dataTable, element);\n",
       "          const docLink = document.createElement('div');\n",
       "          docLink.innerHTML = docLinkHtml;\n",
       "          element.appendChild(docLink);\n",
       "        }\n",
       "      </script>\n",
       "    </div>\n",
       "  </div>\n",
       "  "
      ],
      "text/plain": [
       "    Post code                      ID Type                            Email   \\\n",
       "211       W32         Driving licence Full  elinore.swaniawski@sbcglobal.net   \n",
       "212       W33  Driving licence Provisional                 fheller@yahoo.com   \n",
       "213       W34  Driving licence Provisional         predovic.syble@icloud.com   \n",
       "214       W35                    Passport          hahn.vivienne@comcast.net   \n",
       "215       W36                    Passport      volkman.augustine@hotmail.com   \n",
       "\n",
       "             Location  Numer of Devices   Age Crypto Use ATM use  \\\n",
       "211               UK                1.0  21.0        YES      NO   \n",
       "212           Europe                1.0  22.0         NO      NO   \n",
       "213             Other               3.0  21.0         NO      NO   \n",
       "214  High Risk Coutry               2.0  27.0         NO     YES   \n",
       "215  High Risk Coutry               3.0  25.0         NO     YES   \n",
       "\n",
       "                  Declared Use Declated Turnover                 Actual Use  \\\n",
       "211  Receiving and Withdrawing               50k                        ATM   \n",
       "212                Day to date               20k         Friends and Family   \n",
       "213                Day to date               20k  Receiving and Withdrawing   \n",
       "214                        ATM               20k                        ATM   \n",
       "215                        ATM               30k                        ATM   \n",
       "\n",
       "    Actual turnover   Months Active Fraud Confirmed  \n",
       "211              40k            1.0              NO  \n",
       "212              20k            2.0              NO  \n",
       "213              70k            1.0              NO  \n",
       "214             100k            1.0              NO  \n",
       "215              60k            1.0              NO  "
      ]
     },
     "execution_count": 5,
     "metadata": {},
     "output_type": "execute_result"
    }
   ],
   "source": [
    "data = pd.read_excel(path+\"BI_-_Case_Study_Data.xlsx\")\n",
    "print(data.shape)\n",
    "data.tail()"
   ]
  },
  {
   "cell_type": "code",
   "execution_count": 6,
   "id": "raising-leeds",
   "metadata": {
    "ExecuteTime": {
     "end_time": "2022-04-08T16:09:05.728982Z",
     "start_time": "2022-04-08T16:09:05.715977Z"
    },
    "colab": {
     "base_uri": "https://localhost:8080/"
    },
    "id": "raising-leeds",
    "outputId": "a5e0b40a-8573-400a-858b-cd856f49de5b"
   },
   "outputs": [
    {
     "data": {
      "text/plain": [
       "Index(['Post code', 'ID Type', 'Email ', 'Location', 'Numer of Devices', 'Age',\n",
       "       'Crypto Use', 'ATM use', 'Declared Use', 'Declated Turnover',\n",
       "       'Actual Use', 'Actual turnover ', 'Months Active', 'Fraud Confirmed'],\n",
       "      dtype='object')"
      ]
     },
     "execution_count": 6,
     "metadata": {},
     "output_type": "execute_result"
    }
   ],
   "source": [
    "data.columns"
   ]
  },
  {
   "cell_type": "code",
   "execution_count": 7,
   "id": "mexican-perth",
   "metadata": {
    "ExecuteTime": {
     "end_time": "2022-04-08T16:09:06.708558Z",
     "start_time": "2022-04-08T16:09:06.328994Z"
    },
    "colab": {
     "base_uri": "https://localhost:8080/"
    },
    "id": "mexican-perth",
    "outputId": "a020373e-ff0a-444e-aed6-8726b58091cf"
   },
   "outputs": [
    {
     "name": "stdout",
     "output_type": "stream",
     "text": [
      "(216, 14)\n"
     ]
    }
   ],
   "source": [
    "print(data.shape)"
   ]
  },
  {
   "cell_type": "markdown",
   "id": "statewide-panama",
   "metadata": {
    "id": "statewide-panama"
   },
   "source": [
    "Declated Turnover is a typo. <br>\n",
    "It must be Declared Turnover,<br>\n",
    "Email and Actual Turnover has space in the end <br>Let's Fix that."
   ]
  },
  {
   "cell_type": "code",
   "execution_count": 8,
   "id": "difficult-listing",
   "metadata": {
    "ExecuteTime": {
     "end_time": "2022-04-08T16:09:09.388495Z",
     "start_time": "2022-04-08T16:09:09.367487Z"
    },
    "colab": {
     "base_uri": "https://localhost:8080/"
    },
    "id": "difficult-listing",
    "outputId": "1851aea3-8fab-4891-ba88-efc95aa4d0a3"
   },
   "outputs": [
    {
     "data": {
      "text/plain": [
       "Index(['Post code', 'ID Type', 'Email', 'Location', 'Number of Devices', 'Age',\n",
       "       'Crypto Use', 'ATM use', 'Declared Use', 'Declared Turnover',\n",
       "       'Actual Use', 'Actual Turnover', 'Months Active', 'Fraud Confirmed'],\n",
       "      dtype='object')"
      ]
     },
     "execution_count": 8,
     "metadata": {},
     "output_type": "execute_result"
    }
   ],
   "source": [
    "data.rename(columns = {'Declated Turnover':'Declared Turnover' ,\n",
    "                       'Email ': 'Email' ,\n",
    "                       'Actual turnover ':'Actual Turnover',\n",
    "                       'Numer of Devices' : 'Number of Devices'},\n",
    "                        inplace = True)\n",
    "data.columns"
   ]
  },
  {
   "cell_type": "markdown",
   "id": "arctic-federal",
   "metadata": {
    "id": "arctic-federal"
   },
   "source": [
    "# About Data\n",
    "\n",
    "- We have 216 rows and 14 columns in the dataset"
   ]
  },
  {
   "cell_type": "markdown",
   "id": "proud-carroll",
   "metadata": {
    "id": "proud-carroll"
   },
   "source": [
    "# Data Cleaning"
   ]
  },
  {
   "cell_type": "markdown",
   "id": "original-thirty",
   "metadata": {
    "id": "original-thirty"
   },
   "source": [
    "## Duplicated data"
   ]
  },
  {
   "cell_type": "code",
   "execution_count": 9,
   "id": "falling-hardwood",
   "metadata": {
    "ExecuteTime": {
     "end_time": "2022-04-08T16:09:15.894445Z",
     "start_time": "2022-04-08T16:09:15.863446Z"
    },
    "colab": {
     "base_uri": "https://localhost:8080/"
    },
    "id": "falling-hardwood",
    "outputId": "ded9935c-1298-4f20-8b2c-731d29d59e0b"
   },
   "outputs": [
    {
     "data": {
      "text/plain": [
       "0"
      ]
     },
     "execution_count": 9,
     "metadata": {},
     "output_type": "execute_result"
    }
   ],
   "source": [
    "data.duplicated().sum()"
   ]
  },
  {
   "cell_type": "markdown",
   "id": "related-transcript",
   "metadata": {
    "id": "related-transcript"
   },
   "source": [
    "## Handling Missing Values"
   ]
  },
  {
   "cell_type": "code",
   "execution_count": 10,
   "id": "valuable-letters",
   "metadata": {
    "ExecuteTime": {
     "end_time": "2022-04-08T16:09:16.341168Z",
     "start_time": "2022-04-08T16:09:16.312167Z"
    },
    "colab": {
     "base_uri": "https://localhost:8080/"
    },
    "id": "valuable-letters",
    "outputId": "c41a15cc-b487-4be0-e25f-eefbd6faf73d"
   },
   "outputs": [
    {
     "data": {
      "text/plain": [
       "Post code            0\n",
       "ID Type              0\n",
       "Email                0\n",
       "Location             0\n",
       "Number of Devices    0\n",
       "Age                  1\n",
       "Crypto Use           0\n",
       "ATM use              0\n",
       "Declared Use         0\n",
       "Declared Turnover    0\n",
       "Actual Use           0\n",
       "Actual Turnover      0\n",
       "Months Active        0\n",
       "Fraud Confirmed      0\n",
       "dtype: int64"
      ]
     },
     "execution_count": 10,
     "metadata": {},
     "output_type": "execute_result"
    }
   ],
   "source": [
    "data.isna().sum()"
   ]
  },
  {
   "cell_type": "markdown",
   "id": "static-container",
   "metadata": {
    "id": "static-container"
   },
   "source": [
    "There is one column 'Age' having only 1 value."
   ]
  },
  {
   "cell_type": "code",
   "execution_count": 11,
   "id": "cross-being",
   "metadata": {
    "ExecuteTime": {
     "end_time": "2022-04-08T16:09:16.990823Z",
     "start_time": "2022-04-08T16:09:16.964825Z"
    },
    "colab": {
     "base_uri": "https://localhost:8080/"
    },
    "id": "cross-being",
    "outputId": "a7031c96-aaa9-4a63-d2da-c693d03455e3"
   },
   "outputs": [
    {
     "data": {
      "text/plain": [
       "21.0    38\n",
       "18.0    37\n",
       "22.0    23\n",
       "25.0    18\n",
       "19.0    16\n",
       "27.0    12\n",
       "35.0    11\n",
       "23.0     7\n",
       "37.0     6\n",
       "31.0     6\n",
       "26.0     6\n",
       "33.0     5\n",
       "56.0     3\n",
       "28.0     3\n",
       "34.0     3\n",
       "43.0     3\n",
       "53.0     3\n",
       "75.0     2\n",
       "60.0     2\n",
       "32.0     2\n",
       "57.0     2\n",
       "65.0     2\n",
       "62.0     2\n",
       "61.0     2\n",
       "20.0     1\n",
       "Name: Age, dtype: int64"
      ]
     },
     "execution_count": 11,
     "metadata": {},
     "output_type": "execute_result"
    }
   ],
   "source": [
    "data[\"Age\"].value_counts()"
   ]
  },
  {
   "cell_type": "markdown",
   "id": "decent-empty",
   "metadata": {
    "id": "decent-empty"
   },
   "source": [
    "As there no such columns that can relate to age <br>\n",
    "Also Most of the age values are 21 <br>\n",
    "Hence Filling missing age value by 21 <br>\n",
    "Converting Age to int "
   ]
  },
  {
   "cell_type": "code",
   "execution_count": 12,
   "id": "elementary-outreach",
   "metadata": {
    "ExecuteTime": {
     "end_time": "2022-04-08T16:09:17.968952Z",
     "start_time": "2022-04-08T16:09:17.877960Z"
    },
    "id": "elementary-outreach"
   },
   "outputs": [],
   "source": [
    "data[\"Age\"].fillna(21 , inplace= True)\n",
    "data['Age'] = data['Age'].astype(int)"
   ]
  },
  {
   "cell_type": "markdown",
   "id": "tutorial-curtis",
   "metadata": {
    "id": "tutorial-curtis"
   },
   "source": [
    "# Data Cleaning"
   ]
  },
  {
   "cell_type": "code",
   "execution_count": 13,
   "id": "acquired-prague",
   "metadata": {
    "ExecuteTime": {
     "end_time": "2022-04-08T16:09:18.604330Z",
     "start_time": "2022-04-08T16:09:18.575343Z"
    },
    "colab": {
     "base_uri": "https://localhost:8080/"
    },
    "id": "acquired-prague",
    "outputId": "42386686-c744-4d15-ca0e-47f69114287f"
   },
   "outputs": [
    {
     "data": {
      "text/plain": [
       "Crypto Use             2\n",
       "ATM use                2\n",
       "Fraud Confirmed        2\n",
       "Location               4\n",
       "Declared Use           4\n",
       "Actual Use             4\n",
       "ID Type                5\n",
       "Number of Devices      6\n",
       "Declared Turnover      8\n",
       "Actual Turnover        8\n",
       "Months Active         10\n",
       "Age                   25\n",
       "Post code             36\n",
       "Email                216\n",
       "dtype: int64"
      ]
     },
     "execution_count": 13,
     "metadata": {},
     "output_type": "execute_result"
    }
   ],
   "source": [
    "data.nunique().sort_values()"
   ]
  },
  {
   "cell_type": "code",
   "execution_count": 14,
   "id": "fluid-blank",
   "metadata": {
    "ExecuteTime": {
     "end_time": "2022-04-08T16:09:19.661375Z",
     "start_time": "2022-04-08T16:09:18.819333Z"
    },
    "colab": {
     "base_uri": "https://localhost:8080/"
    },
    "id": "fluid-blank",
    "outputId": "95215b6a-510b-4cf2-d9a6-d87c28a1cbe1"
   },
   "outputs": [
    {
     "data": {
      "text/plain": [
       "array(['Crypto Use', 'ATM use', 'Fraud Confirmed', 'Location',\n",
       "       'Declared Use', 'Actual Use', 'ID Type', 'Number of Devices',\n",
       "       'Declared Turnover', 'Actual Turnover'], dtype=object)"
      ]
     },
     "execution_count": 14,
     "metadata": {},
     "output_type": "execute_result"
    }
   ],
   "source": [
    "categCols = data.nunique().sort_values()[data.nunique().sort_values() <= 8 ].index.values\n",
    "categCols"
   ]
  },
  {
   "cell_type": "code",
   "execution_count": 15,
   "id": "split-dynamics",
   "metadata": {
    "ExecuteTime": {
     "end_time": "2022-04-08T16:09:19.693379Z",
     "start_time": "2022-04-08T16:09:19.669372Z"
    },
    "colab": {
     "base_uri": "https://localhost:8080/"
    },
    "id": "split-dynamics",
    "outputId": "3dbeea8c-4494-47d0-c342-04451bd05207"
   },
   "outputs": [
    {
     "name": "stdout",
     "output_type": "stream",
     "text": [
      "Crypto Use ['YES' 'NO']\n",
      "ATM use ['NO' 'YES']\n",
      "Fraud Confirmed ['NO' 'YES']\n",
      "Location ['UK ' 'Europe ' 'Other' 'High Risk Coutry']\n",
      "Declared Use ['Day to date' 'ATM' 'Friends and Family' 'Receiving and Withdrawing']\n",
      "Actual Use ['Day to date' 'ATM' 'Friends and Family' 'Receiving and Withdrawing']\n",
      "ID Type ['Passport ' 'ID Card' 'Residence permit ' 'Driving licence Full'\n",
      " 'Driving licence Provisional']\n",
      "Number of Devices [3. 1. 2. 5. 6. 4.]\n",
      "Declared Turnover ['20K' '30k' '40k' '20k' '70k' '100k' '60k' '50k']\n",
      "Actual Turnover ['20K' '30k' '40k' '20k' '70k' '100k' '60k' '50k']\n"
     ]
    }
   ],
   "source": [
    "for i in categCols:\n",
    "    print(i , data[i].unique())"
   ]
  },
  {
   "cell_type": "markdown",
   "id": "american-primary",
   "metadata": {
    "id": "american-primary"
   },
   "source": [
    "Turnover coulmns have values in string datatype.\n",
    "Let's Convert them into int and not treat them as categorical."
   ]
  },
  {
   "cell_type": "code",
   "execution_count": 16,
   "id": "individual-absence",
   "metadata": {
    "ExecuteTime": {
     "end_time": "2022-04-08T16:09:20.403787Z",
     "start_time": "2022-04-08T16:09:20.375774Z"
    },
    "colab": {
     "base_uri": "https://localhost:8080/"
    },
    "id": "individual-absence",
    "outputId": "e396c1fc-ec99-441e-a43c-5d590e1abb17"
   },
   "outputs": [
    {
     "data": {
      "text/plain": [
       "Post code             object\n",
       "ID Type               object\n",
       "Email                 object\n",
       "Location              object\n",
       "Number of Devices    float64\n",
       "Age                    int64\n",
       "Crypto Use            object\n",
       "ATM use               object\n",
       "Declared Use          object\n",
       "Declared Turnover     object\n",
       "Actual Use            object\n",
       "Actual Turnover       object\n",
       "Months Active        float64\n",
       "Fraud Confirmed       object\n",
       "dtype: object"
      ]
     },
     "execution_count": 16,
     "metadata": {},
     "output_type": "execute_result"
    }
   ],
   "source": [
    "data.dtypes"
   ]
  },
  {
   "cell_type": "code",
   "execution_count": 17,
   "id": "distinguished-killing",
   "metadata": {
    "ExecuteTime": {
     "end_time": "2022-04-08T16:09:21.151978Z",
     "start_time": "2022-04-08T16:09:20.812433Z"
    },
    "id": "distinguished-killing"
   },
   "outputs": [],
   "source": [
    "data[\"Declared Turnover\"] = data[\"Declared Turnover\"].str.replace('k', '', case=False).astype(int)\n",
    "data[\"Actual Turnover\"] = data[\"Actual Turnover\"].str.replace('k', '', case=False).astype(int)"
   ]
  },
  {
   "cell_type": "code",
   "execution_count": 18,
   "id": "perceived-georgia",
   "metadata": {
    "ExecuteTime": {
     "end_time": "2022-04-08T16:09:21.214978Z",
     "start_time": "2022-04-08T16:09:21.157971Z"
    },
    "colab": {
     "base_uri": "https://localhost:8080/"
    },
    "id": "perceived-georgia",
    "outputId": "679756c8-4c9e-457b-a84d-57eee74dc016"
   },
   "outputs": [
    {
     "name": "stdout",
     "output_type": "stream",
     "text": [
      "Crypto Use ['YES' 'NO']\n",
      "ATM use ['NO' 'YES']\n",
      "Fraud Confirmed ['NO' 'YES']\n",
      "Location ['UK ' 'Europe ' 'Other' 'High Risk Coutry']\n",
      "Declared Use ['Day to date' 'ATM' 'Friends and Family' 'Receiving and Withdrawing']\n",
      "Actual Use ['Day to date' 'ATM' 'Friends and Family' 'Receiving and Withdrawing']\n",
      "ID Type ['Passport ' 'ID Card' 'Residence permit ' 'Driving licence Full'\n",
      " 'Driving licence Provisional']\n",
      "Number of Devices [3. 1. 2. 5. 6. 4.]\n",
      "Declared Turnover [ 20  30  40  70 100  60  50]\n",
      "Actual Turnover [ 20  30  40  70 100  60  50]\n"
     ]
    }
   ],
   "source": [
    "for i in categCols:\n",
    "    print(i , data[i].unique())"
   ]
  },
  {
   "cell_type": "code",
   "execution_count": 19,
   "id": "absent-spanish",
   "metadata": {
    "ExecuteTime": {
     "end_time": "2022-04-08T16:09:21.610642Z",
     "start_time": "2022-04-08T16:09:21.577644Z"
    },
    "colab": {
     "base_uri": "https://localhost:8080/"
    },
    "id": "absent-spanish",
    "outputId": "4077bc3b-4797-44d4-b589-11655949a2c6"
   },
   "outputs": [
    {
     "data": {
      "text/plain": [
       "array(['Crypto Use', 'ATM use', 'Fraud Confirmed', 'Location',\n",
       "       'Declared Use', 'Actual Use', 'ID Type'], dtype=object)"
      ]
     },
     "execution_count": 19,
     "metadata": {},
     "output_type": "execute_result"
    }
   ],
   "source": [
    "categCols = data.nunique().sort_values()[data.nunique().sort_values() < 6 ].index.values\n",
    "categCols"
   ]
  },
  {
   "cell_type": "markdown",
   "id": "arabic-project",
   "metadata": {
    "id": "arabic-project"
   },
   "source": [
    "# Looking into Data\n",
    "\n",
    "### 1. Is there any specific age group who is attempting more frauds ?\n",
    "### 2. Does difference between actual turnover and declared turnover say something about fraud ?\n",
    "### 3. Does Actual use and declared use say something about fraud ?\n",
    "### 4. Is Email Domain related to fraud ?"
   ]
  },
  {
   "cell_type": "markdown",
   "id": "dominican-wisdom",
   "metadata": {
    "ExecuteTime": {
     "end_time": "2022-04-07T15:42:11.583867Z",
     "start_time": "2022-04-07T15:42:11.575854Z"
    },
    "id": "dominican-wisdom"
   },
   "source": [
    "## Fruad Ratio in Data "
   ]
  },
  {
   "cell_type": "code",
   "execution_count": 20,
   "id": "public-quest",
   "metadata": {
    "ExecuteTime": {
     "end_time": "2022-04-08T16:09:26.997798Z",
     "start_time": "2022-04-08T16:09:26.691810Z"
    },
    "colab": {
     "base_uri": "https://localhost:8080/",
     "height": 491
    },
    "id": "public-quest",
    "outputId": "15e9ec23-bddc-4a82-ce6a-e35b72cfb5b9"
   },
   "outputs": [
    {
     "data": {
      "image/png": "[encoded data removed]",
      "text/plain": [
       "<Figure size 1080x576 with 1 Axes>"
      ]
     },
     "metadata": {},
     "output_type": "display_data"
    }
   ],
   "source": [
    "plt.figure(figsize=((15,8)))\n",
    "fraud_data = data['Fraud Confirmed'].value_counts(normalize=True).mul(100).round(2)\n",
    "fraud_data.plot.bar()\n",
    "plt.show()"
   ]
  },
  {
   "cell_type": "markdown",
   "id": "persistent-annex",
   "metadata": {
    "id": "persistent-annex"
   },
   "source": [
    "#### In the given dataset 70% of the customer are loyal and with 30% of customers , Fraud is confirmed.\n",
    "#### Data is not balanced across all the class_types.\n",
    "#### Model performance will be affected due to imbalanced data set.\n",
    "#### Model may perform poor.\n",
    "#### Data can be balanced using SMOTE and more data can be added using bootstrap."
   ]
  },
  {
   "cell_type": "markdown",
   "id": "minute-bookmark",
   "metadata": {
    "id": "minute-bookmark"
   },
   "source": [
    "## 1. Is there any specific age group who is attempting more frauds ?"
   ]
  },
  {
   "cell_type": "code",
   "execution_count": 21,
   "id": "arctic-marine",
   "metadata": {
    "ExecuteTime": {
     "end_time": "2022-04-08T16:09:29.519670Z",
     "start_time": "2022-04-08T16:09:28.589627Z"
    },
    "colab": {
     "base_uri": "https://localhost:8080/",
     "height": 401
    },
    "id": "arctic-marine",
    "outputId": "ceb62aa2-3d70-4305-9eb3-470e5cf49e37"
   },
   "outputs": [
    {
     "data": {
      "text/plain": [
       "<Figure size 1080x576 with 0 Axes>"
      ]
     },
     "metadata": {},
     "output_type": "display_data"
    },
    {
     "data": {
      "image/png": "[encoded data removed]",
      "text/plain": [
       "<Figure size 811x360 with 1 Axes>"
      ]
     },
     "metadata": {},
     "output_type": "display_data"
    }
   ],
   "source": [
    "plt.figure(figsize=((15,8)))\n",
    "sns.displot(data = data, x= \"Age\",hue=\"Fraud Confirmed\",fill=True, kind =\"kde\", height=5, aspect=2)\n",
    "plt.title(\"Distribution of Age with Fraud Confirmation\")\n",
    "plt.show()"
   ]
  },
  {
   "cell_type": "code",
   "execution_count": 22,
   "id": "north-highway",
   "metadata": {
    "ExecuteTime": {
     "end_time": "2022-04-08T16:09:29.630633Z",
     "start_time": "2022-04-08T16:09:29.524630Z"
    },
    "colab": {
     "base_uri": "https://localhost:8080/"
    },
    "id": "north-highway",
    "outputId": "8ef444c5-46ef-4fdd-8106-39704f6cf773"
   },
   "outputs": [
    {
     "data": {
      "text/plain": [
       "count    216.000000\n",
       "mean      26.990741\n",
       "std       11.728316\n",
       "min       18.000000\n",
       "25%       20.750000\n",
       "50%       22.000000\n",
       "75%       28.750000\n",
       "max       75.000000\n",
       "Name: Age, dtype: float64"
      ]
     },
     "execution_count": 22,
     "metadata": {},
     "output_type": "execute_result"
    }
   ],
   "source": [
    "data[\"Age\"].describe()"
   ]
  },
  {
   "cell_type": "code",
   "execution_count": 23,
   "id": "proper-price",
   "metadata": {
    "ExecuteTime": {
     "end_time": "2022-04-08T16:09:29.678633Z",
     "start_time": "2022-04-08T16:09:29.635627Z"
    },
    "id": "proper-price"
   },
   "outputs": [],
   "source": [
    "bins = [0, 30, 40, 50, 60, 70, np.inf]\n",
    "names = ['<30','30-40', '40-50','50-60','60-70','70+']\n",
    "data['AgeRange'] = pd.cut(data['Age'], bins, labels=names)"
   ]
  },
  {
   "cell_type": "code",
   "execution_count": 24,
   "id": "developed-palace",
   "metadata": {
    "ExecuteTime": {
     "end_time": "2022-04-08T16:09:29.726633Z",
     "start_time": "2022-04-08T16:09:29.683628Z"
    },
    "colab": {
     "base_uri": "https://localhost:8080/"
    },
    "id": "developed-palace",
    "outputId": "6993ae0c-3dc8-454a-a22f-da2a13cdc408"
   },
   "outputs": [
    {
     "data": {
      "text/plain": [
       "<30      162\n",
       "30-40     33\n",
       "50-60     10\n",
       "60-70      6\n",
       "40-50      3\n",
       "70+        2\n",
       "Name: AgeRange, dtype: int64"
      ]
     },
     "execution_count": 24,
     "metadata": {},
     "output_type": "execute_result"
    }
   ],
   "source": [
    "data['AgeRange'].value_counts()"
   ]
  },
  {
   "cell_type": "code",
   "execution_count": 25,
   "id": "billion-rolling",
   "metadata": {
    "ExecuteTime": {
     "end_time": "2022-04-08T16:09:29.758626Z",
     "start_time": "2022-04-08T16:09:29.732625Z"
    },
    "colab": {
     "base_uri": "https://localhost:8080/"
    },
    "id": "billion-rolling",
    "outputId": "b639ea4a-d0cd-4e39-cefc-0c91f2396af2"
   },
   "outputs": [
    {
     "data": {
      "text/plain": [
       "<30      50\n",
       "30-40     9\n",
       "50-60     3\n",
       "40-50     2\n",
       "60-70     2\n",
       "70+       0\n",
       "Name: AgeRange, dtype: int64"
      ]
     },
     "execution_count": 25,
     "metadata": {},
     "output_type": "execute_result"
    }
   ],
   "source": [
    "data[data['Fraud Confirmed'] == 'YES']['AgeRange'].value_counts()"
   ]
  },
  {
   "cell_type": "code",
   "execution_count": 26,
   "id": "short-mason",
   "metadata": {
    "ExecuteTime": {
     "end_time": "2022-04-08T16:09:29.917622Z",
     "start_time": "2022-04-08T16:09:29.881632Z"
    },
    "colab": {
     "base_uri": "https://localhost:8080/",
     "height": 237
    },
    "id": "short-mason",
    "outputId": "a51f7db1-7a3c-45e5-e546-262e52f86242"
   },
   "outputs": [
    {
     "data": {
      "text/html": [
       "\n",
       "  <div id=\"df-e2b69774-5d24-42b8-af80-f8742def2d4d\">\n",
       "    <div class=\"colab-df-container\">\n",
       "      <div>\n",
       "<style scoped>\n",
       "    .dataframe tbody tr th:only-of-type {\n",
       "        vertical-align: middle;\n",
       "    }\n",
       "\n",
       "    .dataframe tbody tr th {\n",
       "        vertical-align: top;\n",
       "    }\n",
       "\n",
       "    .dataframe thead th {\n",
       "        text-align: right;\n",
       "    }\n",
       "</style>\n",
       "<table border=\"1\" class=\"dataframe\">\n",
       "  <thead>\n",
       "    <tr style=\"text-align: right;\">\n",
       "      <th></th>\n",
       "      <th>AgeRangeCount</th>\n",
       "      <th>AgeRangeCountFraud</th>\n",
       "    </tr>\n",
       "  </thead>\n",
       "  <tbody>\n",
       "    <tr>\n",
       "      <th>&lt;30</th>\n",
       "      <td>162</td>\n",
       "      <td>50</td>\n",
       "    </tr>\n",
       "    <tr>\n",
       "      <th>30-40</th>\n",
       "      <td>33</td>\n",
       "      <td>9</td>\n",
       "    </tr>\n",
       "    <tr>\n",
       "      <th>50-60</th>\n",
       "      <td>10</td>\n",
       "      <td>3</td>\n",
       "    </tr>\n",
       "    <tr>\n",
       "      <th>60-70</th>\n",
       "      <td>6</td>\n",
       "      <td>2</td>\n",
       "    </tr>\n",
       "    <tr>\n",
       "      <th>40-50</th>\n",
       "      <td>3</td>\n",
       "      <td>2</td>\n",
       "    </tr>\n",
       "    <tr>\n",
       "      <th>70+</th>\n",
       "      <td>2</td>\n",
       "      <td>0</td>\n",
       "    </tr>\n",
       "  </tbody>\n",
       "</table>\n",
       "</div>\n",
       "      <button class=\"colab-df-convert\" onclick=\"convertToInteractive('df-e2b69774-5d24-42b8-af80-f8742def2d4d')\"\n",
       "              title=\"Convert this dataframe to an interactive table.\"\n",
       "              style=\"display:none;\">\n",
       "        \n",
       "  <svg xmlns=\"http://www.w3.org/2000/svg\" height=\"24px\"viewBox=\"0 0 24 24\"\n",
       "       width=\"24px\">\n",
       "    <path d=\"M0 0h24v24H0V0z\" fill=\"none\"/>\n",
       "    <path d=\"M18.56 5.44l.94 2.06.94-2.06 2.06-.94-2.06-.94-.94-2.06-.94 2.06-2.06.94zm-11 1L8.5 8.5l.94-2.06 2.06-.94-2.06-.94L8.5 2.5l-.94 2.06-2.06.94zm10 10l.94 2.06.94-2.06 2.06-.94-2.06-.94-.94-2.06-.94 2.06-2.06.94z\"/><path d=\"M17.41 7.96l-1.37-1.37c-.4-.4-.92-.59-1.43-.59-.52 0-1.04.2-1.43.59L10.3 9.45l-7.72 7.72c-.78.78-.78 2.05 0 2.83L4 21.41c.39.39.9.59 1.41.59.51 0 1.02-.2 1.41-.59l7.78-7.78 2.81-2.81c.8-.78.8-2.07 0-2.86zM5.41 20L4 18.59l7.72-7.72 1.47 1.35L5.41 20z\"/>\n",
       "  </svg>\n",
       "      </button>\n",
       "      \n",
       "  <style>\n",
       "    .colab-df-container {\n",
       "      display:flex;\n",
       "      flex-wrap:wrap;\n",
       "      gap: 12px;\n",
       "    }\n",
       "\n",
       "    .colab-df-convert {\n",
       "      background-color: #E8F0FE;\n",
       "      border: none;\n",
       "      border-radius: 50%;\n",
       "      cursor: pointer;\n",
       "      display: none;\n",
       "      fill: #1967D2;\n",
       "      height: 32px;\n",
       "      padding: 0 0 0 0;\n",
       "      width: 32px;\n",
       "    }\n",
       "\n",
       "    .colab-df-convert:hover {\n",
       "      background-color: #E2EBFA;\n",
       "      box-shadow: 0px 1px 2px rgba(60, 64, 67, 0.3), 0px 1px 3px 1px rgba(60, 64, 67, 0.15);\n",
       "      fill: #174EA6;\n",
       "    }\n",
       "\n",
       "    [theme=dark] .colab-df-convert {\n",
       "      background-color: #3B4455;\n",
       "      fill: #D2E3FC;\n",
       "    }\n",
       "\n",
       "    [theme=dark] .colab-df-convert:hover {\n",
       "      background-color: #434B5C;\n",
       "      box-shadow: 0px 1px 3px 1px rgba(0, 0, 0, 0.15);\n",
       "      filter: drop-shadow(0px 1px 2px rgba(0, 0, 0, 0.3));\n",
       "      fill: #FFFFFF;\n",
       "    }\n",
       "  </style>\n",
       "\n",
       "      <script>\n",
       "        const buttonEl =\n",
       "          document.querySelector('#df-e2b69774-5d24-42b8-af80-f8742def2d4d button.colab-df-convert');\n",
       "        buttonEl.style.display =\n",
       "          google.colab.kernel.accessAllowed ? 'block' : 'none';\n",
       "\n",
       "        async function convertToInteractive(key) {\n",
       "          const element = document.querySelector('#df-e2b69774-5d24-42b8-af80-f8742def2d4d');\n",
       "          const dataTable =\n",
       "            await google.colab.kernel.invokeFunction('convertToInteractive',\n",
       "                                                     [key], {});\n",
       "          if (!dataTable) return;\n",
       "\n",
       "          const docLinkHtml = 'Like what you see? Visit the ' +\n",
       "            '<a target=\"_blank\" href=https://colab.research.google.com/notebooks/data_table.ipynb>data table notebook</a>'\n",
       "            + ' to learn more about interactive tables.';\n",
       "          element.innerHTML = '';\n",
       "          dataTable['output_type'] = 'display_data';\n",
       "          await google.colab.output.renderOutput(dataTable, element);\n",
       "          const docLink = document.createElement('div');\n",
       "          docLink.innerHTML = docLinkHtml;\n",
       "          element.appendChild(docLink);\n",
       "        }\n",
       "      </script>\n",
       "    </div>\n",
       "  </div>\n",
       "  "
      ],
      "text/plain": [
       "       AgeRangeCount  AgeRangeCountFraud\n",
       "<30              162                  50\n",
       "30-40             33                   9\n",
       "50-60             10                   3\n",
       "60-70              6                   2\n",
       "40-50              3                   2\n",
       "70+                2                   0"
      ]
     },
     "execution_count": 26,
     "metadata": {},
     "output_type": "execute_result"
    }
   ],
   "source": [
    "AgeData = pd.DataFrame({'AgeRangeCount' :data['AgeRange'].value_counts().values,\n",
    "              'AgeRangeCountFraud' : data[data['Fraud Confirmed'] == 'YES']['AgeRange'].value_counts().values},\n",
    "             index= data['AgeRange'].value_counts().index)\n",
    "AgeData"
   ]
  },
  {
   "cell_type": "code",
   "execution_count": 27,
   "id": "oriental-expansion",
   "metadata": {
    "ExecuteTime": {
     "end_time": "2022-04-08T16:09:30.093633Z",
     "start_time": "2022-04-08T16:09:30.075633Z"
    },
    "id": "oriental-expansion"
   },
   "outputs": [],
   "source": [
    "AgeData['FraudPerc'] = AgeData['AgeRangeCountFraud']/AgeData['AgeRangeCount']"
   ]
  },
  {
   "cell_type": "code",
   "execution_count": 28,
   "id": "historical-trick",
   "metadata": {
    "ExecuteTime": {
     "end_time": "2022-04-08T16:09:30.284638Z",
     "start_time": "2022-04-08T16:09:30.261633Z"
    },
    "colab": {
     "base_uri": "https://localhost:8080/",
     "height": 237
    },
    "id": "historical-trick",
    "outputId": "0e1e5e7f-450b-4301-9abe-3a4ee4c2268e"
   },
   "outputs": [
    {
     "data": {
      "text/html": [
       "\n",
       "  <div id=\"df-7b4add9c-8eb8-49cf-97bd-6c5160b885b6\">\n",
       "    <div class=\"colab-df-container\">\n",
       "      <div>\n",
       "<style scoped>\n",
       "    .dataframe tbody tr th:only-of-type {\n",
       "        vertical-align: middle;\n",
       "    }\n",
       "\n",
       "    .dataframe tbody tr th {\n",
       "        vertical-align: top;\n",
       "    }\n",
       "\n",
       "    .dataframe thead th {\n",
       "        text-align: right;\n",
       "    }\n",
       "</style>\n",
       "<table border=\"1\" class=\"dataframe\">\n",
       "  <thead>\n",
       "    <tr style=\"text-align: right;\">\n",
       "      <th></th>\n",
       "      <th>AgeRangeCount</th>\n",
       "      <th>AgeRangeCountFraud</th>\n",
       "      <th>FraudPerc</th>\n",
       "    </tr>\n",
       "  </thead>\n",
       "  <tbody>\n",
       "    <tr>\n",
       "      <th>&lt;30</th>\n",
       "      <td>162</td>\n",
       "      <td>50</td>\n",
       "      <td>0.308642</td>\n",
       "    </tr>\n",
       "    <tr>\n",
       "      <th>30-40</th>\n",
       "      <td>33</td>\n",
       "      <td>9</td>\n",
       "      <td>0.272727</td>\n",
       "    </tr>\n",
       "    <tr>\n",
       "      <th>50-60</th>\n",
       "      <td>10</td>\n",
       "      <td>3</td>\n",
       "      <td>0.300000</td>\n",
       "    </tr>\n",
       "    <tr>\n",
       "      <th>60-70</th>\n",
       "      <td>6</td>\n",
       "      <td>2</td>\n",
       "      <td>0.333333</td>\n",
       "    </tr>\n",
       "    <tr>\n",
       "      <th>40-50</th>\n",
       "      <td>3</td>\n",
       "      <td>2</td>\n",
       "      <td>0.666667</td>\n",
       "    </tr>\n",
       "    <tr>\n",
       "      <th>70+</th>\n",
       "      <td>2</td>\n",
       "      <td>0</td>\n",
       "      <td>0.000000</td>\n",
       "    </tr>\n",
       "  </tbody>\n",
       "</table>\n",
       "</div>\n",
       "      <button class=\"colab-df-convert\" onclick=\"convertToInteractive('df-7b4add9c-8eb8-49cf-97bd-6c5160b885b6')\"\n",
       "              title=\"Convert this dataframe to an interactive table.\"\n",
       "              style=\"display:none;\">\n",
       "        \n",
       "  <svg xmlns=\"http://www.w3.org/2000/svg\" height=\"24px\"viewBox=\"0 0 24 24\"\n",
       "       width=\"24px\">\n",
       "    <path d=\"M0 0h24v24H0V0z\" fill=\"none\"/>\n",
       "    <path d=\"M18.56 5.44l.94 2.06.94-2.06 2.06-.94-2.06-.94-.94-2.06-.94 2.06-2.06.94zm-11 1L8.5 8.5l.94-2.06 2.06-.94-2.06-.94L8.5 2.5l-.94 2.06-2.06.94zm10 10l.94 2.06.94-2.06 2.06-.94-2.06-.94-.94-2.06-.94 2.06-2.06.94z\"/><path d=\"M17.41 7.96l-1.37-1.37c-.4-.4-.92-.59-1.43-.59-.52 0-1.04.2-1.43.59L10.3 9.45l-7.72 7.72c-.78.78-.78 2.05 0 2.83L4 21.41c.39.39.9.59 1.41.59.51 0 1.02-.2 1.41-.59l7.78-7.78 2.81-2.81c.8-.78.8-2.07 0-2.86zM5.41 20L4 18.59l7.72-7.72 1.47 1.35L5.41 20z\"/>\n",
       "  </svg>\n",
       "      </button>\n",
       "      \n",
       "  <style>\n",
       "    .colab-df-container {\n",
       "      display:flex;\n",
       "      flex-wrap:wrap;\n",
       "      gap: 12px;\n",
       "    }\n",
       "\n",
       "    .colab-df-convert {\n",
       "      background-color: #E8F0FE;\n",
       "      border: none;\n",
       "      border-radius: 50%;\n",
       "      cursor: pointer;\n",
       "      display: none;\n",
       "      fill: #1967D2;\n",
       "      height: 32px;\n",
       "      padding: 0 0 0 0;\n",
       "      width: 32px;\n",
       "    }\n",
       "\n",
       "    .colab-df-convert:hover {\n",
       "      background-color: #E2EBFA;\n",
       "      box-shadow: 0px 1px 2px rgba(60, 64, 67, 0.3), 0px 1px 3px 1px rgba(60, 64, 67, 0.15);\n",
       "      fill: #174EA6;\n",
       "    }\n",
       "\n",
       "    [theme=dark] .colab-df-convert {\n",
       "      background-color: #3B4455;\n",
       "      fill: #D2E3FC;\n",
       "    }\n",
       "\n",
       "    [theme=dark] .colab-df-convert:hover {\n",
       "      background-color: #434B5C;\n",
       "      box-shadow: 0px 1px 3px 1px rgba(0, 0, 0, 0.15);\n",
       "      filter: drop-shadow(0px 1px 2px rgba(0, 0, 0, 0.3));\n",
       "      fill: #FFFFFF;\n",
       "    }\n",
       "  </style>\n",
       "\n",
       "      <script>\n",
       "        const buttonEl =\n",
       "          document.querySelector('#df-7b4add9c-8eb8-49cf-97bd-6c5160b885b6 button.colab-df-convert');\n",
       "        buttonEl.style.display =\n",
       "          google.colab.kernel.accessAllowed ? 'block' : 'none';\n",
       "\n",
       "        async function convertToInteractive(key) {\n",
       "          const element = document.querySelector('#df-7b4add9c-8eb8-49cf-97bd-6c5160b885b6');\n",
       "          const dataTable =\n",
       "            await google.colab.kernel.invokeFunction('convertToInteractive',\n",
       "                                                     [key], {});\n",
       "          if (!dataTable) return;\n",
       "\n",
       "          const docLinkHtml = 'Like what you see? Visit the ' +\n",
       "            '<a target=\"_blank\" href=https://colab.research.google.com/notebooks/data_table.ipynb>data table notebook</a>'\n",
       "            + ' to learn more about interactive tables.';\n",
       "          element.innerHTML = '';\n",
       "          dataTable['output_type'] = 'display_data';\n",
       "          await google.colab.output.renderOutput(dataTable, element);\n",
       "          const docLink = document.createElement('div');\n",
       "          docLink.innerHTML = docLinkHtml;\n",
       "          element.appendChild(docLink);\n",
       "        }\n",
       "      </script>\n",
       "    </div>\n",
       "  </div>\n",
       "  "
      ],
      "text/plain": [
       "       AgeRangeCount  AgeRangeCountFraud  FraudPerc\n",
       "<30              162                  50   0.308642\n",
       "30-40             33                   9   0.272727\n",
       "50-60             10                   3   0.300000\n",
       "60-70              6                   2   0.333333\n",
       "40-50              3                   2   0.666667\n",
       "70+                2                   0   0.000000"
      ]
     },
     "execution_count": 28,
     "metadata": {},
     "output_type": "execute_result"
    }
   ],
   "source": [
    "AgeData"
   ]
  },
  {
   "cell_type": "code",
   "execution_count": 29,
   "id": "civic-circulation",
   "metadata": {
    "ExecuteTime": {
     "end_time": "2022-04-08T16:09:30.970629Z",
     "start_time": "2022-04-08T16:09:30.445633Z"
    },
    "colab": {
     "base_uri": "https://localhost:8080/",
     "height": 517
    },
    "id": "civic-circulation",
    "outputId": "b5237d81-9b59-4f54-ccb4-046d3bf6aa58"
   },
   "outputs": [
    {
     "data": {
      "image/png": "[encoded data removed]",
      "text/plain": [
       "<Figure size 1080x576 with 1 Axes>"
      ]
     },
     "metadata": {},
     "output_type": "display_data"
    }
   ],
   "source": [
    "plt.figure(figsize=((15,8)))\n",
    "ax = sns.countplot( x = 'Fraud Confirmed', hue = \"AgeRange\", data = data)\n",
    "plt.title(f\"Count of Customers with AgeRange and Fraud Confirmed\")\n",
    "plt.legend(loc = 'upper right')\n",
    "plt.show()"
   ]
  },
  {
   "cell_type": "markdown",
   "id": "bizarre-jimmy",
   "metadata": {
    "id": "bizarre-jimmy"
   },
   "source": [
    "### Since data is not balanced amongst the age group. <br> From the above graphs and present data, we can say that nearly 30% of customers have been confirmed with fraud in all the age range."
   ]
  },
  {
   "cell_type": "markdown",
   "id": "returning-cleaners",
   "metadata": {
    "id": "returning-cleaners"
   },
   "source": [
    "## 2. Does difference between actual turnover and declared turnover say something about fraud ?"
   ]
  },
  {
   "cell_type": "code",
   "execution_count": 30,
   "id": "concerned-clinton",
   "metadata": {
    "ExecuteTime": {
     "end_time": "2022-04-08T16:09:31.082626Z",
     "start_time": "2022-04-08T16:09:31.049631Z"
    },
    "id": "concerned-clinton"
   },
   "outputs": [],
   "source": [
    "\n",
    "def f(row):\n",
    "    if row['Actual Turnover'] < row['Declared Turnover']:\n",
    "        val = 'Low'\n",
    "    elif row['Actual Turnover'] > row['Declared Turnover']:\n",
    "        val = 'High'\n",
    "    else:\n",
    "        val = 'Same'\n",
    "    return val\n",
    "\n",
    "\n",
    "data['TurnoverDiffStatus'] = data.apply(f, axis=1)\n",
    "data['TurnoverDiff'] = abs(data['Actual Turnover'] - data['Declared Turnover'])"
   ]
  },
  {
   "cell_type": "code",
   "execution_count": 31,
   "id": "lesbian-festival",
   "metadata": {
    "ExecuteTime": {
     "end_time": "2022-04-08T16:09:32.622271Z",
     "start_time": "2022-04-08T16:09:31.249633Z"
    },
    "colab": {
     "base_uri": "https://localhost:8080/",
     "height": 517
    },
    "id": "lesbian-festival",
    "outputId": "41148404-f35b-4101-ea0f-155a4516aad6"
   },
   "outputs": [
    {
     "data": {
      "image/png": "[encoded data removed]",
      "text/plain": [
       "<Figure size 1080x576 with 1 Axes>"
      ]
     },
     "metadata": {},
     "output_type": "display_data"
    }
   ],
   "source": [
    "plt.figure(figsize=((15,8)))\n",
    "ax = sns.countplot( x = 'Fraud Confirmed', hue = 'TurnoverDiff' , data = data)\n",
    "plt.title(f\"Count of Customers with Turonver Difference and Fraud Confirmed\")\n",
    "plt.show()"
   ]
  },
  {
   "cell_type": "code",
   "execution_count": 32,
   "id": "japanese-greeting",
   "metadata": {
    "ExecuteTime": {
     "end_time": "2022-04-08T16:09:33.133278Z",
     "start_time": "2022-04-08T16:09:32.629274Z"
    },
    "colab": {
     "base_uri": "https://localhost:8080/",
     "height": 517
    },
    "id": "japanese-greeting",
    "outputId": "104e83bf-9aba-4bfa-a669-8096818348d6"
   },
   "outputs": [
    {
     "data": {
      "image/png": "[encoded data removed]",
      "text/plain": [
       "<Figure size 1080x576 with 1 Axes>"
      ]
     },
     "metadata": {},
     "output_type": "display_data"
    }
   ],
   "source": [
    "plt.figure(figsize=((15,8)))\n",
    "ax = sns.countplot( x = 'Fraud Confirmed', hue = 'TurnoverDiffStatus' , data = data)\n",
    "plt.title(f\"Count of Customers with Turonver Difference and Fraud Confirmed\")\n",
    "plt.show()"
   ]
  },
  {
   "cell_type": "markdown",
   "id": "special-roommate",
   "metadata": {
    "id": "special-roommate"
   },
   "source": [
    "#### From Above plot we can conclude that Customer having Actual Turnover higher or lower than Declared Turnover by 0 to 30k are more likely to attempt a fraud"
   ]
  },
  {
   "cell_type": "markdown",
   "id": "later-pattern",
   "metadata": {
    "id": "later-pattern"
   },
   "source": [
    "## 3. Does Actual use and declared use say something about fraud ?¶"
   ]
  },
  {
   "cell_type": "code",
   "execution_count": 33,
   "id": "dietary-haven",
   "metadata": {
    "ExecuteTime": {
     "end_time": "2022-04-08T16:09:33.564318Z",
     "start_time": "2022-04-08T16:09:33.139276Z"
    },
    "id": "dietary-haven"
   },
   "outputs": [],
   "source": [
    "data['AccUseDiff'] = np.where(data['Actual Use'] == data['Declared Use'], 'No', 'Yes')"
   ]
  },
  {
   "cell_type": "code",
   "execution_count": 34,
   "id": "amino-bachelor",
   "metadata": {
    "ExecuteTime": {
     "end_time": "2022-04-08T16:09:33.978280Z",
     "start_time": "2022-04-08T16:09:33.569280Z"
    },
    "colab": {
     "base_uri": "https://localhost:8080/",
     "height": 517
    },
    "id": "amino-bachelor",
    "outputId": "c8aeca0d-7c3c-4187-93a6-3b1da5d10845"
   },
   "outputs": [
    {
     "data": {
      "image/png": "[encoded data removed]",
      "text/plain": [
       "<Figure size 1080x576 with 1 Axes>"
      ]
     },
     "metadata": {},
     "output_type": "display_data"
    }
   ],
   "source": [
    "plt.figure(figsize=((15,8)))\n",
    "ax = sns.countplot( x = 'Fraud Confirmed', hue = 'AccUseDiff' , data = data)\n",
    "plt.title(f\"Count of Customers with Account Use Difference and Fraud Confirmed\")\n",
    "plt.show()"
   ]
  },
  {
   "cell_type": "code",
   "execution_count": 35,
   "id": "marine-portuguese",
   "metadata": {
    "ExecuteTime": {
     "end_time": "2022-04-08T16:09:34.026269Z",
     "start_time": "2022-04-08T16:09:33.983270Z"
    },
    "colab": {
     "base_uri": "https://localhost:8080/",
     "height": 175
    },
    "id": "marine-portuguese",
    "outputId": "c5e5feab-a70b-433c-a0e4-7cbfc7df8b5c"
   },
   "outputs": [
    {
     "data": {
      "text/html": [
       "\n",
       "  <div id=\"df-bd2f73af-aa7b-4ae2-833d-543509688756\">\n",
       "    <div class=\"colab-df-container\">\n",
       "      <div>\n",
       "<style scoped>\n",
       "    .dataframe tbody tr th:only-of-type {\n",
       "        vertical-align: middle;\n",
       "    }\n",
       "\n",
       "    .dataframe tbody tr th {\n",
       "        vertical-align: top;\n",
       "    }\n",
       "\n",
       "    .dataframe thead th {\n",
       "        text-align: right;\n",
       "    }\n",
       "</style>\n",
       "<table border=\"1\" class=\"dataframe\">\n",
       "  <thead>\n",
       "    <tr style=\"text-align: right;\">\n",
       "      <th></th>\n",
       "      <th>ActualUseCount</th>\n",
       "      <th>ActualUseCountFraud</th>\n",
       "      <th>DeclaredUseCount</th>\n",
       "      <th>DeclaredUseCountFraud</th>\n",
       "    </tr>\n",
       "  </thead>\n",
       "  <tbody>\n",
       "    <tr>\n",
       "      <th>ATM</th>\n",
       "      <td>125</td>\n",
       "      <td>31</td>\n",
       "      <td>75</td>\n",
       "      <td>22</td>\n",
       "    </tr>\n",
       "    <tr>\n",
       "      <th>Day to date</th>\n",
       "      <td>39</td>\n",
       "      <td>13</td>\n",
       "      <td>71</td>\n",
       "      <td>20</td>\n",
       "    </tr>\n",
       "    <tr>\n",
       "      <th>Friends and Family</th>\n",
       "      <td>26</td>\n",
       "      <td>11</td>\n",
       "      <td>52</td>\n",
       "      <td>18</td>\n",
       "    </tr>\n",
       "    <tr>\n",
       "      <th>Receiving and Withdrawing</th>\n",
       "      <td>26</td>\n",
       "      <td>11</td>\n",
       "      <td>18</td>\n",
       "      <td>6</td>\n",
       "    </tr>\n",
       "  </tbody>\n",
       "</table>\n",
       "</div>\n",
       "      <button class=\"colab-df-convert\" onclick=\"convertToInteractive('df-bd2f73af-aa7b-4ae2-833d-543509688756')\"\n",
       "              title=\"Convert this dataframe to an interactive table.\"\n",
       "              style=\"display:none;\">\n",
       "        \n",
       "  <svg xmlns=\"http://www.w3.org/2000/svg\" height=\"24px\"viewBox=\"0 0 24 24\"\n",
       "       width=\"24px\">\n",
       "    <path d=\"M0 0h24v24H0V0z\" fill=\"none\"/>\n",
       "    <path d=\"M18.56 5.44l.94 2.06.94-2.06 2.06-.94-2.06-.94-.94-2.06-.94 2.06-2.06.94zm-11 1L8.5 8.5l.94-2.06 2.06-.94-2.06-.94L8.5 2.5l-.94 2.06-2.06.94zm10 10l.94 2.06.94-2.06 2.06-.94-2.06-.94-.94-2.06-.94 2.06-2.06.94z\"/><path d=\"M17.41 7.96l-1.37-1.37c-.4-.4-.92-.59-1.43-.59-.52 0-1.04.2-1.43.59L10.3 9.45l-7.72 7.72c-.78.78-.78 2.05 0 2.83L4 21.41c.39.39.9.59 1.41.59.51 0 1.02-.2 1.41-.59l7.78-7.78 2.81-2.81c.8-.78.8-2.07 0-2.86zM5.41 20L4 18.59l7.72-7.72 1.47 1.35L5.41 20z\"/>\n",
       "  </svg>\n",
       "      </button>\n",
       "      \n",
       "  <style>\n",
       "    .colab-df-container {\n",
       "      display:flex;\n",
       "      flex-wrap:wrap;\n",
       "      gap: 12px;\n",
       "    }\n",
       "\n",
       "    .colab-df-convert {\n",
       "      background-color: #E8F0FE;\n",
       "      border: none;\n",
       "      border-radius: 50%;\n",
       "      cursor: pointer;\n",
       "      display: none;\n",
       "      fill: #1967D2;\n",
       "      height: 32px;\n",
       "      padding: 0 0 0 0;\n",
       "      width: 32px;\n",
       "    }\n",
       "\n",
       "    .colab-df-convert:hover {\n",
       "      background-color: #E2EBFA;\n",
       "      box-shadow: 0px 1px 2px rgba(60, 64, 67, 0.3), 0px 1px 3px 1px rgba(60, 64, 67, 0.15);\n",
       "      fill: #174EA6;\n",
       "    }\n",
       "\n",
       "    [theme=dark] .colab-df-convert {\n",
       "      background-color: #3B4455;\n",
       "      fill: #D2E3FC;\n",
       "    }\n",
       "\n",
       "    [theme=dark] .colab-df-convert:hover {\n",
       "      background-color: #434B5C;\n",
       "      box-shadow: 0px 1px 3px 1px rgba(0, 0, 0, 0.15);\n",
       "      filter: drop-shadow(0px 1px 2px rgba(0, 0, 0, 0.3));\n",
       "      fill: #FFFFFF;\n",
       "    }\n",
       "  </style>\n",
       "\n",
       "      <script>\n",
       "        const buttonEl =\n",
       "          document.querySelector('#df-bd2f73af-aa7b-4ae2-833d-543509688756 button.colab-df-convert');\n",
       "        buttonEl.style.display =\n",
       "          google.colab.kernel.accessAllowed ? 'block' : 'none';\n",
       "\n",
       "        async function convertToInteractive(key) {\n",
       "          const element = document.querySelector('#df-bd2f73af-aa7b-4ae2-833d-543509688756');\n",
       "          const dataTable =\n",
       "            await google.colab.kernel.invokeFunction('convertToInteractive',\n",
       "                                                     [key], {});\n",
       "          if (!dataTable) return;\n",
       "\n",
       "          const docLinkHtml = 'Like what you see? Visit the ' +\n",
       "            '<a target=\"_blank\" href=https://colab.research.google.com/notebooks/data_table.ipynb>data table notebook</a>'\n",
       "            + ' to learn more about interactive tables.';\n",
       "          element.innerHTML = '';\n",
       "          dataTable['output_type'] = 'display_data';\n",
       "          await google.colab.output.renderOutput(dataTable, element);\n",
       "          const docLink = document.createElement('div');\n",
       "          docLink.innerHTML = docLinkHtml;\n",
       "          element.appendChild(docLink);\n",
       "        }\n",
       "      </script>\n",
       "    </div>\n",
       "  </div>\n",
       "  "
      ],
      "text/plain": [
       "                           ActualUseCount  ActualUseCountFraud  \\\n",
       "ATM                                   125                   31   \n",
       "Day to date                            39                   13   \n",
       "Friends and Family                     26                   11   \n",
       "Receiving and Withdrawing              26                   11   \n",
       "\n",
       "                           DeclaredUseCount  DeclaredUseCountFraud  \n",
       "ATM                                      75                     22  \n",
       "Day to date                              71                     20  \n",
       "Friends and Family                       52                     18  \n",
       "Receiving and Withdrawing                18                      6  "
      ]
     },
     "execution_count": 35,
     "metadata": {},
     "output_type": "execute_result"
    }
   ],
   "source": [
    "AccUseData = pd.DataFrame({'ActualUseCount' :data['Actual Use'].value_counts().values,\n",
    "              'ActualUseCountFraud' : data[data['Fraud Confirmed'] == 'YES']['Actual Use'].value_counts().values,\n",
    "               'DeclaredUseCount' :data['Declared Use'].value_counts().values,\n",
    "              'DeclaredUseCountFraud' : data[data['Fraud Confirmed'] == 'YES']['Declared Use'].value_counts().values,        \n",
    "                       },\n",
    "             index= data['Actual Use'].value_counts().index)\n",
    "AccUseData"
   ]
  },
  {
   "cell_type": "code",
   "execution_count": 36,
   "id": "dying-timeline",
   "metadata": {
    "ExecuteTime": {
     "end_time": "2022-04-08T16:09:35.328420Z",
     "start_time": "2022-04-08T16:09:34.030272Z"
    },
    "colab": {
     "base_uri": "https://localhost:8080/",
     "height": 175
    },
    "id": "dying-timeline",
    "outputId": "d8b13126-fb5e-44a8-fba0-d770eb74a7ca"
   },
   "outputs": [
    {
     "data": {
      "text/html": [
       "\n",
       "  <div id=\"df-df6fd234-502a-4e35-b72d-046c03686b5e\">\n",
       "    <div class=\"colab-df-container\">\n",
       "      <div>\n",
       "<style scoped>\n",
       "    .dataframe tbody tr th:only-of-type {\n",
       "        vertical-align: middle;\n",
       "    }\n",
       "\n",
       "    .dataframe tbody tr th {\n",
       "        vertical-align: top;\n",
       "    }\n",
       "\n",
       "    .dataframe thead th {\n",
       "        text-align: right;\n",
       "    }\n",
       "</style>\n",
       "<table border=\"1\" class=\"dataframe\">\n",
       "  <thead>\n",
       "    <tr style=\"text-align: right;\">\n",
       "      <th></th>\n",
       "      <th>ActualUseCount</th>\n",
       "      <th>ActualUseCountFraud</th>\n",
       "      <th>DeclaredUseCount</th>\n",
       "      <th>DeclaredUseCountFraud</th>\n",
       "      <th>ActualUseFraudPerc</th>\n",
       "      <th>DeclaredUseFraudPerc</th>\n",
       "    </tr>\n",
       "  </thead>\n",
       "  <tbody>\n",
       "    <tr>\n",
       "      <th>ATM</th>\n",
       "      <td>125</td>\n",
       "      <td>31</td>\n",
       "      <td>75</td>\n",
       "      <td>22</td>\n",
       "      <td>0.248000</td>\n",
       "      <td>0.293333</td>\n",
       "    </tr>\n",
       "    <tr>\n",
       "      <th>Day to date</th>\n",
       "      <td>39</td>\n",
       "      <td>13</td>\n",
       "      <td>71</td>\n",
       "      <td>20</td>\n",
       "      <td>0.333333</td>\n",
       "      <td>0.281690</td>\n",
       "    </tr>\n",
       "    <tr>\n",
       "      <th>Friends and Family</th>\n",
       "      <td>26</td>\n",
       "      <td>11</td>\n",
       "      <td>52</td>\n",
       "      <td>18</td>\n",
       "      <td>0.423077</td>\n",
       "      <td>0.346154</td>\n",
       "    </tr>\n",
       "    <tr>\n",
       "      <th>Receiving and Withdrawing</th>\n",
       "      <td>26</td>\n",
       "      <td>11</td>\n",
       "      <td>18</td>\n",
       "      <td>6</td>\n",
       "      <td>0.423077</td>\n",
       "      <td>0.333333</td>\n",
       "    </tr>\n",
       "  </tbody>\n",
       "</table>\n",
       "</div>\n",
       "      <button class=\"colab-df-convert\" onclick=\"convertToInteractive('df-df6fd234-502a-4e35-b72d-046c03686b5e')\"\n",
       "              title=\"Convert this dataframe to an interactive table.\"\n",
       "              style=\"display:none;\">\n",
       "        \n",
       "  <svg xmlns=\"http://www.w3.org/2000/svg\" height=\"24px\"viewBox=\"0 0 24 24\"\n",
       "       width=\"24px\">\n",
       "    <path d=\"M0 0h24v24H0V0z\" fill=\"none\"/>\n",
       "    <path d=\"M18.56 5.44l.94 2.06.94-2.06 2.06-.94-2.06-.94-.94-2.06-.94 2.06-2.06.94zm-11 1L8.5 8.5l.94-2.06 2.06-.94-2.06-.94L8.5 2.5l-.94 2.06-2.06.94zm10 10l.94 2.06.94-2.06 2.06-.94-2.06-.94-.94-2.06-.94 2.06-2.06.94z\"/><path d=\"M17.41 7.96l-1.37-1.37c-.4-.4-.92-.59-1.43-.59-.52 0-1.04.2-1.43.59L10.3 9.45l-7.72 7.72c-.78.78-.78 2.05 0 2.83L4 21.41c.39.39.9.59 1.41.59.51 0 1.02-.2 1.41-.59l7.78-7.78 2.81-2.81c.8-.78.8-2.07 0-2.86zM5.41 20L4 18.59l7.72-7.72 1.47 1.35L5.41 20z\"/>\n",
       "  </svg>\n",
       "      </button>\n",
       "      \n",
       "  <style>\n",
       "    .colab-df-container {\n",
       "      display:flex;\n",
       "      flex-wrap:wrap;\n",
       "      gap: 12px;\n",
       "    }\n",
       "\n",
       "    .colab-df-convert {\n",
       "      background-color: #E8F0FE;\n",
       "      border: none;\n",
       "      border-radius: 50%;\n",
       "      cursor: pointer;\n",
       "      display: none;\n",
       "      fill: #1967D2;\n",
       "      height: 32px;\n",
       "      padding: 0 0 0 0;\n",
       "      width: 32px;\n",
       "    }\n",
       "\n",
       "    .colab-df-convert:hover {\n",
       "      background-color: #E2EBFA;\n",
       "      box-shadow: 0px 1px 2px rgba(60, 64, 67, 0.3), 0px 1px 3px 1px rgba(60, 64, 67, 0.15);\n",
       "      fill: #174EA6;\n",
       "    }\n",
       "\n",
       "    [theme=dark] .colab-df-convert {\n",
       "      background-color: #3B4455;\n",
       "      fill: #D2E3FC;\n",
       "    }\n",
       "\n",
       "    [theme=dark] .colab-df-convert:hover {\n",
       "      background-color: #434B5C;\n",
       "      box-shadow: 0px 1px 3px 1px rgba(0, 0, 0, 0.15);\n",
       "      filter: drop-shadow(0px 1px 2px rgba(0, 0, 0, 0.3));\n",
       "      fill: #FFFFFF;\n",
       "    }\n",
       "  </style>\n",
       "\n",
       "      <script>\n",
       "        const buttonEl =\n",
       "          document.querySelector('#df-df6fd234-502a-4e35-b72d-046c03686b5e button.colab-df-convert');\n",
       "        buttonEl.style.display =\n",
       "          google.colab.kernel.accessAllowed ? 'block' : 'none';\n",
       "\n",
       "        async function convertToInteractive(key) {\n",
       "          const element = document.querySelector('#df-df6fd234-502a-4e35-b72d-046c03686b5e');\n",
       "          const dataTable =\n",
       "            await google.colab.kernel.invokeFunction('convertToInteractive',\n",
       "                                                     [key], {});\n",
       "          if (!dataTable) return;\n",
       "\n",
       "          const docLinkHtml = 'Like what you see? Visit the ' +\n",
       "            '<a target=\"_blank\" href=https://colab.research.google.com/notebooks/data_table.ipynb>data table notebook</a>'\n",
       "            + ' to learn more about interactive tables.';\n",
       "          element.innerHTML = '';\n",
       "          dataTable['output_type'] = 'display_data';\n",
       "          await google.colab.output.renderOutput(dataTable, element);\n",
       "          const docLink = document.createElement('div');\n",
       "          docLink.innerHTML = docLinkHtml;\n",
       "          element.appendChild(docLink);\n",
       "        }\n",
       "      </script>\n",
       "    </div>\n",
       "  </div>\n",
       "  "
      ],
      "text/plain": [
       "                           ActualUseCount  ActualUseCountFraud  \\\n",
       "ATM                                   125                   31   \n",
       "Day to date                            39                   13   \n",
       "Friends and Family                     26                   11   \n",
       "Receiving and Withdrawing              26                   11   \n",
       "\n",
       "                           DeclaredUseCount  DeclaredUseCountFraud  \\\n",
       "ATM                                      75                     22   \n",
       "Day to date                              71                     20   \n",
       "Friends and Family                       52                     18   \n",
       "Receiving and Withdrawing                18                      6   \n",
       "\n",
       "                           ActualUseFraudPerc  DeclaredUseFraudPerc  \n",
       "ATM                                  0.248000              0.293333  \n",
       "Day to date                          0.333333              0.281690  \n",
       "Friends and Family                   0.423077              0.346154  \n",
       "Receiving and Withdrawing            0.423077              0.333333  "
      ]
     },
     "execution_count": 36,
     "metadata": {},
     "output_type": "execute_result"
    }
   ],
   "source": [
    "AccUseData['ActualUseFraudPerc'] = AccUseData['ActualUseCountFraud'] / AccUseData['ActualUseCount']\n",
    "AccUseData['DeclaredUseFraudPerc'] = AccUseData['DeclaredUseCountFraud'] / AccUseData['DeclaredUseCount']\n",
    "AccUseData"
   ]
  },
  {
   "cell_type": "markdown",
   "id": "otherwise-subsection",
   "metadata": {
    "id": "otherwise-subsection"
   },
   "source": [
    "### From the above results it is clear that customers with account use as \"Friends and Family\" and \"Receiveing and Withdrawing\" have more frauds confirmed."
   ]
  },
  {
   "cell_type": "markdown",
   "id": "caring-guatemala",
   "metadata": {
    "id": "caring-guatemala"
   },
   "source": [
    "## 7. Is Email Domain related to fraud ?"
   ]
  },
  {
   "cell_type": "code",
   "execution_count": 37,
   "id": "generic-share",
   "metadata": {
    "ExecuteTime": {
     "end_time": "2022-04-08T16:09:35.376414Z",
     "start_time": "2022-04-08T16:09:35.335404Z"
    },
    "id": "generic-share"
   },
   "outputs": [],
   "source": [
    "data[\"EmailDomain\"] = data[\"Email\"].str.split(\"@\", 1, expand=True)[1]"
   ]
  },
  {
   "cell_type": "code",
   "execution_count": 38,
   "id": "measured-ability",
   "metadata": {
    "ExecuteTime": {
     "end_time": "2022-04-08T16:09:36.286412Z",
     "start_time": "2022-04-08T16:09:35.387402Z"
    },
    "colab": {
     "base_uri": "https://localhost:8080/",
     "height": 517
    },
    "id": "measured-ability",
    "outputId": "56d87c07-36bc-43fd-e232-931a0a1e3c11"
   },
   "outputs": [
    {
     "data": {
      "image/png": "[encoded data removed]",
      "text/plain": [
       "<Figure size 1080x576 with 1 Axes>"
      ]
     },
     "metadata": {},
     "output_type": "display_data"
    }
   ],
   "source": [
    "plt.figure(figsize=((15,8)))\n",
    "ax = sns.countplot( x = 'Fraud Confirmed', hue = 'EmailDomain' , data = data)\n",
    "plt.title(f\"Count of Customers with Email Domain and Fraud Confirmed\")\n",
    "plt.show()"
   ]
  },
  {
   "cell_type": "code",
   "execution_count": 39,
   "id": "rising-strip",
   "metadata": {
    "ExecuteTime": {
     "end_time": "2022-04-08T16:09:36.318405Z",
     "start_time": "2022-04-08T16:09:36.290409Z"
    },
    "colab": {
     "base_uri": "https://localhost:8080/",
     "height": 488
    },
    "id": "rising-strip",
    "outputId": "ab1bdde4-19f3-4a79-d557-990e42a61643"
   },
   "outputs": [
    {
     "data": {
      "text/html": [
       "\n",
       "  <div id=\"df-20495f1a-1aef-4674-8538-259793bef459\">\n",
       "    <div class=\"colab-df-container\">\n",
       "      <div>\n",
       "<style scoped>\n",
       "    .dataframe tbody tr th:only-of-type {\n",
       "        vertical-align: middle;\n",
       "    }\n",
       "\n",
       "    .dataframe tbody tr th {\n",
       "        vertical-align: top;\n",
       "    }\n",
       "\n",
       "    .dataframe thead th {\n",
       "        text-align: right;\n",
       "    }\n",
       "</style>\n",
       "<table border=\"1\" class=\"dataframe\">\n",
       "  <thead>\n",
       "    <tr style=\"text-align: right;\">\n",
       "      <th></th>\n",
       "      <th>EmailDomainCount</th>\n",
       "      <th>EmailDomainCountFraud</th>\n",
       "    </tr>\n",
       "  </thead>\n",
       "  <tbody>\n",
       "    <tr>\n",
       "      <th>live.com</th>\n",
       "      <td>30</td>\n",
       "      <td>11</td>\n",
       "    </tr>\n",
       "    <tr>\n",
       "      <th>icloud.com</th>\n",
       "      <td>25</td>\n",
       "      <td>8</td>\n",
       "    </tr>\n",
       "    <tr>\n",
       "      <th>mac.com</th>\n",
       "      <td>24</td>\n",
       "      <td>6</td>\n",
       "    </tr>\n",
       "    <tr>\n",
       "      <th>verizon.net</th>\n",
       "      <td>18</td>\n",
       "      <td>6</td>\n",
       "    </tr>\n",
       "    <tr>\n",
       "      <th>comcast.net</th>\n",
       "      <td>18</td>\n",
       "      <td>5</td>\n",
       "    </tr>\n",
       "    <tr>\n",
       "      <th>hotmail.com</th>\n",
       "      <td>14</td>\n",
       "      <td>4</td>\n",
       "    </tr>\n",
       "    <tr>\n",
       "      <th>gmail.it</th>\n",
       "      <td>13</td>\n",
       "      <td>4</td>\n",
       "    </tr>\n",
       "    <tr>\n",
       "      <th>sbcglobal.net</th>\n",
       "      <td>13</td>\n",
       "      <td>4</td>\n",
       "    </tr>\n",
       "    <tr>\n",
       "      <th>yahoo.com</th>\n",
       "      <td>13</td>\n",
       "      <td>4</td>\n",
       "    </tr>\n",
       "    <tr>\n",
       "      <th>msn.com</th>\n",
       "      <td>12</td>\n",
       "      <td>4</td>\n",
       "    </tr>\n",
       "    <tr>\n",
       "      <th>yahoo.ca</th>\n",
       "      <td>12</td>\n",
       "      <td>3</td>\n",
       "    </tr>\n",
       "    <tr>\n",
       "      <th>me.com</th>\n",
       "      <td>12</td>\n",
       "      <td>3</td>\n",
       "    </tr>\n",
       "    <tr>\n",
       "      <th>outlook.com</th>\n",
       "      <td>8</td>\n",
       "      <td>2</td>\n",
       "    </tr>\n",
       "    <tr>\n",
       "      <th>gmail.com</th>\n",
       "      <td>4</td>\n",
       "      <td>2</td>\n",
       "    </tr>\n",
       "  </tbody>\n",
       "</table>\n",
       "</div>\n",
       "      <button class=\"colab-df-convert\" onclick=\"convertToInteractive('df-20495f1a-1aef-4674-8538-259793bef459')\"\n",
       "              title=\"Convert this dataframe to an interactive table.\"\n",
       "              style=\"display:none;\">\n",
       "        \n",
       "  <svg xmlns=\"http://www.w3.org/2000/svg\" height=\"24px\"viewBox=\"0 0 24 24\"\n",
       "       width=\"24px\">\n",
       "    <path d=\"M0 0h24v24H0V0z\" fill=\"none\"/>\n",
       "    <path d=\"M18.56 5.44l.94 2.06.94-2.06 2.06-.94-2.06-.94-.94-2.06-.94 2.06-2.06.94zm-11 1L8.5 8.5l.94-2.06 2.06-.94-2.06-.94L8.5 2.5l-.94 2.06-2.06.94zm10 10l.94 2.06.94-2.06 2.06-.94-2.06-.94-.94-2.06-.94 2.06-2.06.94z\"/><path d=\"M17.41 7.96l-1.37-1.37c-.4-.4-.92-.59-1.43-.59-.52 0-1.04.2-1.43.59L10.3 9.45l-7.72 7.72c-.78.78-.78 2.05 0 2.83L4 21.41c.39.39.9.59 1.41.59.51 0 1.02-.2 1.41-.59l7.78-7.78 2.81-2.81c.8-.78.8-2.07 0-2.86zM5.41 20L4 18.59l7.72-7.72 1.47 1.35L5.41 20z\"/>\n",
       "  </svg>\n",
       "      </button>\n",
       "      \n",
       "  <style>\n",
       "    .colab-df-container {\n",
       "      display:flex;\n",
       "      flex-wrap:wrap;\n",
       "      gap: 12px;\n",
       "    }\n",
       "\n",
       "    .colab-df-convert {\n",
       "      background-color: #E8F0FE;\n",
       "      border: none;\n",
       "      border-radius: 50%;\n",
       "      cursor: pointer;\n",
       "      display: none;\n",
       "      fill: #1967D2;\n",
       "      height: 32px;\n",
       "      padding: 0 0 0 0;\n",
       "      width: 32px;\n",
       "    }\n",
       "\n",
       "    .colab-df-convert:hover {\n",
       "      background-color: #E2EBFA;\n",
       "      box-shadow: 0px 1px 2px rgba(60, 64, 67, 0.3), 0px 1px 3px 1px rgba(60, 64, 67, 0.15);\n",
       "      fill: #174EA6;\n",
       "    }\n",
       "\n",
       "    [theme=dark] .colab-df-convert {\n",
       "      background-color: #3B4455;\n",
       "      fill: #D2E3FC;\n",
       "    }\n",
       "\n",
       "    [theme=dark] .colab-df-convert:hover {\n",
       "      background-color: #434B5C;\n",
       "      box-shadow: 0px 1px 3px 1px rgba(0, 0, 0, 0.15);\n",
       "      filter: drop-shadow(0px 1px 2px rgba(0, 0, 0, 0.3));\n",
       "      fill: #FFFFFF;\n",
       "    }\n",
       "  </style>\n",
       "\n",
       "      <script>\n",
       "        const buttonEl =\n",
       "          document.querySelector('#df-20495f1a-1aef-4674-8538-259793bef459 button.colab-df-convert');\n",
       "        buttonEl.style.display =\n",
       "          google.colab.kernel.accessAllowed ? 'block' : 'none';\n",
       "\n",
       "        async function convertToInteractive(key) {\n",
       "          const element = document.querySelector('#df-20495f1a-1aef-4674-8538-259793bef459');\n",
       "          const dataTable =\n",
       "            await google.colab.kernel.invokeFunction('convertToInteractive',\n",
       "                                                     [key], {});\n",
       "          if (!dataTable) return;\n",
       "\n",
       "          const docLinkHtml = 'Like what you see? Visit the ' +\n",
       "            '<a target=\"_blank\" href=https://colab.research.google.com/notebooks/data_table.ipynb>data table notebook</a>'\n",
       "            + ' to learn more about interactive tables.';\n",
       "          element.innerHTML = '';\n",
       "          dataTable['output_type'] = 'display_data';\n",
       "          await google.colab.output.renderOutput(dataTable, element);\n",
       "          const docLink = document.createElement('div');\n",
       "          docLink.innerHTML = docLinkHtml;\n",
       "          element.appendChild(docLink);\n",
       "        }\n",
       "      </script>\n",
       "    </div>\n",
       "  </div>\n",
       "  "
      ],
      "text/plain": [
       "               EmailDomainCount  EmailDomainCountFraud\n",
       "live.com                     30                     11\n",
       "icloud.com                   25                      8\n",
       "mac.com                      24                      6\n",
       "verizon.net                  18                      6\n",
       "comcast.net                  18                      5\n",
       "hotmail.com                  14                      4\n",
       "gmail.it                     13                      4\n",
       "sbcglobal.net                13                      4\n",
       "yahoo.com                    13                      4\n",
       "msn.com                      12                      4\n",
       "yahoo.ca                     12                      3\n",
       "me.com                       12                      3\n",
       "outlook.com                   8                      2\n",
       "gmail.com                     4                      2"
      ]
     },
     "execution_count": 39,
     "metadata": {},
     "output_type": "execute_result"
    }
   ],
   "source": [
    "EmailDomainData = pd.DataFrame({'EmailDomainCount' :data['EmailDomain'].value_counts().values,\n",
    "              'EmailDomainCountFraud' : data[data['Fraud Confirmed'] == 'YES']['EmailDomain'].value_counts().values,\n",
    "                    \n",
    "                       },\n",
    "             index= data['EmailDomain'].value_counts().index)\n",
    "EmailDomainData"
   ]
  },
  {
   "cell_type": "code",
   "execution_count": 40,
   "id": "derived-jimmy",
   "metadata": {
    "ExecuteTime": {
     "end_time": "2022-04-08T16:09:37.461991Z",
     "start_time": "2022-04-08T16:09:36.324399Z"
    },
    "colab": {
     "base_uri": "https://localhost:8080/",
     "height": 488
    },
    "id": "derived-jimmy",
    "outputId": "66b050c2-7714-4712-864b-4353570a45e5"
   },
   "outputs": [
    {
     "data": {
      "text/html": [
       "\n",
       "  <div id=\"df-62d21ae5-8771-42cc-ae4f-44a670ae24f6\">\n",
       "    <div class=\"colab-df-container\">\n",
       "      <div>\n",
       "<style scoped>\n",
       "    .dataframe tbody tr th:only-of-type {\n",
       "        vertical-align: middle;\n",
       "    }\n",
       "\n",
       "    .dataframe tbody tr th {\n",
       "        vertical-align: top;\n",
       "    }\n",
       "\n",
       "    .dataframe thead th {\n",
       "        text-align: right;\n",
       "    }\n",
       "</style>\n",
       "<table border=\"1\" class=\"dataframe\">\n",
       "  <thead>\n",
       "    <tr style=\"text-align: right;\">\n",
       "      <th></th>\n",
       "      <th>EmailDomainCount</th>\n",
       "      <th>EmailDomainCountFraud</th>\n",
       "      <th>FraudPerc</th>\n",
       "    </tr>\n",
       "  </thead>\n",
       "  <tbody>\n",
       "    <tr>\n",
       "      <th>gmail.com</th>\n",
       "      <td>4</td>\n",
       "      <td>2</td>\n",
       "      <td>0.500000</td>\n",
       "    </tr>\n",
       "    <tr>\n",
       "      <th>live.com</th>\n",
       "      <td>30</td>\n",
       "      <td>11</td>\n",
       "      <td>0.366667</td>\n",
       "    </tr>\n",
       "    <tr>\n",
       "      <th>verizon.net</th>\n",
       "      <td>18</td>\n",
       "      <td>6</td>\n",
       "      <td>0.333333</td>\n",
       "    </tr>\n",
       "    <tr>\n",
       "      <th>msn.com</th>\n",
       "      <td>12</td>\n",
       "      <td>4</td>\n",
       "      <td>0.333333</td>\n",
       "    </tr>\n",
       "    <tr>\n",
       "      <th>icloud.com</th>\n",
       "      <td>25</td>\n",
       "      <td>8</td>\n",
       "      <td>0.320000</td>\n",
       "    </tr>\n",
       "    <tr>\n",
       "      <th>gmail.it</th>\n",
       "      <td>13</td>\n",
       "      <td>4</td>\n",
       "      <td>0.307692</td>\n",
       "    </tr>\n",
       "    <tr>\n",
       "      <th>sbcglobal.net</th>\n",
       "      <td>13</td>\n",
       "      <td>4</td>\n",
       "      <td>0.307692</td>\n",
       "    </tr>\n",
       "    <tr>\n",
       "      <th>yahoo.com</th>\n",
       "      <td>13</td>\n",
       "      <td>4</td>\n",
       "      <td>0.307692</td>\n",
       "    </tr>\n",
       "    <tr>\n",
       "      <th>hotmail.com</th>\n",
       "      <td>14</td>\n",
       "      <td>4</td>\n",
       "      <td>0.285714</td>\n",
       "    </tr>\n",
       "    <tr>\n",
       "      <th>comcast.net</th>\n",
       "      <td>18</td>\n",
       "      <td>5</td>\n",
       "      <td>0.277778</td>\n",
       "    </tr>\n",
       "    <tr>\n",
       "      <th>mac.com</th>\n",
       "      <td>24</td>\n",
       "      <td>6</td>\n",
       "      <td>0.250000</td>\n",
       "    </tr>\n",
       "    <tr>\n",
       "      <th>yahoo.ca</th>\n",
       "      <td>12</td>\n",
       "      <td>3</td>\n",
       "      <td>0.250000</td>\n",
       "    </tr>\n",
       "    <tr>\n",
       "      <th>me.com</th>\n",
       "      <td>12</td>\n",
       "      <td>3</td>\n",
       "      <td>0.250000</td>\n",
       "    </tr>\n",
       "    <tr>\n",
       "      <th>outlook.com</th>\n",
       "      <td>8</td>\n",
       "      <td>2</td>\n",
       "      <td>0.250000</td>\n",
       "    </tr>\n",
       "  </tbody>\n",
       "</table>\n",
       "</div>\n",
       "      <button class=\"colab-df-convert\" onclick=\"convertToInteractive('df-62d21ae5-8771-42cc-ae4f-44a670ae24f6')\"\n",
       "              title=\"Convert this dataframe to an interactive table.\"\n",
       "              style=\"display:none;\">\n",
       "        \n",
       "  <svg xmlns=\"http://www.w3.org/2000/svg\" height=\"24px\"viewBox=\"0 0 24 24\"\n",
       "       width=\"24px\">\n",
       "    <path d=\"M0 0h24v24H0V0z\" fill=\"none\"/>\n",
       "    <path d=\"M18.56 5.44l.94 2.06.94-2.06 2.06-.94-2.06-.94-.94-2.06-.94 2.06-2.06.94zm-11 1L8.5 8.5l.94-2.06 2.06-.94-2.06-.94L8.5 2.5l-.94 2.06-2.06.94zm10 10l.94 2.06.94-2.06 2.06-.94-2.06-.94-.94-2.06-.94 2.06-2.06.94z\"/><path d=\"M17.41 7.96l-1.37-1.37c-.4-.4-.92-.59-1.43-.59-.52 0-1.04.2-1.43.59L10.3 9.45l-7.72 7.72c-.78.78-.78 2.05 0 2.83L4 21.41c.39.39.9.59 1.41.59.51 0 1.02-.2 1.41-.59l7.78-7.78 2.81-2.81c.8-.78.8-2.07 0-2.86zM5.41 20L4 18.59l7.72-7.72 1.47 1.35L5.41 20z\"/>\n",
       "  </svg>\n",
       "      </button>\n",
       "      \n",
       "  <style>\n",
       "    .colab-df-container {\n",
       "      display:flex;\n",
       "      flex-wrap:wrap;\n",
       "      gap: 12px;\n",
       "    }\n",
       "\n",
       "    .colab-df-convert {\n",
       "      background-color: #E8F0FE;\n",
       "      border: none;\n",
       "      border-radius: 50%;\n",
       "      cursor: pointer;\n",
       "      display: none;\n",
       "      fill: #1967D2;\n",
       "      height: 32px;\n",
       "      padding: 0 0 0 0;\n",
       "      width: 32px;\n",
       "    }\n",
       "\n",
       "    .colab-df-convert:hover {\n",
       "      background-color: #E2EBFA;\n",
       "      box-shadow: 0px 1px 2px rgba(60, 64, 67, 0.3), 0px 1px 3px 1px rgba(60, 64, 67, 0.15);\n",
       "      fill: #174EA6;\n",
       "    }\n",
       "\n",
       "    [theme=dark] .colab-df-convert {\n",
       "      background-color: #3B4455;\n",
       "      fill: #D2E3FC;\n",
       "    }\n",
       "\n",
       "    [theme=dark] .colab-df-convert:hover {\n",
       "      background-color: #434B5C;\n",
       "      box-shadow: 0px 1px 3px 1px rgba(0, 0, 0, 0.15);\n",
       "      filter: drop-shadow(0px 1px 2px rgba(0, 0, 0, 0.3));\n",
       "      fill: #FFFFFF;\n",
       "    }\n",
       "  </style>\n",
       "\n",
       "      <script>\n",
       "        const buttonEl =\n",
       "          document.querySelector('#df-62d21ae5-8771-42cc-ae4f-44a670ae24f6 button.colab-df-convert');\n",
       "        buttonEl.style.display =\n",
       "          google.colab.kernel.accessAllowed ? 'block' : 'none';\n",
       "\n",
       "        async function convertToInteractive(key) {\n",
       "          const element = document.querySelector('#df-62d21ae5-8771-42cc-ae4f-44a670ae24f6');\n",
       "          const dataTable =\n",
       "            await google.colab.kernel.invokeFunction('convertToInteractive',\n",
       "                                                     [key], {});\n",
       "          if (!dataTable) return;\n",
       "\n",
       "          const docLinkHtml = 'Like what you see? Visit the ' +\n",
       "            '<a target=\"_blank\" href=https://colab.research.google.com/notebooks/data_table.ipynb>data table notebook</a>'\n",
       "            + ' to learn more about interactive tables.';\n",
       "          element.innerHTML = '';\n",
       "          dataTable['output_type'] = 'display_data';\n",
       "          await google.colab.output.renderOutput(dataTable, element);\n",
       "          const docLink = document.createElement('div');\n",
       "          docLink.innerHTML = docLinkHtml;\n",
       "          element.appendChild(docLink);\n",
       "        }\n",
       "      </script>\n",
       "    </div>\n",
       "  </div>\n",
       "  "
      ],
      "text/plain": [
       "               EmailDomainCount  EmailDomainCountFraud  FraudPerc\n",
       "gmail.com                     4                      2   0.500000\n",
       "live.com                     30                     11   0.366667\n",
       "verizon.net                  18                      6   0.333333\n",
       "msn.com                      12                      4   0.333333\n",
       "icloud.com                   25                      8   0.320000\n",
       "gmail.it                     13                      4   0.307692\n",
       "sbcglobal.net                13                      4   0.307692\n",
       "yahoo.com                    13                      4   0.307692\n",
       "hotmail.com                  14                      4   0.285714\n",
       "comcast.net                  18                      5   0.277778\n",
       "mac.com                      24                      6   0.250000\n",
       "yahoo.ca                     12                      3   0.250000\n",
       "me.com                       12                      3   0.250000\n",
       "outlook.com                   8                      2   0.250000"
      ]
     },
     "execution_count": 40,
     "metadata": {},
     "output_type": "execute_result"
    }
   ],
   "source": [
    "EmailDomainData['FraudPerc'] = EmailDomainData['EmailDomainCountFraud']/EmailDomainData['EmailDomainCount']\n",
    "EmailDomainData.sort_values(by='FraudPerc' , ascending=False)"
   ]
  },
  {
   "cell_type": "markdown",
   "id": "experimental-consultation",
   "metadata": {
    "id": "experimental-consultation"
   },
   "source": [
    "### Customers with Email domain as \"gmail.com and live.com\" are more with comfirmed fraud. <br>Where there are more than 25% of customers from all other email domains who have comfirmed with fraud."
   ]
  },
  {
   "cell_type": "markdown",
   "id": "proper-baking",
   "metadata": {
    "id": "proper-baking"
   },
   "source": [
    "### Saving Cleaned Data"
   ]
  },
  {
   "cell_type": "code",
   "execution_count": 41,
   "id": "constant-indie",
   "metadata": {
    "ExecuteTime": {
     "end_time": "2022-04-08T16:09:37.493991Z",
     "start_time": "2022-04-08T16:09:37.466983Z"
    },
    "id": "constant-indie"
   },
   "outputs": [],
   "source": [
    "data.to_csv(path+\"Cleaned_Data.csv\", index=False)"
   ]
  },
  {
   "cell_type": "markdown",
   "id": "lesbian-hybrid",
   "metadata": {
    "id": "lesbian-hybrid"
   },
   "source": [
    "## Data Preprocessing"
   ]
  },
  {
   "cell_type": "code",
   "execution_count": 42,
   "id": "WqBJSf8NQJqZ",
   "metadata": {
    "colab": {
     "base_uri": "https://localhost:8080/",
     "height": 696
    },
    "id": "WqBJSf8NQJqZ",
    "outputId": "037768fd-e46d-4231-fb46-b974a8a7a34b"
   },
   "outputs": [
    {
     "data": {
      "text/html": [
       "\n",
       "  <div id=\"df-e682a1c4-4894-4b0a-ba43-e48144e9a523\">\n",
       "    <div class=\"colab-df-container\">\n",
       "      <div>\n",
       "<style scoped>\n",
       "    .dataframe tbody tr th:only-of-type {\n",
       "        vertical-align: middle;\n",
       "    }\n",
       "\n",
       "    .dataframe tbody tr th {\n",
       "        vertical-align: top;\n",
       "    }\n",
       "\n",
       "    .dataframe thead th {\n",
       "        text-align: right;\n",
       "    }\n",
       "</style>\n",
       "<table border=\"1\" class=\"dataframe\">\n",
       "  <thead>\n",
       "    <tr style=\"text-align: right;\">\n",
       "      <th></th>\n",
       "      <th>Post code</th>\n",
       "      <th>ID Type</th>\n",
       "      <th>Email</th>\n",
       "      <th>Location</th>\n",
       "      <th>Number of Devices</th>\n",
       "      <th>Age</th>\n",
       "      <th>Crypto Use</th>\n",
       "      <th>ATM use</th>\n",
       "      <th>Declared Use</th>\n",
       "      <th>Declared Turnover</th>\n",
       "      <th>Actual Use</th>\n",
       "      <th>Actual Turnover</th>\n",
       "      <th>Months Active</th>\n",
       "      <th>Fraud Confirmed</th>\n",
       "      <th>AgeRange</th>\n",
       "      <th>TurnoverDiffStatus</th>\n",
       "      <th>TurnoverDiff</th>\n",
       "      <th>AccUseDiff</th>\n",
       "      <th>EmailDomain</th>\n",
       "    </tr>\n",
       "  </thead>\n",
       "  <tbody>\n",
       "    <tr>\n",
       "      <th>0</th>\n",
       "      <td>W1</td>\n",
       "      <td>Passport</td>\n",
       "      <td>jbrekke@gmail.com</td>\n",
       "      <td>UK</td>\n",
       "      <td>3.0</td>\n",
       "      <td>18</td>\n",
       "      <td>YES</td>\n",
       "      <td>NO</td>\n",
       "      <td>Day to date</td>\n",
       "      <td>20</td>\n",
       "      <td>Day to date</td>\n",
       "      <td>20</td>\n",
       "      <td>12.0</td>\n",
       "      <td>NO</td>\n",
       "      <td>&lt;30</td>\n",
       "      <td>Same</td>\n",
       "      <td>0</td>\n",
       "      <td>No</td>\n",
       "      <td>gmail.com</td>\n",
       "    </tr>\n",
       "    <tr>\n",
       "      <th>1</th>\n",
       "      <td>W2</td>\n",
       "      <td>Passport</td>\n",
       "      <td>sid23@verizon.net</td>\n",
       "      <td>Europe</td>\n",
       "      <td>3.0</td>\n",
       "      <td>19</td>\n",
       "      <td>YES</td>\n",
       "      <td>NO</td>\n",
       "      <td>Day to date</td>\n",
       "      <td>20</td>\n",
       "      <td>Day to date</td>\n",
       "      <td>30</td>\n",
       "      <td>3.0</td>\n",
       "      <td>NO</td>\n",
       "      <td>&lt;30</td>\n",
       "      <td>High</td>\n",
       "      <td>10</td>\n",
       "      <td>No</td>\n",
       "      <td>verizon.net</td>\n",
       "    </tr>\n",
       "    <tr>\n",
       "      <th>2</th>\n",
       "      <td>W3</td>\n",
       "      <td>Passport</td>\n",
       "      <td>wstark@mac.com</td>\n",
       "      <td>Other</td>\n",
       "      <td>3.0</td>\n",
       "      <td>20</td>\n",
       "      <td>YES</td>\n",
       "      <td>NO</td>\n",
       "      <td>Day to date</td>\n",
       "      <td>20</td>\n",
       "      <td>Day to date</td>\n",
       "      <td>40</td>\n",
       "      <td>3.0</td>\n",
       "      <td>NO</td>\n",
       "      <td>&lt;30</td>\n",
       "      <td>High</td>\n",
       "      <td>20</td>\n",
       "      <td>No</td>\n",
       "      <td>mac.com</td>\n",
       "    </tr>\n",
       "    <tr>\n",
       "      <th>3</th>\n",
       "      <td>W4</td>\n",
       "      <td>Passport</td>\n",
       "      <td>haven.gottlieb@comcast.net</td>\n",
       "      <td>High Risk Coutry</td>\n",
       "      <td>1.0</td>\n",
       "      <td>18</td>\n",
       "      <td>YES</td>\n",
       "      <td>NO</td>\n",
       "      <td>Day to date</td>\n",
       "      <td>20</td>\n",
       "      <td>ATM</td>\n",
       "      <td>20</td>\n",
       "      <td>3.0</td>\n",
       "      <td>YES</td>\n",
       "      <td>&lt;30</td>\n",
       "      <td>Same</td>\n",
       "      <td>0</td>\n",
       "      <td>Yes</td>\n",
       "      <td>comcast.net</td>\n",
       "    </tr>\n",
       "    <tr>\n",
       "      <th>4</th>\n",
       "      <td>W5</td>\n",
       "      <td>ID Card</td>\n",
       "      <td>qheidenreich@msn.com</td>\n",
       "      <td>High Risk Coutry</td>\n",
       "      <td>1.0</td>\n",
       "      <td>18</td>\n",
       "      <td>NO</td>\n",
       "      <td>NO</td>\n",
       "      <td>Day to date</td>\n",
       "      <td>30</td>\n",
       "      <td>ATM</td>\n",
       "      <td>70</td>\n",
       "      <td>2.0</td>\n",
       "      <td>YES</td>\n",
       "      <td>&lt;30</td>\n",
       "      <td>High</td>\n",
       "      <td>40</td>\n",
       "      <td>Yes</td>\n",
       "      <td>msn.com</td>\n",
       "    </tr>\n",
       "    <tr>\n",
       "      <th>...</th>\n",
       "      <td>...</td>\n",
       "      <td>...</td>\n",
       "      <td>...</td>\n",
       "      <td>...</td>\n",
       "      <td>...</td>\n",
       "      <td>...</td>\n",
       "      <td>...</td>\n",
       "      <td>...</td>\n",
       "      <td>...</td>\n",
       "      <td>...</td>\n",
       "      <td>...</td>\n",
       "      <td>...</td>\n",
       "      <td>...</td>\n",
       "      <td>...</td>\n",
       "      <td>...</td>\n",
       "      <td>...</td>\n",
       "      <td>...</td>\n",
       "      <td>...</td>\n",
       "      <td>...</td>\n",
       "    </tr>\n",
       "    <tr>\n",
       "      <th>211</th>\n",
       "      <td>W32</td>\n",
       "      <td>Driving licence Full</td>\n",
       "      <td>elinore.swaniawski@sbcglobal.net</td>\n",
       "      <td>UK</td>\n",
       "      <td>1.0</td>\n",
       "      <td>21</td>\n",
       "      <td>YES</td>\n",
       "      <td>NO</td>\n",
       "      <td>Receiving and Withdrawing</td>\n",
       "      <td>50</td>\n",
       "      <td>ATM</td>\n",
       "      <td>40</td>\n",
       "      <td>1.0</td>\n",
       "      <td>NO</td>\n",
       "      <td>&lt;30</td>\n",
       "      <td>Low</td>\n",
       "      <td>10</td>\n",
       "      <td>Yes</td>\n",
       "      <td>sbcglobal.net</td>\n",
       "    </tr>\n",
       "    <tr>\n",
       "      <th>212</th>\n",
       "      <td>W33</td>\n",
       "      <td>Driving licence Provisional</td>\n",
       "      <td>fheller@yahoo.com</td>\n",
       "      <td>Europe</td>\n",
       "      <td>1.0</td>\n",
       "      <td>22</td>\n",
       "      <td>NO</td>\n",
       "      <td>NO</td>\n",
       "      <td>Day to date</td>\n",
       "      <td>20</td>\n",
       "      <td>Friends and Family</td>\n",
       "      <td>20</td>\n",
       "      <td>2.0</td>\n",
       "      <td>NO</td>\n",
       "      <td>&lt;30</td>\n",
       "      <td>Same</td>\n",
       "      <td>0</td>\n",
       "      <td>Yes</td>\n",
       "      <td>yahoo.com</td>\n",
       "    </tr>\n",
       "    <tr>\n",
       "      <th>213</th>\n",
       "      <td>W34</td>\n",
       "      <td>Driving licence Provisional</td>\n",
       "      <td>predovic.syble@icloud.com</td>\n",
       "      <td>Other</td>\n",
       "      <td>3.0</td>\n",
       "      <td>21</td>\n",
       "      <td>NO</td>\n",
       "      <td>NO</td>\n",
       "      <td>Day to date</td>\n",
       "      <td>20</td>\n",
       "      <td>Receiving and Withdrawing</td>\n",
       "      <td>70</td>\n",
       "      <td>1.0</td>\n",
       "      <td>NO</td>\n",
       "      <td>&lt;30</td>\n",
       "      <td>High</td>\n",
       "      <td>50</td>\n",
       "      <td>Yes</td>\n",
       "      <td>icloud.com</td>\n",
       "    </tr>\n",
       "    <tr>\n",
       "      <th>214</th>\n",
       "      <td>W35</td>\n",
       "      <td>Passport</td>\n",
       "      <td>hahn.vivienne@comcast.net</td>\n",
       "      <td>High Risk Coutry</td>\n",
       "      <td>2.0</td>\n",
       "      <td>27</td>\n",
       "      <td>NO</td>\n",
       "      <td>YES</td>\n",
       "      <td>ATM</td>\n",
       "      <td>20</td>\n",
       "      <td>ATM</td>\n",
       "      <td>100</td>\n",
       "      <td>1.0</td>\n",
       "      <td>NO</td>\n",
       "      <td>&lt;30</td>\n",
       "      <td>High</td>\n",
       "      <td>80</td>\n",
       "      <td>No</td>\n",
       "      <td>comcast.net</td>\n",
       "    </tr>\n",
       "    <tr>\n",
       "      <th>215</th>\n",
       "      <td>W36</td>\n",
       "      <td>Passport</td>\n",
       "      <td>volkman.augustine@hotmail.com</td>\n",
       "      <td>High Risk Coutry</td>\n",
       "      <td>3.0</td>\n",
       "      <td>25</td>\n",
       "      <td>NO</td>\n",
       "      <td>YES</td>\n",
       "      <td>ATM</td>\n",
       "      <td>30</td>\n",
       "      <td>ATM</td>\n",
       "      <td>60</td>\n",
       "      <td>1.0</td>\n",
       "      <td>NO</td>\n",
       "      <td>&lt;30</td>\n",
       "      <td>High</td>\n",
       "      <td>30</td>\n",
       "      <td>No</td>\n",
       "      <td>hotmail.com</td>\n",
       "    </tr>\n",
       "  </tbody>\n",
       "</table>\n",
       "<p>216 rows × 19 columns</p>\n",
       "</div>\n",
       "      <button class=\"colab-df-convert\" onclick=\"convertToInteractive('df-e682a1c4-4894-4b0a-ba43-e48144e9a523')\"\n",
       "              title=\"Convert this dataframe to an interactive table.\"\n",
       "              style=\"display:none;\">\n",
       "        \n",
       "  <svg xmlns=\"http://www.w3.org/2000/svg\" height=\"24px\"viewBox=\"0 0 24 24\"\n",
       "       width=\"24px\">\n",
       "    <path d=\"M0 0h24v24H0V0z\" fill=\"none\"/>\n",
       "    <path d=\"M18.56 5.44l.94 2.06.94-2.06 2.06-.94-2.06-.94-.94-2.06-.94 2.06-2.06.94zm-11 1L8.5 8.5l.94-2.06 2.06-.94-2.06-.94L8.5 2.5l-.94 2.06-2.06.94zm10 10l.94 2.06.94-2.06 2.06-.94-2.06-.94-.94-2.06-.94 2.06-2.06.94z\"/><path d=\"M17.41 7.96l-1.37-1.37c-.4-.4-.92-.59-1.43-.59-.52 0-1.04.2-1.43.59L10.3 9.45l-7.72 7.72c-.78.78-.78 2.05 0 2.83L4 21.41c.39.39.9.59 1.41.59.51 0 1.02-.2 1.41-.59l7.78-7.78 2.81-2.81c.8-.78.8-2.07 0-2.86zM5.41 20L4 18.59l7.72-7.72 1.47 1.35L5.41 20z\"/>\n",
       "  </svg>\n",
       "      </button>\n",
       "      \n",
       "  <style>\n",
       "    .colab-df-container {\n",
       "      display:flex;\n",
       "      flex-wrap:wrap;\n",
       "      gap: 12px;\n",
       "    }\n",
       "\n",
       "    .colab-df-convert {\n",
       "      background-color: #E8F0FE;\n",
       "      border: none;\n",
       "      border-radius: 50%;\n",
       "      cursor: pointer;\n",
       "      display: none;\n",
       "      fill: #1967D2;\n",
       "      height: 32px;\n",
       "      padding: 0 0 0 0;\n",
       "      width: 32px;\n",
       "    }\n",
       "\n",
       "    .colab-df-convert:hover {\n",
       "      background-color: #E2EBFA;\n",
       "      box-shadow: 0px 1px 2px rgba(60, 64, 67, 0.3), 0px 1px 3px 1px rgba(60, 64, 67, 0.15);\n",
       "      fill: #174EA6;\n",
       "    }\n",
       "\n",
       "    [theme=dark] .colab-df-convert {\n",
       "      background-color: #3B4455;\n",
       "      fill: #D2E3FC;\n",
       "    }\n",
       "\n",
       "    [theme=dark] .colab-df-convert:hover {\n",
       "      background-color: #434B5C;\n",
       "      box-shadow: 0px 1px 3px 1px rgba(0, 0, 0, 0.15);\n",
       "      filter: drop-shadow(0px 1px 2px rgba(0, 0, 0, 0.3));\n",
       "      fill: #FFFFFF;\n",
       "    }\n",
       "  </style>\n",
       "\n",
       "      <script>\n",
       "        const buttonEl =\n",
       "          document.querySelector('#df-e682a1c4-4894-4b0a-ba43-e48144e9a523 button.colab-df-convert');\n",
       "        buttonEl.style.display =\n",
       "          google.colab.kernel.accessAllowed ? 'block' : 'none';\n",
       "\n",
       "        async function convertToInteractive(key) {\n",
       "          const element = document.querySelector('#df-e682a1c4-4894-4b0a-ba43-e48144e9a523');\n",
       "          const dataTable =\n",
       "            await google.colab.kernel.invokeFunction('convertToInteractive',\n",
       "                                                     [key], {});\n",
       "          if (!dataTable) return;\n",
       "\n",
       "          const docLinkHtml = 'Like what you see? Visit the ' +\n",
       "            '<a target=\"_blank\" href=https://colab.research.google.com/notebooks/data_table.ipynb>data table notebook</a>'\n",
       "            + ' to learn more about interactive tables.';\n",
       "          element.innerHTML = '';\n",
       "          dataTable['output_type'] = 'display_data';\n",
       "          await google.colab.output.renderOutput(dataTable, element);\n",
       "          const docLink = document.createElement('div');\n",
       "          docLink.innerHTML = docLinkHtml;\n",
       "          element.appendChild(docLink);\n",
       "        }\n",
       "      </script>\n",
       "    </div>\n",
       "  </div>\n",
       "  "
      ],
      "text/plain": [
       "    Post code                      ID Type                             Email  \\\n",
       "0          W1                    Passport                  jbrekke@gmail.com   \n",
       "1          W2                    Passport                  sid23@verizon.net   \n",
       "2          W3                    Passport                     wstark@mac.com   \n",
       "3          W4                    Passport         haven.gottlieb@comcast.net   \n",
       "4          W5                      ID Card              qheidenreich@msn.com   \n",
       "..        ...                          ...                               ...   \n",
       "211       W32         Driving licence Full  elinore.swaniawski@sbcglobal.net   \n",
       "212       W33  Driving licence Provisional                 fheller@yahoo.com   \n",
       "213       W34  Driving licence Provisional         predovic.syble@icloud.com   \n",
       "214       W35                    Passport          hahn.vivienne@comcast.net   \n",
       "215       W36                    Passport      volkman.augustine@hotmail.com   \n",
       "\n",
       "             Location  Number of Devices  Age Crypto Use ATM use  \\\n",
       "0                 UK                 3.0   18        YES      NO   \n",
       "1             Europe                 3.0   19        YES      NO   \n",
       "2               Other                3.0   20        YES      NO   \n",
       "3    High Risk Coutry                1.0   18        YES      NO   \n",
       "4    High Risk Coutry                1.0   18         NO      NO   \n",
       "..                ...                ...  ...        ...     ...   \n",
       "211               UK                 1.0   21        YES      NO   \n",
       "212           Europe                 1.0   22         NO      NO   \n",
       "213             Other                3.0   21         NO      NO   \n",
       "214  High Risk Coutry                2.0   27         NO     YES   \n",
       "215  High Risk Coutry                3.0   25         NO     YES   \n",
       "\n",
       "                  Declared Use  Declared Turnover                 Actual Use  \\\n",
       "0                  Day to date                 20                Day to date   \n",
       "1                  Day to date                 20                Day to date   \n",
       "2                  Day to date                 20                Day to date   \n",
       "3                  Day to date                 20                        ATM   \n",
       "4                  Day to date                 30                        ATM   \n",
       "..                         ...                ...                        ...   \n",
       "211  Receiving and Withdrawing                 50                        ATM   \n",
       "212                Day to date                 20         Friends and Family   \n",
       "213                Day to date                 20  Receiving and Withdrawing   \n",
       "214                        ATM                 20                        ATM   \n",
       "215                        ATM                 30                        ATM   \n",
       "\n",
       "     Actual Turnover  Months Active Fraud Confirmed AgeRange  \\\n",
       "0                 20           12.0              NO      <30   \n",
       "1                 30            3.0              NO      <30   \n",
       "2                 40            3.0              NO      <30   \n",
       "3                 20            3.0             YES      <30   \n",
       "4                 70            2.0             YES      <30   \n",
       "..               ...            ...             ...      ...   \n",
       "211               40            1.0              NO      <30   \n",
       "212               20            2.0              NO      <30   \n",
       "213               70            1.0              NO      <30   \n",
       "214              100            1.0              NO      <30   \n",
       "215               60            1.0              NO      <30   \n",
       "\n",
       "    TurnoverDiffStatus  TurnoverDiff AccUseDiff    EmailDomain  \n",
       "0                 Same             0         No      gmail.com  \n",
       "1                 High            10         No    verizon.net  \n",
       "2                 High            20         No        mac.com  \n",
       "3                 Same             0        Yes    comcast.net  \n",
       "4                 High            40        Yes        msn.com  \n",
       "..                 ...           ...        ...            ...  \n",
       "211                Low            10        Yes  sbcglobal.net  \n",
       "212               Same             0        Yes      yahoo.com  \n",
       "213               High            50        Yes     icloud.com  \n",
       "214               High            80         No    comcast.net  \n",
       "215               High            30         No    hotmail.com  \n",
       "\n",
       "[216 rows x 19 columns]"
      ]
     },
     "execution_count": 42,
     "metadata": {},
     "output_type": "execute_result"
    }
   ],
   "source": [
    "cleaned_data = pd.read_csv(path+\"Cleaned_Data.csv\")\n",
    "cleaned_data"
   ]
  },
  {
   "cell_type": "code",
   "execution_count": 43,
   "id": "agricultural-protection",
   "metadata": {
    "ExecuteTime": {
     "end_time": "2022-04-08T16:11:16.127823Z",
     "start_time": "2022-04-08T16:11:16.075851Z"
    },
    "colab": {
     "base_uri": "https://localhost:8080/"
    },
    "id": "agricultural-protection",
    "outputId": "637d6637-5ce4-48aa-cf2c-56aca0f8455a"
   },
   "outputs": [
    {
     "data": {
      "text/plain": [
       "Crypto Use              2\n",
       "ATM use                 2\n",
       "AccUseDiff              2\n",
       "Fraud Confirmed         2\n",
       "TurnoverDiffStatus      3\n",
       "Location                4\n",
       "Declared Use            4\n",
       "Actual Use              4\n",
       "ID Type                 5\n",
       "Number of Devices       6\n",
       "AgeRange                6\n",
       "Declared Turnover       7\n",
       "Actual Turnover         7\n",
       "TurnoverDiff            9\n",
       "Months Active          10\n",
       "EmailDomain            14\n",
       "Age                    25\n",
       "Post code              36\n",
       "Email                 216\n",
       "dtype: int64"
      ]
     },
     "execution_count": 43,
     "metadata": {},
     "output_type": "execute_result"
    }
   ],
   "source": [
    "cleaned_data.nunique().sort_values()"
   ]
  },
  {
   "cell_type": "code",
   "execution_count": 44,
   "id": "industrial-husband",
   "metadata": {
    "ExecuteTime": {
     "end_time": "2022-04-08T16:11:16.620470Z",
     "start_time": "2022-04-08T16:11:16.577470Z"
    },
    "id": "industrial-husband"
   },
   "outputs": [],
   "source": [
    "categCols = cleaned_data.nunique().sort_values()[cleaned_data.nunique().sort_values() < 6 ].index.values\n",
    "categCols = categCols"
   ]
  },
  {
   "cell_type": "code",
   "execution_count": 45,
   "id": "limiting-fourth",
   "metadata": {
    "ExecuteTime": {
     "end_time": "2022-04-08T16:11:17.799389Z",
     "start_time": "2022-04-08T16:11:16.875415Z"
    },
    "colab": {
     "base_uri": "https://localhost:8080/"
    },
    "id": "limiting-fourth",
    "outputId": "146bb8b1-d32e-4408-c5f1-16ec0c9b7feb"
   },
   "outputs": [
    {
     "data": {
      "text/plain": [
       "array(['Crypto Use', 'ATM use', 'AccUseDiff', 'Fraud Confirmed',\n",
       "       'TurnoverDiffStatus', 'Location', 'Declared Use', 'Actual Use',\n",
       "       'ID Type'], dtype=object)"
      ]
     },
     "execution_count": 45,
     "metadata": {},
     "output_type": "execute_result"
    }
   ],
   "source": [
    "# Removing cluster from above as it is target variable\n",
    "categCols = np.delete(categCols, np.where(categCols == \"Cluster\"))\n",
    "categCols"
   ]
  },
  {
   "cell_type": "code",
   "execution_count": 46,
   "id": "native-desire",
   "metadata": {
    "ExecuteTime": {
     "end_time": "2022-04-08T16:11:17.863383Z",
     "start_time": "2022-04-08T16:11:17.808377Z"
    },
    "colab": {
     "base_uri": "https://localhost:8080/"
    },
    "id": "native-desire",
    "outputId": "3996586a-f43c-4b5c-bbe2-584e1c785d09"
   },
   "outputs": [
    {
     "name": "stdout",
     "output_type": "stream",
     "text": [
      "Crypto Use ['YES' 'NO']\n",
      "ATM use ['NO' 'YES']\n",
      "AccUseDiff ['No' 'Yes']\n",
      "Fraud Confirmed ['NO' 'YES']\n",
      "TurnoverDiffStatus ['Same' 'High' 'Low']\n",
      "Location ['UK ' 'Europe ' 'Other' 'High Risk Coutry']\n",
      "Declared Use ['Day to date' 'ATM' 'Friends and Family' 'Receiving and Withdrawing']\n",
      "Actual Use ['Day to date' 'ATM' 'Friends and Family' 'Receiving and Withdrawing']\n",
      "ID Type ['Passport ' 'ID Card' 'Residence permit ' 'Driving licence Full'\n",
      " 'Driving licence Provisional']\n"
     ]
    }
   ],
   "source": [
    "for i in categCols:\n",
    "    print(i , cleaned_data[i].unique())"
   ]
  },
  {
   "cell_type": "markdown",
   "id": "municipal-litigation",
   "metadata": {
    "id": "municipal-litigation"
   },
   "source": [
    "### Converting categorical columns to numeric"
   ]
  },
  {
   "cell_type": "code",
   "execution_count": 48,
   "id": "worldwide-resident",
   "metadata": {
    "ExecuteTime": {
     "end_time": "2022-04-08T16:11:17.990014Z",
     "start_time": "2022-04-08T16:11:17.955022Z"
    },
    "colab": {
     "base_uri": "https://localhost:8080/"
    },
    "id": "worldwide-resident",
    "outputId": "7c8164b3-dab2-4790-a8b0-72078952fbde"
   },
   "outputs": [
    {
     "name": "stdout",
     "output_type": "stream",
     "text": [
      "Crypto Use\n",
      "{'NO': 0, 'YES': 1}\n",
      "ATM use\n",
      "{'NO': 0, 'YES': 1}\n",
      "AccUseDiff\n",
      "{'No': 0, 'Yes': 1}\n",
      "Fraud Confirmed\n",
      "{'NO': 0, 'YES': 1}\n",
      "TurnoverDiffStatus\n",
      "{'High': 0, 'Low': 1, 'Same': 2}\n",
      "Location\n",
      "{'Europe ': 0, 'High Risk Coutry': 1, 'Other': 2, 'UK ': 3}\n",
      "Declared Use\n",
      "{'ATM': 0, 'Day to date': 1, 'Friends and Family': 2, 'Receiving and Withdrawing': 3}\n",
      "Actual Use\n",
      "{'ATM': 0, 'Day to date': 1, 'Friends and Family': 2, 'Receiving and Withdrawing': 3}\n",
      "ID Type\n",
      "{'Driving licence Full': 0, 'Driving licence Provisional': 1, 'ID Card': 2, 'Passport ': 3, 'Residence permit ': 4}\n"
     ]
    }
   ],
   "source": [
    "numeric_data = cleaned_data.copy()\n",
    "encoded_categories = \"\"\n",
    "for i in categCols:\n",
    "    le = LabelEncoder()\n",
    "    print(i)\n",
    "    numeric_data[i+'_new'] = le.fit_transform(numeric_data[i])\n",
    "    numeric_data[i+'_new'] = le.transform(numeric_data[i])\n",
    "    print({l: i for i, l in enumerate(le.classes_)})\n",
    "    encoded_categories = encoded_categories + i+\"=\"+ str({l: i for i, l in enumerate(le.classes_)})"
   ]
  },
  {
   "cell_type": "code",
   "execution_count": 49,
   "id": "important-printing",
   "metadata": {
    "ExecuteTime": {
     "end_time": "2022-04-08T16:11:18.719055Z",
     "start_time": "2022-04-08T16:11:18.697059Z"
    },
    "colab": {
     "base_uri": "https://localhost:8080/"
    },
    "id": "important-printing",
    "outputId": "95ec797b-84b2-4629-b293-27324ed4d68f"
   },
   "outputs": [
    {
     "data": {
      "text/plain": [
       "(216, 28)"
      ]
     },
     "execution_count": 49,
     "metadata": {},
     "output_type": "execute_result"
    }
   ],
   "source": [
    "numeric_data.shape "
   ]
  },
  {
   "cell_type": "code",
   "execution_count": 50,
   "id": "parallel-jersey",
   "metadata": {
    "ExecuteTime": {
     "end_time": "2022-04-08T16:11:19.529549Z",
     "start_time": "2022-04-08T16:11:19.291563Z"
    },
    "colab": {
     "base_uri": "https://localhost:8080/"
    },
    "id": "parallel-jersey",
    "outputId": "11f3684f-4e98-4dfa-c6a0-ae07dc4ef0de"
   },
   "outputs": [
    {
     "data": {
      "text/plain": [
       "Index(['Post code', 'ID Type', 'Email', 'Location', 'Number of Devices', 'Age',\n",
       "       'Crypto Use', 'ATM use', 'Declared Use', 'Declared Turnover',\n",
       "       'Actual Use', 'Actual Turnover', 'Months Active', 'Fraud Confirmed',\n",
       "       'AgeRange', 'TurnoverDiffStatus', 'TurnoverDiff', 'AccUseDiff',\n",
       "       'EmailDomain', 'Crypto Use_new', 'ATM use_new', 'AccUseDiff_new',\n",
       "       'Fraud Confirmed_new', 'TurnoverDiffStatus_new', 'Location_new',\n",
       "       'Declared Use_new', 'Actual Use_new', 'ID Type_new'],\n",
       "      dtype='object')"
      ]
     },
     "execution_count": 50,
     "metadata": {},
     "output_type": "execute_result"
    }
   ],
   "source": [
    "numeric_data.columns"
   ]
  },
  {
   "cell_type": "code",
   "execution_count": 51,
   "id": "satisfactory-gather",
   "metadata": {
    "ExecuteTime": {
     "end_time": "2022-04-08T16:11:19.749467Z",
     "start_time": "2022-04-08T16:11:19.728467Z"
    },
    "id": "satisfactory-gather"
   },
   "outputs": [],
   "source": [
    "## Dropping the old columns\n",
    "numeric_data.drop(categCols ,axis=1, inplace=True)"
   ]
  },
  {
   "cell_type": "code",
   "execution_count": 52,
   "id": "disabled-ethiopia",
   "metadata": {
    "ExecuteTime": {
     "end_time": "2022-04-08T16:11:20.554980Z",
     "start_time": "2022-04-08T16:11:20.521979Z"
    },
    "colab": {
     "base_uri": "https://localhost:8080/"
    },
    "id": "disabled-ethiopia",
    "outputId": "90cbc712-298b-4cd6-ad23-a3db9a64b808"
   },
   "outputs": [
    {
     "data": {
      "text/plain": [
       "Index(['Post code', 'Email', 'Number of Devices', 'Age', 'Declared Turnover',\n",
       "       'Actual Turnover', 'Months Active', 'AgeRange', 'TurnoverDiff',\n",
       "       'EmailDomain', 'Crypto Use', 'ATM use', 'AccUseDiff', 'Fraud Confirmed',\n",
       "       'TurnoverDiffStatus', 'Location', 'Declared Use', 'Actual Use',\n",
       "       'ID Type'],\n",
       "      dtype='object')"
      ]
     },
     "execution_count": 52,
     "metadata": {},
     "output_type": "execute_result"
    }
   ],
   "source": [
    "numeric_data.columns = numeric_data.columns.str.replace('_new', '')\n",
    "numeric_data.columns"
   ]
  },
  {
   "cell_type": "code",
   "execution_count": 53,
   "id": "moved-thought",
   "metadata": {
    "ExecuteTime": {
     "end_time": "2022-04-08T16:11:21.435949Z",
     "start_time": "2022-04-08T16:11:21.385957Z"
    },
    "colab": {
     "base_uri": "https://localhost:8080/",
     "height": 304
    },
    "id": "moved-thought",
    "outputId": "480f41cc-bdc4-4aea-f998-41143d63329a"
   },
   "outputs": [
    {
     "data": {
      "text/html": [
       "\n",
       "  <div id=\"df-1aa4c77c-0385-4f53-bfdc-a48d2b9bd80f\">\n",
       "    <div class=\"colab-df-container\">\n",
       "      <div>\n",
       "<style scoped>\n",
       "    .dataframe tbody tr th:only-of-type {\n",
       "        vertical-align: middle;\n",
       "    }\n",
       "\n",
       "    .dataframe tbody tr th {\n",
       "        vertical-align: top;\n",
       "    }\n",
       "\n",
       "    .dataframe thead th {\n",
       "        text-align: right;\n",
       "    }\n",
       "</style>\n",
       "<table border=\"1\" class=\"dataframe\">\n",
       "  <thead>\n",
       "    <tr style=\"text-align: right;\">\n",
       "      <th></th>\n",
       "      <th>Post code</th>\n",
       "      <th>Email</th>\n",
       "      <th>Number of Devices</th>\n",
       "      <th>Age</th>\n",
       "      <th>Declared Turnover</th>\n",
       "      <th>Actual Turnover</th>\n",
       "      <th>Months Active</th>\n",
       "      <th>AgeRange</th>\n",
       "      <th>TurnoverDiff</th>\n",
       "      <th>EmailDomain</th>\n",
       "      <th>Crypto Use</th>\n",
       "      <th>ATM use</th>\n",
       "      <th>AccUseDiff</th>\n",
       "      <th>Fraud Confirmed</th>\n",
       "      <th>TurnoverDiffStatus</th>\n",
       "      <th>Location</th>\n",
       "      <th>Declared Use</th>\n",
       "      <th>Actual Use</th>\n",
       "      <th>ID Type</th>\n",
       "    </tr>\n",
       "  </thead>\n",
       "  <tbody>\n",
       "    <tr>\n",
       "      <th>211</th>\n",
       "      <td>W32</td>\n",
       "      <td>elinore.swaniawski@sbcglobal.net</td>\n",
       "      <td>1.0</td>\n",
       "      <td>21</td>\n",
       "      <td>50</td>\n",
       "      <td>40</td>\n",
       "      <td>1.0</td>\n",
       "      <td>&lt;30</td>\n",
       "      <td>10</td>\n",
       "      <td>sbcglobal.net</td>\n",
       "      <td>1</td>\n",
       "      <td>0</td>\n",
       "      <td>1</td>\n",
       "      <td>0</td>\n",
       "      <td>1</td>\n",
       "      <td>3</td>\n",
       "      <td>3</td>\n",
       "      <td>0</td>\n",
       "      <td>0</td>\n",
       "    </tr>\n",
       "    <tr>\n",
       "      <th>212</th>\n",
       "      <td>W33</td>\n",
       "      <td>fheller@yahoo.com</td>\n",
       "      <td>1.0</td>\n",
       "      <td>22</td>\n",
       "      <td>20</td>\n",
       "      <td>20</td>\n",
       "      <td>2.0</td>\n",
       "      <td>&lt;30</td>\n",
       "      <td>0</td>\n",
       "      <td>yahoo.com</td>\n",
       "      <td>0</td>\n",
       "      <td>0</td>\n",
       "      <td>1</td>\n",
       "      <td>0</td>\n",
       "      <td>2</td>\n",
       "      <td>0</td>\n",
       "      <td>1</td>\n",
       "      <td>2</td>\n",
       "      <td>1</td>\n",
       "    </tr>\n",
       "    <tr>\n",
       "      <th>213</th>\n",
       "      <td>W34</td>\n",
       "      <td>predovic.syble@icloud.com</td>\n",
       "      <td>3.0</td>\n",
       "      <td>21</td>\n",
       "      <td>20</td>\n",
       "      <td>70</td>\n",
       "      <td>1.0</td>\n",
       "      <td>&lt;30</td>\n",
       "      <td>50</td>\n",
       "      <td>icloud.com</td>\n",
       "      <td>0</td>\n",
       "      <td>0</td>\n",
       "      <td>1</td>\n",
       "      <td>0</td>\n",
       "      <td>0</td>\n",
       "      <td>2</td>\n",
       "      <td>1</td>\n",
       "      <td>3</td>\n",
       "      <td>1</td>\n",
       "    </tr>\n",
       "    <tr>\n",
       "      <th>214</th>\n",
       "      <td>W35</td>\n",
       "      <td>hahn.vivienne@comcast.net</td>\n",
       "      <td>2.0</td>\n",
       "      <td>27</td>\n",
       "      <td>20</td>\n",
       "      <td>100</td>\n",
       "      <td>1.0</td>\n",
       "      <td>&lt;30</td>\n",
       "      <td>80</td>\n",
       "      <td>comcast.net</td>\n",
       "      <td>0</td>\n",
       "      <td>1</td>\n",
       "      <td>0</td>\n",
       "      <td>0</td>\n",
       "      <td>0</td>\n",
       "      <td>1</td>\n",
       "      <td>0</td>\n",
       "      <td>0</td>\n",
       "      <td>3</td>\n",
       "    </tr>\n",
       "    <tr>\n",
       "      <th>215</th>\n",
       "      <td>W36</td>\n",
       "      <td>volkman.augustine@hotmail.com</td>\n",
       "      <td>3.0</td>\n",
       "      <td>25</td>\n",
       "      <td>30</td>\n",
       "      <td>60</td>\n",
       "      <td>1.0</td>\n",
       "      <td>&lt;30</td>\n",
       "      <td>30</td>\n",
       "      <td>hotmail.com</td>\n",
       "      <td>0</td>\n",
       "      <td>1</td>\n",
       "      <td>0</td>\n",
       "      <td>0</td>\n",
       "      <td>0</td>\n",
       "      <td>1</td>\n",
       "      <td>0</td>\n",
       "      <td>0</td>\n",
       "      <td>3</td>\n",
       "    </tr>\n",
       "  </tbody>\n",
       "</table>\n",
       "</div>\n",
       "      <button class=\"colab-df-convert\" onclick=\"convertToInteractive('df-1aa4c77c-0385-4f53-bfdc-a48d2b9bd80f')\"\n",
       "              title=\"Convert this dataframe to an interactive table.\"\n",
       "              style=\"display:none;\">\n",
       "        \n",
       "  <svg xmlns=\"http://www.w3.org/2000/svg\" height=\"24px\"viewBox=\"0 0 24 24\"\n",
       "       width=\"24px\">\n",
       "    <path d=\"M0 0h24v24H0V0z\" fill=\"none\"/>\n",
       "    <path d=\"M18.56 5.44l.94 2.06.94-2.06 2.06-.94-2.06-.94-.94-2.06-.94 2.06-2.06.94zm-11 1L8.5 8.5l.94-2.06 2.06-.94-2.06-.94L8.5 2.5l-.94 2.06-2.06.94zm10 10l.94 2.06.94-2.06 2.06-.94-2.06-.94-.94-2.06-.94 2.06-2.06.94z\"/><path d=\"M17.41 7.96l-1.37-1.37c-.4-.4-.92-.59-1.43-.59-.52 0-1.04.2-1.43.59L10.3 9.45l-7.72 7.72c-.78.78-.78 2.05 0 2.83L4 21.41c.39.39.9.59 1.41.59.51 0 1.02-.2 1.41-.59l7.78-7.78 2.81-2.81c.8-.78.8-2.07 0-2.86zM5.41 20L4 18.59l7.72-7.72 1.47 1.35L5.41 20z\"/>\n",
       "  </svg>\n",
       "      </button>\n",
       "      \n",
       "  <style>\n",
       "    .colab-df-container {\n",
       "      display:flex;\n",
       "      flex-wrap:wrap;\n",
       "      gap: 12px;\n",
       "    }\n",
       "\n",
       "    .colab-df-convert {\n",
       "      background-color: #E8F0FE;\n",
       "      border: none;\n",
       "      border-radius: 50%;\n",
       "      cursor: pointer;\n",
       "      display: none;\n",
       "      fill: #1967D2;\n",
       "      height: 32px;\n",
       "      padding: 0 0 0 0;\n",
       "      width: 32px;\n",
       "    }\n",
       "\n",
       "    .colab-df-convert:hover {\n",
       "      background-color: #E2EBFA;\n",
       "      box-shadow: 0px 1px 2px rgba(60, 64, 67, 0.3), 0px 1px 3px 1px rgba(60, 64, 67, 0.15);\n",
       "      fill: #174EA6;\n",
       "    }\n",
       "\n",
       "    [theme=dark] .colab-df-convert {\n",
       "      background-color: #3B4455;\n",
       "      fill: #D2E3FC;\n",
       "    }\n",
       "\n",
       "    [theme=dark] .colab-df-convert:hover {\n",
       "      background-color: #434B5C;\n",
       "      box-shadow: 0px 1px 3px 1px rgba(0, 0, 0, 0.15);\n",
       "      filter: drop-shadow(0px 1px 2px rgba(0, 0, 0, 0.3));\n",
       "      fill: #FFFFFF;\n",
       "    }\n",
       "  </style>\n",
       "\n",
       "      <script>\n",
       "        const buttonEl =\n",
       "          document.querySelector('#df-1aa4c77c-0385-4f53-bfdc-a48d2b9bd80f button.colab-df-convert');\n",
       "        buttonEl.style.display =\n",
       "          google.colab.kernel.accessAllowed ? 'block' : 'none';\n",
       "\n",
       "        async function convertToInteractive(key) {\n",
       "          const element = document.querySelector('#df-1aa4c77c-0385-4f53-bfdc-a48d2b9bd80f');\n",
       "          const dataTable =\n",
       "            await google.colab.kernel.invokeFunction('convertToInteractive',\n",
       "                                                     [key], {});\n",
       "          if (!dataTable) return;\n",
       "\n",
       "          const docLinkHtml = 'Like what you see? Visit the ' +\n",
       "            '<a target=\"_blank\" href=https://colab.research.google.com/notebooks/data_table.ipynb>data table notebook</a>'\n",
       "            + ' to learn more about interactive tables.';\n",
       "          element.innerHTML = '';\n",
       "          dataTable['output_type'] = 'display_data';\n",
       "          await google.colab.output.renderOutput(dataTable, element);\n",
       "          const docLink = document.createElement('div');\n",
       "          docLink.innerHTML = docLinkHtml;\n",
       "          element.appendChild(docLink);\n",
       "        }\n",
       "      </script>\n",
       "    </div>\n",
       "  </div>\n",
       "  "
      ],
      "text/plain": [
       "    Post code                             Email  Number of Devices  Age  \\\n",
       "211       W32  elinore.swaniawski@sbcglobal.net                1.0   21   \n",
       "212       W33                 fheller@yahoo.com                1.0   22   \n",
       "213       W34         predovic.syble@icloud.com                3.0   21   \n",
       "214       W35         hahn.vivienne@comcast.net                2.0   27   \n",
       "215       W36     volkman.augustine@hotmail.com                3.0   25   \n",
       "\n",
       "     Declared Turnover  Actual Turnover  Months Active AgeRange  TurnoverDiff  \\\n",
       "211                 50               40            1.0      <30            10   \n",
       "212                 20               20            2.0      <30             0   \n",
       "213                 20               70            1.0      <30            50   \n",
       "214                 20              100            1.0      <30            80   \n",
       "215                 30               60            1.0      <30            30   \n",
       "\n",
       "       EmailDomain  Crypto Use  ATM use  AccUseDiff  Fraud Confirmed  \\\n",
       "211  sbcglobal.net           1        0           1                0   \n",
       "212      yahoo.com           0        0           1                0   \n",
       "213     icloud.com           0        0           1                0   \n",
       "214    comcast.net           0        1           0                0   \n",
       "215    hotmail.com           0        1           0                0   \n",
       "\n",
       "     TurnoverDiffStatus  Location  Declared Use  Actual Use  ID Type  \n",
       "211                   1         3             3           0        0  \n",
       "212                   2         0             1           2        1  \n",
       "213                   0         2             1           3        1  \n",
       "214                   0         1             0           0        3  \n",
       "215                   0         1             0           0        3  "
      ]
     },
     "execution_count": 53,
     "metadata": {},
     "output_type": "execute_result"
    }
   ],
   "source": [
    "numeric_data.tail()"
   ]
  },
  {
   "cell_type": "code",
   "execution_count": 54,
   "id": "junior-printing",
   "metadata": {
    "ExecuteTime": {
     "end_time": "2022-04-08T16:11:22.849443Z",
     "start_time": "2022-04-08T16:11:22.828444Z"
    },
    "colab": {
     "base_uri": "https://localhost:8080/"
    },
    "id": "junior-printing",
    "outputId": "3b007125-ce74-4f43-926e-f3be9e511fb9"
   },
   "outputs": [
    {
     "data": {
      "text/plain": [
       "Post code              object\n",
       "Email                  object\n",
       "Number of Devices     float64\n",
       "Age                     int64\n",
       "Declared Turnover       int64\n",
       "Actual Turnover         int64\n",
       "Months Active         float64\n",
       "AgeRange               object\n",
       "TurnoverDiff            int64\n",
       "EmailDomain            object\n",
       "Crypto Use              int64\n",
       "ATM use                 int64\n",
       "AccUseDiff              int64\n",
       "Fraud Confirmed         int64\n",
       "TurnoverDiffStatus      int64\n",
       "Location                int64\n",
       "Declared Use            int64\n",
       "Actual Use              int64\n",
       "ID Type                 int64\n",
       "dtype: object"
      ]
     },
     "execution_count": 54,
     "metadata": {},
     "output_type": "execute_result"
    }
   ],
   "source": [
    "numeric_data.dtypes"
   ]
  },
  {
   "cell_type": "code",
   "execution_count": 55,
   "id": "honest-travel",
   "metadata": {
    "ExecuteTime": {
     "end_time": "2022-04-08T16:11:23.963304Z",
     "start_time": "2022-04-08T16:11:23.944289Z"
    },
    "id": "honest-travel"
   },
   "outputs": [],
   "source": [
    "# Dropping columns Email, Email Domain and Age Range\n",
    "# Remove W from post code\n",
    "numeric_data.drop([\"Post code\",\"Email\" , \"EmailDomain\", \"AgeRange\"] , axis=1 , inplace=True)\n",
    "# numeric_data[\"Post code\"] = numeric_data[\"Post code\"].str.replace('w', '', case=False).astype(int)"
   ]
  },
  {
   "cell_type": "code",
   "execution_count": 56,
   "id": "after-vulnerability",
   "metadata": {
    "ExecuteTime": {
     "end_time": "2022-04-08T16:11:24.833238Z",
     "start_time": "2022-04-08T16:11:24.792254Z"
    },
    "colab": {
     "base_uri": "https://localhost:8080/",
     "height": 268
    },
    "id": "after-vulnerability",
    "outputId": "e44ca26a-c151-4a39-818b-ff8c69a50565"
   },
   "outputs": [
    {
     "data": {
      "text/html": [
       "\n",
       "  <div id=\"df-fab9d715-2f47-411b-82ba-2193aff41f7e\">\n",
       "    <div class=\"colab-df-container\">\n",
       "      <div>\n",
       "<style scoped>\n",
       "    .dataframe tbody tr th:only-of-type {\n",
       "        vertical-align: middle;\n",
       "    }\n",
       "\n",
       "    .dataframe tbody tr th {\n",
       "        vertical-align: top;\n",
       "    }\n",
       "\n",
       "    .dataframe thead th {\n",
       "        text-align: right;\n",
       "    }\n",
       "</style>\n",
       "<table border=\"1\" class=\"dataframe\">\n",
       "  <thead>\n",
       "    <tr style=\"text-align: right;\">\n",
       "      <th></th>\n",
       "      <th>Number of Devices</th>\n",
       "      <th>Age</th>\n",
       "      <th>Declared Turnover</th>\n",
       "      <th>Actual Turnover</th>\n",
       "      <th>Months Active</th>\n",
       "      <th>TurnoverDiff</th>\n",
       "      <th>Crypto Use</th>\n",
       "      <th>ATM use</th>\n",
       "      <th>AccUseDiff</th>\n",
       "      <th>Fraud Confirmed</th>\n",
       "      <th>TurnoverDiffStatus</th>\n",
       "      <th>Location</th>\n",
       "      <th>Declared Use</th>\n",
       "      <th>Actual Use</th>\n",
       "      <th>ID Type</th>\n",
       "    </tr>\n",
       "  </thead>\n",
       "  <tbody>\n",
       "    <tr>\n",
       "      <th>0</th>\n",
       "      <td>3.0</td>\n",
       "      <td>18</td>\n",
       "      <td>20</td>\n",
       "      <td>20</td>\n",
       "      <td>12.0</td>\n",
       "      <td>0</td>\n",
       "      <td>1</td>\n",
       "      <td>0</td>\n",
       "      <td>0</td>\n",
       "      <td>0</td>\n",
       "      <td>2</td>\n",
       "      <td>3</td>\n",
       "      <td>1</td>\n",
       "      <td>1</td>\n",
       "      <td>3</td>\n",
       "    </tr>\n",
       "    <tr>\n",
       "      <th>1</th>\n",
       "      <td>3.0</td>\n",
       "      <td>19</td>\n",
       "      <td>20</td>\n",
       "      <td>30</td>\n",
       "      <td>3.0</td>\n",
       "      <td>10</td>\n",
       "      <td>1</td>\n",
       "      <td>0</td>\n",
       "      <td>0</td>\n",
       "      <td>0</td>\n",
       "      <td>0</td>\n",
       "      <td>0</td>\n",
       "      <td>1</td>\n",
       "      <td>1</td>\n",
       "      <td>3</td>\n",
       "    </tr>\n",
       "    <tr>\n",
       "      <th>2</th>\n",
       "      <td>3.0</td>\n",
       "      <td>20</td>\n",
       "      <td>20</td>\n",
       "      <td>40</td>\n",
       "      <td>3.0</td>\n",
       "      <td>20</td>\n",
       "      <td>1</td>\n",
       "      <td>0</td>\n",
       "      <td>0</td>\n",
       "      <td>0</td>\n",
       "      <td>0</td>\n",
       "      <td>2</td>\n",
       "      <td>1</td>\n",
       "      <td>1</td>\n",
       "      <td>3</td>\n",
       "    </tr>\n",
       "    <tr>\n",
       "      <th>3</th>\n",
       "      <td>1.0</td>\n",
       "      <td>18</td>\n",
       "      <td>20</td>\n",
       "      <td>20</td>\n",
       "      <td>3.0</td>\n",
       "      <td>0</td>\n",
       "      <td>1</td>\n",
       "      <td>0</td>\n",
       "      <td>1</td>\n",
       "      <td>1</td>\n",
       "      <td>2</td>\n",
       "      <td>1</td>\n",
       "      <td>1</td>\n",
       "      <td>0</td>\n",
       "      <td>3</td>\n",
       "    </tr>\n",
       "    <tr>\n",
       "      <th>4</th>\n",
       "      <td>1.0</td>\n",
       "      <td>18</td>\n",
       "      <td>30</td>\n",
       "      <td>70</td>\n",
       "      <td>2.0</td>\n",
       "      <td>40</td>\n",
       "      <td>0</td>\n",
       "      <td>0</td>\n",
       "      <td>1</td>\n",
       "      <td>1</td>\n",
       "      <td>0</td>\n",
       "      <td>1</td>\n",
       "      <td>1</td>\n",
       "      <td>0</td>\n",
       "      <td>2</td>\n",
       "    </tr>\n",
       "  </tbody>\n",
       "</table>\n",
       "</div>\n",
       "      <button class=\"colab-df-convert\" onclick=\"convertToInteractive('df-fab9d715-2f47-411b-82ba-2193aff41f7e')\"\n",
       "              title=\"Convert this dataframe to an interactive table.\"\n",
       "              style=\"display:none;\">\n",
       "        \n",
       "  <svg xmlns=\"http://www.w3.org/2000/svg\" height=\"24px\"viewBox=\"0 0 24 24\"\n",
       "       width=\"24px\">\n",
       "    <path d=\"M0 0h24v24H0V0z\" fill=\"none\"/>\n",
       "    <path d=\"M18.56 5.44l.94 2.06.94-2.06 2.06-.94-2.06-.94-.94-2.06-.94 2.06-2.06.94zm-11 1L8.5 8.5l.94-2.06 2.06-.94-2.06-.94L8.5 2.5l-.94 2.06-2.06.94zm10 10l.94 2.06.94-2.06 2.06-.94-2.06-.94-.94-2.06-.94 2.06-2.06.94z\"/><path d=\"M17.41 7.96l-1.37-1.37c-.4-.4-.92-.59-1.43-.59-.52 0-1.04.2-1.43.59L10.3 9.45l-7.72 7.72c-.78.78-.78 2.05 0 2.83L4 21.41c.39.39.9.59 1.41.59.51 0 1.02-.2 1.41-.59l7.78-7.78 2.81-2.81c.8-.78.8-2.07 0-2.86zM5.41 20L4 18.59l7.72-7.72 1.47 1.35L5.41 20z\"/>\n",
       "  </svg>\n",
       "      </button>\n",
       "      \n",
       "  <style>\n",
       "    .colab-df-container {\n",
       "      display:flex;\n",
       "      flex-wrap:wrap;\n",
       "      gap: 12px;\n",
       "    }\n",
       "\n",
       "    .colab-df-convert {\n",
       "      background-color: #E8F0FE;\n",
       "      border: none;\n",
       "      border-radius: 50%;\n",
       "      cursor: pointer;\n",
       "      display: none;\n",
       "      fill: #1967D2;\n",
       "      height: 32px;\n",
       "      padding: 0 0 0 0;\n",
       "      width: 32px;\n",
       "    }\n",
       "\n",
       "    .colab-df-convert:hover {\n",
       "      background-color: #E2EBFA;\n",
       "      box-shadow: 0px 1px 2px rgba(60, 64, 67, 0.3), 0px 1px 3px 1px rgba(60, 64, 67, 0.15);\n",
       "      fill: #174EA6;\n",
       "    }\n",
       "\n",
       "    [theme=dark] .colab-df-convert {\n",
       "      background-color: #3B4455;\n",
       "      fill: #D2E3FC;\n",
       "    }\n",
       "\n",
       "    [theme=dark] .colab-df-convert:hover {\n",
       "      background-color: #434B5C;\n",
       "      box-shadow: 0px 1px 3px 1px rgba(0, 0, 0, 0.15);\n",
       "      filter: drop-shadow(0px 1px 2px rgba(0, 0, 0, 0.3));\n",
       "      fill: #FFFFFF;\n",
       "    }\n",
       "  </style>\n",
       "\n",
       "      <script>\n",
       "        const buttonEl =\n",
       "          document.querySelector('#df-fab9d715-2f47-411b-82ba-2193aff41f7e button.colab-df-convert');\n",
       "        buttonEl.style.display =\n",
       "          google.colab.kernel.accessAllowed ? 'block' : 'none';\n",
       "\n",
       "        async function convertToInteractive(key) {\n",
       "          const element = document.querySelector('#df-fab9d715-2f47-411b-82ba-2193aff41f7e');\n",
       "          const dataTable =\n",
       "            await google.colab.kernel.invokeFunction('convertToInteractive',\n",
       "                                                     [key], {});\n",
       "          if (!dataTable) return;\n",
       "\n",
       "          const docLinkHtml = 'Like what you see? Visit the ' +\n",
       "            '<a target=\"_blank\" href=https://colab.research.google.com/notebooks/data_table.ipynb>data table notebook</a>'\n",
       "            + ' to learn more about interactive tables.';\n",
       "          element.innerHTML = '';\n",
       "          dataTable['output_type'] = 'display_data';\n",
       "          await google.colab.output.renderOutput(dataTable, element);\n",
       "          const docLink = document.createElement('div');\n",
       "          docLink.innerHTML = docLinkHtml;\n",
       "          element.appendChild(docLink);\n",
       "        }\n",
       "      </script>\n",
       "    </div>\n",
       "  </div>\n",
       "  "
      ],
      "text/plain": [
       "   Number of Devices  Age  Declared Turnover  Actual Turnover  Months Active  \\\n",
       "0                3.0   18                 20               20           12.0   \n",
       "1                3.0   19                 20               30            3.0   \n",
       "2                3.0   20                 20               40            3.0   \n",
       "3                1.0   18                 20               20            3.0   \n",
       "4                1.0   18                 30               70            2.0   \n",
       "\n",
       "   TurnoverDiff  Crypto Use  ATM use  AccUseDiff  Fraud Confirmed  \\\n",
       "0             0           1        0           0                0   \n",
       "1            10           1        0           0                0   \n",
       "2            20           1        0           0                0   \n",
       "3             0           1        0           1                1   \n",
       "4            40           0        0           1                1   \n",
       "\n",
       "   TurnoverDiffStatus  Location  Declared Use  Actual Use  ID Type  \n",
       "0                   2         3             1           1        3  \n",
       "1                   0         0             1           1        3  \n",
       "2                   0         2             1           1        3  \n",
       "3                   2         1             1           0        3  \n",
       "4                   0         1             1           0        2  "
      ]
     },
     "execution_count": 56,
     "metadata": {},
     "output_type": "execute_result"
    }
   ],
   "source": [
    "numeric_data.head()"
   ]
  },
  {
   "cell_type": "markdown",
   "id": "caroline-choir",
   "metadata": {
    "id": "caroline-choir"
   },
   "source": [
    "# Saving Numeric Data"
   ]
  },
  {
   "cell_type": "code",
   "execution_count": 57,
   "id": "isolated-nursery",
   "metadata": {
    "ExecuteTime": {
     "end_time": "2022-04-08T16:11:25.998185Z",
     "start_time": "2022-04-08T16:11:25.977186Z"
    },
    "id": "isolated-nursery"
   },
   "outputs": [],
   "source": [
    "numeric_data.to_csv(path+\"Numeric_Data.csv\", index=False)"
   ]
  },
  {
   "cell_type": "markdown",
   "id": "martial-document",
   "metadata": {
    "id": "martial-document"
   },
   "source": [
    "# Clustering using PCA + Kmeans"
   ]
  },
  {
   "cell_type": "code",
   "execution_count": 58,
   "id": "shared-whale",
   "metadata": {
    "ExecuteTime": {
     "end_time": "2022-04-08T16:46:09.023480Z",
     "start_time": "2022-04-08T16:46:08.981482Z"
    },
    "colab": {
     "base_uri": "https://localhost:8080/",
     "height": 484
    },
    "id": "shared-whale",
    "outputId": "57d2b8ad-5a76-4cd2-fa1d-fba808a7b55d"
   },
   "outputs": [
    {
     "data": {
      "text/html": [
       "\n",
       "  <div id=\"df-9ac38326-f4a4-454b-980c-2c9f25701dfc\">\n",
       "    <div class=\"colab-df-container\">\n",
       "      <div>\n",
       "<style scoped>\n",
       "    .dataframe tbody tr th:only-of-type {\n",
       "        vertical-align: middle;\n",
       "    }\n",
       "\n",
       "    .dataframe tbody tr th {\n",
       "        vertical-align: top;\n",
       "    }\n",
       "\n",
       "    .dataframe thead th {\n",
       "        text-align: right;\n",
       "    }\n",
       "</style>\n",
       "<table border=\"1\" class=\"dataframe\">\n",
       "  <thead>\n",
       "    <tr style=\"text-align: right;\">\n",
       "      <th></th>\n",
       "      <th>Number of Devices</th>\n",
       "      <th>Age</th>\n",
       "      <th>Declared Turnover</th>\n",
       "      <th>Actual Turnover</th>\n",
       "      <th>Months Active</th>\n",
       "      <th>TurnoverDiff</th>\n",
       "      <th>Crypto Use</th>\n",
       "      <th>ATM use</th>\n",
       "      <th>AccUseDiff</th>\n",
       "      <th>Fraud Confirmed</th>\n",
       "      <th>TurnoverDiffStatus</th>\n",
       "      <th>Location</th>\n",
       "      <th>Declared Use</th>\n",
       "      <th>Actual Use</th>\n",
       "      <th>ID Type</th>\n",
       "    </tr>\n",
       "  </thead>\n",
       "  <tbody>\n",
       "    <tr>\n",
       "      <th>0</th>\n",
       "      <td>3.0</td>\n",
       "      <td>18</td>\n",
       "      <td>20</td>\n",
       "      <td>20</td>\n",
       "      <td>12.0</td>\n",
       "      <td>0</td>\n",
       "      <td>1</td>\n",
       "      <td>0</td>\n",
       "      <td>0</td>\n",
       "      <td>0</td>\n",
       "      <td>2</td>\n",
       "      <td>3</td>\n",
       "      <td>1</td>\n",
       "      <td>1</td>\n",
       "      <td>3</td>\n",
       "    </tr>\n",
       "    <tr>\n",
       "      <th>1</th>\n",
       "      <td>3.0</td>\n",
       "      <td>19</td>\n",
       "      <td>20</td>\n",
       "      <td>30</td>\n",
       "      <td>3.0</td>\n",
       "      <td>10</td>\n",
       "      <td>1</td>\n",
       "      <td>0</td>\n",
       "      <td>0</td>\n",
       "      <td>0</td>\n",
       "      <td>0</td>\n",
       "      <td>0</td>\n",
       "      <td>1</td>\n",
       "      <td>1</td>\n",
       "      <td>3</td>\n",
       "    </tr>\n",
       "    <tr>\n",
       "      <th>2</th>\n",
       "      <td>3.0</td>\n",
       "      <td>20</td>\n",
       "      <td>20</td>\n",
       "      <td>40</td>\n",
       "      <td>3.0</td>\n",
       "      <td>20</td>\n",
       "      <td>1</td>\n",
       "      <td>0</td>\n",
       "      <td>0</td>\n",
       "      <td>0</td>\n",
       "      <td>0</td>\n",
       "      <td>2</td>\n",
       "      <td>1</td>\n",
       "      <td>1</td>\n",
       "      <td>3</td>\n",
       "    </tr>\n",
       "    <tr>\n",
       "      <th>3</th>\n",
       "      <td>1.0</td>\n",
       "      <td>18</td>\n",
       "      <td>20</td>\n",
       "      <td>20</td>\n",
       "      <td>3.0</td>\n",
       "      <td>0</td>\n",
       "      <td>1</td>\n",
       "      <td>0</td>\n",
       "      <td>1</td>\n",
       "      <td>1</td>\n",
       "      <td>2</td>\n",
       "      <td>1</td>\n",
       "      <td>1</td>\n",
       "      <td>0</td>\n",
       "      <td>3</td>\n",
       "    </tr>\n",
       "    <tr>\n",
       "      <th>4</th>\n",
       "      <td>1.0</td>\n",
       "      <td>18</td>\n",
       "      <td>30</td>\n",
       "      <td>70</td>\n",
       "      <td>2.0</td>\n",
       "      <td>40</td>\n",
       "      <td>0</td>\n",
       "      <td>0</td>\n",
       "      <td>1</td>\n",
       "      <td>1</td>\n",
       "      <td>0</td>\n",
       "      <td>1</td>\n",
       "      <td>1</td>\n",
       "      <td>0</td>\n",
       "      <td>2</td>\n",
       "    </tr>\n",
       "    <tr>\n",
       "      <th>...</th>\n",
       "      <td>...</td>\n",
       "      <td>...</td>\n",
       "      <td>...</td>\n",
       "      <td>...</td>\n",
       "      <td>...</td>\n",
       "      <td>...</td>\n",
       "      <td>...</td>\n",
       "      <td>...</td>\n",
       "      <td>...</td>\n",
       "      <td>...</td>\n",
       "      <td>...</td>\n",
       "      <td>...</td>\n",
       "      <td>...</td>\n",
       "      <td>...</td>\n",
       "      <td>...</td>\n",
       "    </tr>\n",
       "    <tr>\n",
       "      <th>211</th>\n",
       "      <td>1.0</td>\n",
       "      <td>21</td>\n",
       "      <td>50</td>\n",
       "      <td>40</td>\n",
       "      <td>1.0</td>\n",
       "      <td>10</td>\n",
       "      <td>1</td>\n",
       "      <td>0</td>\n",
       "      <td>1</td>\n",
       "      <td>0</td>\n",
       "      <td>1</td>\n",
       "      <td>3</td>\n",
       "      <td>3</td>\n",
       "      <td>0</td>\n",
       "      <td>0</td>\n",
       "    </tr>\n",
       "    <tr>\n",
       "      <th>212</th>\n",
       "      <td>1.0</td>\n",
       "      <td>22</td>\n",
       "      <td>20</td>\n",
       "      <td>20</td>\n",
       "      <td>2.0</td>\n",
       "      <td>0</td>\n",
       "      <td>0</td>\n",
       "      <td>0</td>\n",
       "      <td>1</td>\n",
       "      <td>0</td>\n",
       "      <td>2</td>\n",
       "      <td>0</td>\n",
       "      <td>1</td>\n",
       "      <td>2</td>\n",
       "      <td>1</td>\n",
       "    </tr>\n",
       "    <tr>\n",
       "      <th>213</th>\n",
       "      <td>3.0</td>\n",
       "      <td>21</td>\n",
       "      <td>20</td>\n",
       "      <td>70</td>\n",
       "      <td>1.0</td>\n",
       "      <td>50</td>\n",
       "      <td>0</td>\n",
       "      <td>0</td>\n",
       "      <td>1</td>\n",
       "      <td>0</td>\n",
       "      <td>0</td>\n",
       "      <td>2</td>\n",
       "      <td>1</td>\n",
       "      <td>3</td>\n",
       "      <td>1</td>\n",
       "    </tr>\n",
       "    <tr>\n",
       "      <th>214</th>\n",
       "      <td>2.0</td>\n",
       "      <td>27</td>\n",
       "      <td>20</td>\n",
       "      <td>100</td>\n",
       "      <td>1.0</td>\n",
       "      <td>80</td>\n",
       "      <td>0</td>\n",
       "      <td>1</td>\n",
       "      <td>0</td>\n",
       "      <td>0</td>\n",
       "      <td>0</td>\n",
       "      <td>1</td>\n",
       "      <td>0</td>\n",
       "      <td>0</td>\n",
       "      <td>3</td>\n",
       "    </tr>\n",
       "    <tr>\n",
       "      <th>215</th>\n",
       "      <td>3.0</td>\n",
       "      <td>25</td>\n",
       "      <td>30</td>\n",
       "      <td>60</td>\n",
       "      <td>1.0</td>\n",
       "      <td>30</td>\n",
       "      <td>0</td>\n",
       "      <td>1</td>\n",
       "      <td>0</td>\n",
       "      <td>0</td>\n",
       "      <td>0</td>\n",
       "      <td>1</td>\n",
       "      <td>0</td>\n",
       "      <td>0</td>\n",
       "      <td>3</td>\n",
       "    </tr>\n",
       "  </tbody>\n",
       "</table>\n",
       "<p>216 rows × 15 columns</p>\n",
       "</div>\n",
       "      <button class=\"colab-df-convert\" onclick=\"convertToInteractive('df-9ac38326-f4a4-454b-980c-2c9f25701dfc')\"\n",
       "              title=\"Convert this dataframe to an interactive table.\"\n",
       "              style=\"display:none;\">\n",
       "        \n",
       "  <svg xmlns=\"http://www.w3.org/2000/svg\" height=\"24px\"viewBox=\"0 0 24 24\"\n",
       "       width=\"24px\">\n",
       "    <path d=\"M0 0h24v24H0V0z\" fill=\"none\"/>\n",
       "    <path d=\"M18.56 5.44l.94 2.06.94-2.06 2.06-.94-2.06-.94-.94-2.06-.94 2.06-2.06.94zm-11 1L8.5 8.5l.94-2.06 2.06-.94-2.06-.94L8.5 2.5l-.94 2.06-2.06.94zm10 10l.94 2.06.94-2.06 2.06-.94-2.06-.94-.94-2.06-.94 2.06-2.06.94z\"/><path d=\"M17.41 7.96l-1.37-1.37c-.4-.4-.92-.59-1.43-.59-.52 0-1.04.2-1.43.59L10.3 9.45l-7.72 7.72c-.78.78-.78 2.05 0 2.83L4 21.41c.39.39.9.59 1.41.59.51 0 1.02-.2 1.41-.59l7.78-7.78 2.81-2.81c.8-.78.8-2.07 0-2.86zM5.41 20L4 18.59l7.72-7.72 1.47 1.35L5.41 20z\"/>\n",
       "  </svg>\n",
       "      </button>\n",
       "      \n",
       "  <style>\n",
       "    .colab-df-container {\n",
       "      display:flex;\n",
       "      flex-wrap:wrap;\n",
       "      gap: 12px;\n",
       "    }\n",
       "\n",
       "    .colab-df-convert {\n",
       "      background-color: #E8F0FE;\n",
       "      border: none;\n",
       "      border-radius: 50%;\n",
       "      cursor: pointer;\n",
       "      display: none;\n",
       "      fill: #1967D2;\n",
       "      height: 32px;\n",
       "      padding: 0 0 0 0;\n",
       "      width: 32px;\n",
       "    }\n",
       "\n",
       "    .colab-df-convert:hover {\n",
       "      background-color: #E2EBFA;\n",
       "      box-shadow: 0px 1px 2px rgba(60, 64, 67, 0.3), 0px 1px 3px 1px rgba(60, 64, 67, 0.15);\n",
       "      fill: #174EA6;\n",
       "    }\n",
       "\n",
       "    [theme=dark] .colab-df-convert {\n",
       "      background-color: #3B4455;\n",
       "      fill: #D2E3FC;\n",
       "    }\n",
       "\n",
       "    [theme=dark] .colab-df-convert:hover {\n",
       "      background-color: #434B5C;\n",
       "      box-shadow: 0px 1px 3px 1px rgba(0, 0, 0, 0.15);\n",
       "      filter: drop-shadow(0px 1px 2px rgba(0, 0, 0, 0.3));\n",
       "      fill: #FFFFFF;\n",
       "    }\n",
       "  </style>\n",
       "\n",
       "      <script>\n",
       "        const buttonEl =\n",
       "          document.querySelector('#df-9ac38326-f4a4-454b-980c-2c9f25701dfc button.colab-df-convert');\n",
       "        buttonEl.style.display =\n",
       "          google.colab.kernel.accessAllowed ? 'block' : 'none';\n",
       "\n",
       "        async function convertToInteractive(key) {\n",
       "          const element = document.querySelector('#df-9ac38326-f4a4-454b-980c-2c9f25701dfc');\n",
       "          const dataTable =\n",
       "            await google.colab.kernel.invokeFunction('convertToInteractive',\n",
       "                                                     [key], {});\n",
       "          if (!dataTable) return;\n",
       "\n",
       "          const docLinkHtml = 'Like what you see? Visit the ' +\n",
       "            '<a target=\"_blank\" href=https://colab.research.google.com/notebooks/data_table.ipynb>data table notebook</a>'\n",
       "            + ' to learn more about interactive tables.';\n",
       "          element.innerHTML = '';\n",
       "          dataTable['output_type'] = 'display_data';\n",
       "          await google.colab.output.renderOutput(dataTable, element);\n",
       "          const docLink = document.createElement('div');\n",
       "          docLink.innerHTML = docLinkHtml;\n",
       "          element.appendChild(docLink);\n",
       "        }\n",
       "      </script>\n",
       "    </div>\n",
       "  </div>\n",
       "  "
      ],
      "text/plain": [
       "     Number of Devices  Age  Declared Turnover  Actual Turnover  \\\n",
       "0                  3.0   18                 20               20   \n",
       "1                  3.0   19                 20               30   \n",
       "2                  3.0   20                 20               40   \n",
       "3                  1.0   18                 20               20   \n",
       "4                  1.0   18                 30               70   \n",
       "..                 ...  ...                ...              ...   \n",
       "211                1.0   21                 50               40   \n",
       "212                1.0   22                 20               20   \n",
       "213                3.0   21                 20               70   \n",
       "214                2.0   27                 20              100   \n",
       "215                3.0   25                 30               60   \n",
       "\n",
       "     Months Active  TurnoverDiff  Crypto Use  ATM use  AccUseDiff  \\\n",
       "0             12.0             0           1        0           0   \n",
       "1              3.0            10           1        0           0   \n",
       "2              3.0            20           1        0           0   \n",
       "3              3.0             0           1        0           1   \n",
       "4              2.0            40           0        0           1   \n",
       "..             ...           ...         ...      ...         ...   \n",
       "211            1.0            10           1        0           1   \n",
       "212            2.0             0           0        0           1   \n",
       "213            1.0            50           0        0           1   \n",
       "214            1.0            80           0        1           0   \n",
       "215            1.0            30           0        1           0   \n",
       "\n",
       "     Fraud Confirmed  TurnoverDiffStatus  Location  Declared Use  Actual Use  \\\n",
       "0                  0                   2         3             1           1   \n",
       "1                  0                   0         0             1           1   \n",
       "2                  0                   0         2             1           1   \n",
       "3                  1                   2         1             1           0   \n",
       "4                  1                   0         1             1           0   \n",
       "..               ...                 ...       ...           ...         ...   \n",
       "211                0                   1         3             3           0   \n",
       "212                0                   2         0             1           2   \n",
       "213                0                   0         2             1           3   \n",
       "214                0                   0         1             0           0   \n",
       "215                0                   0         1             0           0   \n",
       "\n",
       "     ID Type  \n",
       "0          3  \n",
       "1          3  \n",
       "2          3  \n",
       "3          3  \n",
       "4          2  \n",
       "..       ...  \n",
       "211        0  \n",
       "212        1  \n",
       "213        1  \n",
       "214        3  \n",
       "215        3  \n",
       "\n",
       "[216 rows x 15 columns]"
      ]
     },
     "execution_count": 58,
     "metadata": {},
     "output_type": "execute_result"
    }
   ],
   "source": [
    "numeric_data = pd.read_csv(path+\"Numeric_Data.csv\")\n",
    "numeric_data"
   ]
  },
  {
   "cell_type": "code",
   "execution_count": 59,
   "id": "configured-customer",
   "metadata": {
    "ExecuteTime": {
     "end_time": "2022-04-08T16:46:09.879634Z",
     "start_time": "2022-04-08T16:46:09.863632Z"
    },
    "id": "configured-customer"
   },
   "outputs": [],
   "source": [
    "X = numeric_data.loc[ : , numeric_data.columns != 'Fraud Confirmed'].copy() # Fraud Confirmed is our target variable\n",
    "y = numeric_data['Fraud Confirmed'].copy()"
   ]
  },
  {
   "cell_type": "code",
   "execution_count": 60,
   "id": "blind-thread",
   "metadata": {
    "ExecuteTime": {
     "end_time": "2022-04-08T16:11:37.471187Z",
     "start_time": "2022-04-08T16:11:37.442189Z"
    },
    "id": "blind-thread"
   },
   "outputs": [],
   "source": [
    "# Standardizing the features\n",
    "X_Scaled = StandardScaler().fit_transform(X)"
   ]
  },
  {
   "cell_type": "markdown",
   "id": "touched-reporter",
   "metadata": {
    "id": "touched-reporter"
   },
   "source": [
    "### Applying PCA"
   ]
  },
  {
   "cell_type": "code",
   "execution_count": 61,
   "id": "blond-prescription",
   "metadata": {
    "ExecuteTime": {
     "end_time": "2022-04-08T16:11:39.257378Z",
     "start_time": "2022-04-08T16:11:39.238376Z"
    },
    "id": "blond-prescription"
   },
   "outputs": [],
   "source": [
    "pca = PCA()\n",
    "principalComponents = pca.fit(X_Scaled)\n",
    "# principalDf = pd.DataFrame(data = principalComponents\n",
    "#              , columns = ['PC1', 'PC2'])"
   ]
  },
  {
   "cell_type": "code",
   "execution_count": 62,
   "id": "damaged-simple",
   "metadata": {
    "ExecuteTime": {
     "end_time": "2022-04-08T16:11:41.582457Z",
     "start_time": "2022-04-08T16:11:41.558446Z"
    },
    "colab": {
     "base_uri": "https://localhost:8080/"
    },
    "id": "damaged-simple",
    "outputId": "14d16ffc-7432-40d0-e111-c94534496af1"
   },
   "outputs": [
    {
     "data": {
      "text/plain": [
       "array([0.15459501, 0.12311267, 0.10202506, 0.08564923, 0.08031825,\n",
       "       0.07675728, 0.07406424, 0.06273377, 0.05842285, 0.05231215,\n",
       "       0.05044771, 0.03634111, 0.02681157, 0.0164091 ])"
      ]
     },
     "execution_count": 62,
     "metadata": {},
     "output_type": "execute_result"
    }
   ],
   "source": [
    "pca.explained_variance_ratio_"
   ]
  },
  {
   "cell_type": "code",
   "execution_count": 64,
   "id": "existing-southeast",
   "metadata": {
    "ExecuteTime": {
     "end_time": "2022-04-08T16:11:43.049234Z",
     "start_time": "2022-04-08T16:11:42.666237Z"
    },
    "colab": {
     "base_uri": "https://localhost:8080/",
     "height": 462
    },
    "id": "existing-southeast",
    "outputId": "88fc5282-5105-49e4-bf21-1c4b27ea20dd"
   },
   "outputs": [
    {
     "data": {
      "image/png": "[encoded data removed]",
      "text/plain": [
       "<Figure size 1080x504 with 1 Axes>"
      ]
     },
     "metadata": {},
     "output_type": "display_data"
    }
   ],
   "source": [
    "plt.figure(figsize = (15,7))\n",
    "plt.plot(range(1,15), pca.explained_variance_ratio_.cumsum(), marker = 'o', linestyle = '--')\n",
    "plt.title('Explained Variance by Components')\n",
    "plt.xlabel('Number of Components')\n",
    "plt.ylabel('Cumulative Explained Variance')\n",
    "plt.show()"
   ]
  },
  {
   "cell_type": "code",
   "execution_count": 65,
   "id": "bacterial-israel",
   "metadata": {
    "ExecuteTime": {
     "end_time": "2022-04-08T16:11:45.045876Z",
     "start_time": "2022-04-08T16:11:45.023878Z"
    },
    "colab": {
     "base_uri": "https://localhost:8080/"
    },
    "id": "bacterial-israel",
    "outputId": "50e23d35-91b1-48da-c1ca-2eadf70295f7"
   },
   "outputs": [
    {
     "data": {
      "text/plain": [
       "array([[ 0.19485162, -0.20658042,  0.17855495,  0.51604326,  0.0124434 ,\n",
       "         0.52642741, -0.00606687,  0.11672801,  0.18212617, -0.52712896,\n",
       "        -0.06640516,  0.11380977,  0.0085517 , -0.04197199],\n",
       "       [-0.19866168, -0.10993341,  0.44665321, -0.14646539, -0.18052674,\n",
       "         0.12630089, -0.45604769,  0.51468542,  0.08741551,  0.23818478,\n",
       "         0.07607814, -0.12357938, -0.08050441, -0.33787632],\n",
       "       [-0.13755193,  0.24915675,  0.26076601, -0.12989412,  0.22620294,\n",
       "         0.08035963,  0.1829484 , -0.08182679,  0.55188133,  0.20900829,\n",
       "        -0.06500492,  0.61688254, -0.05750345,  0.00199372],\n",
       "       [ 0.24800274, -0.07409526, -0.05138977, -0.0356663 ,  0.63088093,\n",
       "        -0.12787516, -0.13380998,  0.19099406, -0.00230849,  0.05298091,\n",
       "        -0.63508682, -0.14642436, -0.14734853, -0.10509821],\n",
       "       [ 0.15744241, -0.12577069,  0.47906749, -0.27554682,  0.16880676,\n",
       "         0.33576151,  0.10556384, -0.03651618, -0.28638537,  0.17034894,\n",
       "         0.00286699, -0.09454469,  0.26681816,  0.55594879],\n",
       "       [-0.45131401,  0.18182379,  0.06206328,  0.10054952, -0.07655083,\n",
       "         0.04108843, -0.05665531, -0.155876  , -0.11177638, -0.07273197,\n",
       "        -0.45234973, -0.01992424,  0.67329034, -0.19523639],\n",
       "       [-0.3260906 ,  0.57846334,  0.17417081,  0.08075195,  0.16461828,\n",
       "         0.25176637,  0.23577343, -0.01894064, -0.24210532, -0.11686811,\n",
       "         0.0214474 , -0.31181886, -0.44949268, -0.06121767],\n",
       "       [ 0.57569049,  0.45627187,  0.07102359, -0.01105951,  0.00607843,\n",
       "        -0.02231857,  0.0664249 ,  0.195841  , -0.32682408,  0.02155877,\n",
       "         0.16773114,  0.24777176,  0.26936654, -0.37758056],\n",
       "       [-0.010378  ,  0.45972877, -0.33508079, -0.04802327,  0.00484682,\n",
       "         0.10369683, -0.51164058,  0.29468606,  0.14901817, -0.14979837,\n",
       "         0.02197095,  0.0463433 ,  0.09822104,  0.50758264]])"
      ]
     },
     "execution_count": 65,
     "metadata": {},
     "output_type": "execute_result"
    }
   ],
   "source": [
    "pca = PCA(n_components = 9)\n",
    "pca.fit(X_Scaled)\n",
    "pca.components_"
   ]
  },
  {
   "cell_type": "code",
   "execution_count": 66,
   "id": "united-roads",
   "metadata": {
    "ExecuteTime": {
     "end_time": "2022-04-08T16:11:53.524825Z",
     "start_time": "2022-04-08T16:11:53.465821Z"
    },
    "colab": {
     "base_uri": "https://localhost:8080/",
     "height": 393
    },
    "id": "united-roads",
    "outputId": "23646536-efd6-4787-8fd3-144c5d986efd"
   },
   "outputs": [
    {
     "data": {
      "text/html": [
       "\n",
       "  <div id=\"df-dd772139-db5d-4632-971f-b21d88c588ea\">\n",
       "    <div class=\"colab-df-container\">\n",
       "      <div>\n",
       "<style scoped>\n",
       "    .dataframe tbody tr th:only-of-type {\n",
       "        vertical-align: middle;\n",
       "    }\n",
       "\n",
       "    .dataframe tbody tr th {\n",
       "        vertical-align: top;\n",
       "    }\n",
       "\n",
       "    .dataframe thead th {\n",
       "        text-align: right;\n",
       "    }\n",
       "</style>\n",
       "<table border=\"1\" class=\"dataframe\">\n",
       "  <thead>\n",
       "    <tr style=\"text-align: right;\">\n",
       "      <th></th>\n",
       "      <th>Number of Devices</th>\n",
       "      <th>Age</th>\n",
       "      <th>Declared Turnover</th>\n",
       "      <th>Actual Turnover</th>\n",
       "      <th>Months Active</th>\n",
       "      <th>TurnoverDiff</th>\n",
       "      <th>Crypto Use</th>\n",
       "      <th>ATM use</th>\n",
       "      <th>AccUseDiff</th>\n",
       "      <th>TurnoverDiffStatus</th>\n",
       "      <th>Location</th>\n",
       "      <th>Declared Use</th>\n",
       "      <th>Actual Use</th>\n",
       "      <th>ID Type</th>\n",
       "    </tr>\n",
       "  </thead>\n",
       "  <tbody>\n",
       "    <tr>\n",
       "      <th>PC1</th>\n",
       "      <td>0.194852</td>\n",
       "      <td>-0.206580</td>\n",
       "      <td>0.178555</td>\n",
       "      <td>0.516043</td>\n",
       "      <td>0.012443</td>\n",
       "      <td>0.526427</td>\n",
       "      <td>-0.006067</td>\n",
       "      <td>0.116728</td>\n",
       "      <td>0.182126</td>\n",
       "      <td>-0.527129</td>\n",
       "      <td>-0.066405</td>\n",
       "      <td>0.113810</td>\n",
       "      <td>0.008552</td>\n",
       "      <td>-0.041972</td>\n",
       "    </tr>\n",
       "    <tr>\n",
       "      <th>PC2</th>\n",
       "      <td>-0.198662</td>\n",
       "      <td>-0.109933</td>\n",
       "      <td>0.446653</td>\n",
       "      <td>-0.146465</td>\n",
       "      <td>-0.180527</td>\n",
       "      <td>0.126301</td>\n",
       "      <td>-0.456048</td>\n",
       "      <td>0.514685</td>\n",
       "      <td>0.087416</td>\n",
       "      <td>0.238185</td>\n",
       "      <td>0.076078</td>\n",
       "      <td>-0.123579</td>\n",
       "      <td>-0.080504</td>\n",
       "      <td>-0.337876</td>\n",
       "    </tr>\n",
       "    <tr>\n",
       "      <th>PC3</th>\n",
       "      <td>-0.137552</td>\n",
       "      <td>0.249157</td>\n",
       "      <td>0.260766</td>\n",
       "      <td>-0.129894</td>\n",
       "      <td>0.226203</td>\n",
       "      <td>0.080360</td>\n",
       "      <td>0.182948</td>\n",
       "      <td>-0.081827</td>\n",
       "      <td>0.551881</td>\n",
       "      <td>0.209008</td>\n",
       "      <td>-0.065005</td>\n",
       "      <td>0.616883</td>\n",
       "      <td>-0.057503</td>\n",
       "      <td>0.001994</td>\n",
       "    </tr>\n",
       "    <tr>\n",
       "      <th>PC4</th>\n",
       "      <td>0.248003</td>\n",
       "      <td>-0.074095</td>\n",
       "      <td>-0.051390</td>\n",
       "      <td>-0.035666</td>\n",
       "      <td>0.630881</td>\n",
       "      <td>-0.127875</td>\n",
       "      <td>-0.133810</td>\n",
       "      <td>0.190994</td>\n",
       "      <td>-0.002308</td>\n",
       "      <td>0.052981</td>\n",
       "      <td>-0.635087</td>\n",
       "      <td>-0.146424</td>\n",
       "      <td>-0.147349</td>\n",
       "      <td>-0.105098</td>\n",
       "    </tr>\n",
       "    <tr>\n",
       "      <th>PC5</th>\n",
       "      <td>0.157442</td>\n",
       "      <td>-0.125771</td>\n",
       "      <td>0.479067</td>\n",
       "      <td>-0.275547</td>\n",
       "      <td>0.168807</td>\n",
       "      <td>0.335762</td>\n",
       "      <td>0.105564</td>\n",
       "      <td>-0.036516</td>\n",
       "      <td>-0.286385</td>\n",
       "      <td>0.170349</td>\n",
       "      <td>0.002867</td>\n",
       "      <td>-0.094545</td>\n",
       "      <td>0.266818</td>\n",
       "      <td>0.555949</td>\n",
       "    </tr>\n",
       "    <tr>\n",
       "      <th>PC6</th>\n",
       "      <td>-0.451314</td>\n",
       "      <td>0.181824</td>\n",
       "      <td>0.062063</td>\n",
       "      <td>0.100550</td>\n",
       "      <td>-0.076551</td>\n",
       "      <td>0.041088</td>\n",
       "      <td>-0.056655</td>\n",
       "      <td>-0.155876</td>\n",
       "      <td>-0.111776</td>\n",
       "      <td>-0.072732</td>\n",
       "      <td>-0.452350</td>\n",
       "      <td>-0.019924</td>\n",
       "      <td>0.673290</td>\n",
       "      <td>-0.195236</td>\n",
       "    </tr>\n",
       "    <tr>\n",
       "      <th>PC7</th>\n",
       "      <td>-0.326091</td>\n",
       "      <td>0.578463</td>\n",
       "      <td>0.174171</td>\n",
       "      <td>0.080752</td>\n",
       "      <td>0.164618</td>\n",
       "      <td>0.251766</td>\n",
       "      <td>0.235773</td>\n",
       "      <td>-0.018941</td>\n",
       "      <td>-0.242105</td>\n",
       "      <td>-0.116868</td>\n",
       "      <td>0.021447</td>\n",
       "      <td>-0.311819</td>\n",
       "      <td>-0.449493</td>\n",
       "      <td>-0.061218</td>\n",
       "    </tr>\n",
       "    <tr>\n",
       "      <th>PC8</th>\n",
       "      <td>0.575690</td>\n",
       "      <td>0.456272</td>\n",
       "      <td>0.071024</td>\n",
       "      <td>-0.011060</td>\n",
       "      <td>0.006078</td>\n",
       "      <td>-0.022319</td>\n",
       "      <td>0.066425</td>\n",
       "      <td>0.195841</td>\n",
       "      <td>-0.326824</td>\n",
       "      <td>0.021559</td>\n",
       "      <td>0.167731</td>\n",
       "      <td>0.247772</td>\n",
       "      <td>0.269367</td>\n",
       "      <td>-0.377581</td>\n",
       "    </tr>\n",
       "    <tr>\n",
       "      <th>PC9</th>\n",
       "      <td>-0.010378</td>\n",
       "      <td>0.459729</td>\n",
       "      <td>-0.335081</td>\n",
       "      <td>-0.048023</td>\n",
       "      <td>0.004847</td>\n",
       "      <td>0.103697</td>\n",
       "      <td>-0.511641</td>\n",
       "      <td>0.294686</td>\n",
       "      <td>0.149018</td>\n",
       "      <td>-0.149798</td>\n",
       "      <td>0.021971</td>\n",
       "      <td>0.046343</td>\n",
       "      <td>0.098221</td>\n",
       "      <td>0.507583</td>\n",
       "    </tr>\n",
       "  </tbody>\n",
       "</table>\n",
       "</div>\n",
       "      <button class=\"colab-df-convert\" onclick=\"convertToInteractive('df-dd772139-db5d-4632-971f-b21d88c588ea')\"\n",
       "              title=\"Convert this dataframe to an interactive table.\"\n",
       "              style=\"display:none;\">\n",
       "        \n",
       "  <svg xmlns=\"http://www.w3.org/2000/svg\" height=\"24px\"viewBox=\"0 0 24 24\"\n",
       "       width=\"24px\">\n",
       "    <path d=\"M0 0h24v24H0V0z\" fill=\"none\"/>\n",
       "    <path d=\"M18.56 5.44l.94 2.06.94-2.06 2.06-.94-2.06-.94-.94-2.06-.94 2.06-2.06.94zm-11 1L8.5 8.5l.94-2.06 2.06-.94-2.06-.94L8.5 2.5l-.94 2.06-2.06.94zm10 10l.94 2.06.94-2.06 2.06-.94-2.06-.94-.94-2.06-.94 2.06-2.06.94z\"/><path d=\"M17.41 7.96l-1.37-1.37c-.4-.4-.92-.59-1.43-.59-.52 0-1.04.2-1.43.59L10.3 9.45l-7.72 7.72c-.78.78-.78 2.05 0 2.83L4 21.41c.39.39.9.59 1.41.59.51 0 1.02-.2 1.41-.59l7.78-7.78 2.81-2.81c.8-.78.8-2.07 0-2.86zM5.41 20L4 18.59l7.72-7.72 1.47 1.35L5.41 20z\"/>\n",
       "  </svg>\n",
       "      </button>\n",
       "      \n",
       "  <style>\n",
       "    .colab-df-container {\n",
       "      display:flex;\n",
       "      flex-wrap:wrap;\n",
       "      gap: 12px;\n",
       "    }\n",
       "\n",
       "    .colab-df-convert {\n",
       "      background-color: #E8F0FE;\n",
       "      border: none;\n",
       "      border-radius: 50%;\n",
       "      cursor: pointer;\n",
       "      display: none;\n",
       "      fill: #1967D2;\n",
       "      height: 32px;\n",
       "      padding: 0 0 0 0;\n",
       "      width: 32px;\n",
       "    }\n",
       "\n",
       "    .colab-df-convert:hover {\n",
       "      background-color: #E2EBFA;\n",
       "      box-shadow: 0px 1px 2px rgba(60, 64, 67, 0.3), 0px 1px 3px 1px rgba(60, 64, 67, 0.15);\n",
       "      fill: #174EA6;\n",
       "    }\n",
       "\n",
       "    [theme=dark] .colab-df-convert {\n",
       "      background-color: #3B4455;\n",
       "      fill: #D2E3FC;\n",
       "    }\n",
       "\n",
       "    [theme=dark] .colab-df-convert:hover {\n",
       "      background-color: #434B5C;\n",
       "      box-shadow: 0px 1px 3px 1px rgba(0, 0, 0, 0.15);\n",
       "      filter: drop-shadow(0px 1px 2px rgba(0, 0, 0, 0.3));\n",
       "      fill: #FFFFFF;\n",
       "    }\n",
       "  </style>\n",
       "\n",
       "      <script>\n",
       "        const buttonEl =\n",
       "          document.querySelector('#df-dd772139-db5d-4632-971f-b21d88c588ea button.colab-df-convert');\n",
       "        buttonEl.style.display =\n",
       "          google.colab.kernel.accessAllowed ? 'block' : 'none';\n",
       "\n",
       "        async function convertToInteractive(key) {\n",
       "          const element = document.querySelector('#df-dd772139-db5d-4632-971f-b21d88c588ea');\n",
       "          const dataTable =\n",
       "            await google.colab.kernel.invokeFunction('convertToInteractive',\n",
       "                                                     [key], {});\n",
       "          if (!dataTable) return;\n",
       "\n",
       "          const docLinkHtml = 'Like what you see? Visit the ' +\n",
       "            '<a target=\"_blank\" href=https://colab.research.google.com/notebooks/data_table.ipynb>data table notebook</a>'\n",
       "            + ' to learn more about interactive tables.';\n",
       "          element.innerHTML = '';\n",
       "          dataTable['output_type'] = 'display_data';\n",
       "          await google.colab.output.renderOutput(dataTable, element);\n",
       "          const docLink = document.createElement('div');\n",
       "          docLink.innerHTML = docLinkHtml;\n",
       "          element.appendChild(docLink);\n",
       "        }\n",
       "      </script>\n",
       "    </div>\n",
       "  </div>\n",
       "  "
      ],
      "text/plain": [
       "     Number of Devices       Age  Declared Turnover  Actual Turnover  \\\n",
       "PC1           0.194852 -0.206580           0.178555         0.516043   \n",
       "PC2          -0.198662 -0.109933           0.446653        -0.146465   \n",
       "PC3          -0.137552  0.249157           0.260766        -0.129894   \n",
       "PC4           0.248003 -0.074095          -0.051390        -0.035666   \n",
       "PC5           0.157442 -0.125771           0.479067        -0.275547   \n",
       "PC6          -0.451314  0.181824           0.062063         0.100550   \n",
       "PC7          -0.326091  0.578463           0.174171         0.080752   \n",
       "PC8           0.575690  0.456272           0.071024        -0.011060   \n",
       "PC9          -0.010378  0.459729          -0.335081        -0.048023   \n",
       "\n",
       "     Months Active  TurnoverDiff  Crypto Use   ATM use  AccUseDiff  \\\n",
       "PC1       0.012443      0.526427   -0.006067  0.116728    0.182126   \n",
       "PC2      -0.180527      0.126301   -0.456048  0.514685    0.087416   \n",
       "PC3       0.226203      0.080360    0.182948 -0.081827    0.551881   \n",
       "PC4       0.630881     -0.127875   -0.133810  0.190994   -0.002308   \n",
       "PC5       0.168807      0.335762    0.105564 -0.036516   -0.286385   \n",
       "PC6      -0.076551      0.041088   -0.056655 -0.155876   -0.111776   \n",
       "PC7       0.164618      0.251766    0.235773 -0.018941   -0.242105   \n",
       "PC8       0.006078     -0.022319    0.066425  0.195841   -0.326824   \n",
       "PC9       0.004847      0.103697   -0.511641  0.294686    0.149018   \n",
       "\n",
       "     TurnoverDiffStatus  Location  Declared Use  Actual Use   ID Type  \n",
       "PC1           -0.527129 -0.066405      0.113810    0.008552 -0.041972  \n",
       "PC2            0.238185  0.076078     -0.123579   -0.080504 -0.337876  \n",
       "PC3            0.209008 -0.065005      0.616883   -0.057503  0.001994  \n",
       "PC4            0.052981 -0.635087     -0.146424   -0.147349 -0.105098  \n",
       "PC5            0.170349  0.002867     -0.094545    0.266818  0.555949  \n",
       "PC6           -0.072732 -0.452350     -0.019924    0.673290 -0.195236  \n",
       "PC7           -0.116868  0.021447     -0.311819   -0.449493 -0.061218  \n",
       "PC8            0.021559  0.167731      0.247772    0.269367 -0.377581  \n",
       "PC9           -0.149798  0.021971      0.046343    0.098221  0.507583  "
      ]
     },
     "execution_count": 66,
     "metadata": {},
     "output_type": "execute_result"
    }
   ],
   "source": [
    "df_pca_comp = pd.DataFrame(data = pca.components_,\n",
    "                           columns = X.columns,\n",
    "              index = ['PC1', 'PC2', 'PC3','PC4', 'PC5', 'PC6','PC7', 'PC8', 'PC9'])\n",
    "df_pca_comp"
   ]
  },
  {
   "cell_type": "code",
   "execution_count": 67,
   "id": "asian-selling",
   "metadata": {
    "ExecuteTime": {
     "end_time": "2022-04-08T16:11:58.011187Z",
     "start_time": "2022-04-08T16:11:54.495188Z"
    },
    "colab": {
     "base_uri": "https://localhost:8080/",
     "height": 640
    },
    "id": "asian-selling",
    "outputId": "ad7086c7-0645-4802-d7f1-4dc63fb0d98a"
   },
   "outputs": [
    {
     "data": {
      "image/png": "[encoded data removed]",
      "text/plain": [
       "<Figure size 864x648 with 2 Axes>"
      ]
     },
     "metadata": {},
     "output_type": "display_data"
    }
   ],
   "source": [
    "plt.figure(figsize=(12,9))\n",
    "sns.heatmap(df_pca_comp,\n",
    "            vmin = -1, \n",
    "            vmax = 1,\n",
    "            cmap = 'RdBu',\n",
    "            annot = True)\n",
    "plt.yticks([0, 1, 2,3,4,5,6,7,8], \n",
    "           ['PC1', 'PC2', 'PC3','PC4', 'PC5', 'PC6','PC7', 'PC8', 'PC9'],\n",
    "           rotation = 0,\n",
    "           fontsize = 12)\n",
    "plt.title('Components vs Original Features',fontsize = 14)\n",
    "plt.show()"
   ]
  },
  {
   "cell_type": "code",
   "execution_count": 68,
   "id": "prime-wound",
   "metadata": {
    "ExecuteTime": {
     "end_time": "2022-04-08T16:12:03.786915Z",
     "start_time": "2022-04-08T16:12:03.777908Z"
    },
    "id": "prime-wound"
   },
   "outputs": [],
   "source": [
    "pca.transform(X_Scaled)\n",
    "scores_pca = pca.transform(X_Scaled)"
   ]
  },
  {
   "cell_type": "markdown",
   "id": "allied-alloy",
   "metadata": {
    "id": "allied-alloy"
   },
   "source": [
    "## Kmeans"
   ]
  },
  {
   "cell_type": "code",
   "execution_count": 69,
   "id": "xmGG6K4ISFAi",
   "metadata": {
    "colab": {
     "base_uri": "https://localhost:8080/",
     "height": 521
    },
    "id": "xmGG6K4ISFAi",
    "outputId": "a9f32647-1e6e-4bde-bd61-4514055f10fd"
   },
   "outputs": [
    {
     "data": {
      "image/png": "[encoded data removed]",
      "text/plain": [
       "<Figure size 864x576 with 1 Axes>"
      ]
     },
     "metadata": {},
     "output_type": "display_data"
    }
   ],
   "source": [
    "wcss = []\n",
    "for i in range(1, 11):\n",
    "    km = KMeans(n_clusters = i)\n",
    "    km.fit_predict(scores_pca)\n",
    "    wcss.append(km.inertia_)\n",
    "\n",
    "# lets plot the results\n",
    "plt.figure(figsize=((12,8)))\n",
    "plt.plot(range(1, 11), wcss)\n",
    "plt.scatter(range(1, 11), wcss ,s = 100)\n",
    "plt.title('The Elbow Method', fontsize = 20)\n",
    "plt.xlabel('No. of Clusters')\n",
    "plt.ylabel('wcss')\n",
    "plt.show()"
   ]
  },
  {
   "cell_type": "code",
   "execution_count": 70,
   "id": "worse-relay",
   "metadata": {
    "ExecuteTime": {
     "end_time": "2022-04-08T16:12:17.220977Z",
     "start_time": "2022-04-08T16:12:16.665979Z"
    },
    "colab": {
     "base_uri": "https://localhost:8080/",
     "height": 428
    },
    "id": "worse-relay",
    "outputId": "a481cb42-f0dd-4605-aa32-ea5768ed0f87"
   },
   "outputs": [
    {
     "data": {
      "image/png": "[encoded data removed]",
      "text/plain": [
       "<Figure size 720x504 with 1 Axes>"
      ]
     },
     "metadata": {},
     "output_type": "display_data"
    }
   ],
   "source": [
    "model = KMeans(n_clusters = 3, random_state = 19)\n",
    "yhat = model.fit_predict(scores_pca)\n",
    "\n",
    "# retrieve unique clusters\n",
    "clusters = np.unique(yhat)\n",
    "\n",
    "plt.figure(figsize = (10,7))\n",
    "# create scatter plot for samples from each cluster\n",
    "for cluster in clusters:\n",
    "    # get row indexes for samples with this cluster\n",
    "    row_ix = np.where(yhat == cluster)\n",
    "    # create scatter of these samples\n",
    "    plt.scatter(scores_pca[row_ix, 0], scores_pca[row_ix, 1])\n",
    "\n",
    "# show the plot\n",
    "plt.show()"
   ]
  },
  {
   "cell_type": "code",
   "execution_count": 71,
   "id": "accompanied-bridal",
   "metadata": {
    "ExecuteTime": {
     "end_time": "2022-04-08T16:12:21.430110Z",
     "start_time": "2022-04-08T16:12:21.415099Z"
    },
    "colab": {
     "base_uri": "https://localhost:8080/"
    },
    "id": "accompanied-bridal",
    "outputId": "87c0d12b-267f-4a02-8683-539a0c7c5d28"
   },
   "outputs": [
    {
     "data": {
      "text/plain": [
       "{0, 1, 2}"
      ]
     },
     "execution_count": 71,
     "metadata": {},
     "output_type": "execute_result"
    }
   ],
   "source": [
    "set(yhat)"
   ]
  },
  {
   "cell_type": "code",
   "execution_count": 72,
   "id": "endangered-place",
   "metadata": {
    "ExecuteTime": {
     "end_time": "2022-04-08T16:12:31.412487Z",
     "start_time": "2022-04-08T16:12:31.327479Z"
    },
    "colab": {
     "base_uri": "https://localhost:8080/",
     "height": 696
    },
    "id": "endangered-place",
    "outputId": "03994df2-9d86-4632-cd3b-c39bf5d7ac13"
   },
   "outputs": [
    {
     "data": {
      "text/html": [
       "\n",
       "  <div id=\"df-19aa6cad-87da-46b9-88ab-20ba33e34a04\">\n",
       "    <div class=\"colab-df-container\">\n",
       "      <div>\n",
       "<style scoped>\n",
       "    .dataframe tbody tr th:only-of-type {\n",
       "        vertical-align: middle;\n",
       "    }\n",
       "\n",
       "    .dataframe tbody tr th {\n",
       "        vertical-align: top;\n",
       "    }\n",
       "\n",
       "    .dataframe thead th {\n",
       "        text-align: right;\n",
       "    }\n",
       "</style>\n",
       "<table border=\"1\" class=\"dataframe\">\n",
       "  <thead>\n",
       "    <tr style=\"text-align: right;\">\n",
       "      <th></th>\n",
       "      <th>Post code</th>\n",
       "      <th>ID Type</th>\n",
       "      <th>Email</th>\n",
       "      <th>Location</th>\n",
       "      <th>Number of Devices</th>\n",
       "      <th>Age</th>\n",
       "      <th>Crypto Use</th>\n",
       "      <th>ATM use</th>\n",
       "      <th>Declared Use</th>\n",
       "      <th>Declared Turnover</th>\n",
       "      <th>Actual Use</th>\n",
       "      <th>Actual Turnover</th>\n",
       "      <th>Months Active</th>\n",
       "      <th>Fraud Confirmed</th>\n",
       "      <th>AgeRange</th>\n",
       "      <th>TurnoverDiffStatus</th>\n",
       "      <th>TurnoverDiff</th>\n",
       "      <th>AccUseDiff</th>\n",
       "      <th>EmailDomain</th>\n",
       "    </tr>\n",
       "  </thead>\n",
       "  <tbody>\n",
       "    <tr>\n",
       "      <th>0</th>\n",
       "      <td>W1</td>\n",
       "      <td>Passport</td>\n",
       "      <td>jbrekke@gmail.com</td>\n",
       "      <td>UK</td>\n",
       "      <td>3.0</td>\n",
       "      <td>18</td>\n",
       "      <td>YES</td>\n",
       "      <td>NO</td>\n",
       "      <td>Day to date</td>\n",
       "      <td>20</td>\n",
       "      <td>Day to date</td>\n",
       "      <td>20</td>\n",
       "      <td>12.0</td>\n",
       "      <td>NO</td>\n",
       "      <td>&lt;30</td>\n",
       "      <td>Same</td>\n",
       "      <td>0</td>\n",
       "      <td>No</td>\n",
       "      <td>gmail.com</td>\n",
       "    </tr>\n",
       "    <tr>\n",
       "      <th>1</th>\n",
       "      <td>W2</td>\n",
       "      <td>Passport</td>\n",
       "      <td>sid23@verizon.net</td>\n",
       "      <td>Europe</td>\n",
       "      <td>3.0</td>\n",
       "      <td>19</td>\n",
       "      <td>YES</td>\n",
       "      <td>NO</td>\n",
       "      <td>Day to date</td>\n",
       "      <td>20</td>\n",
       "      <td>Day to date</td>\n",
       "      <td>30</td>\n",
       "      <td>3.0</td>\n",
       "      <td>NO</td>\n",
       "      <td>&lt;30</td>\n",
       "      <td>High</td>\n",
       "      <td>10</td>\n",
       "      <td>No</td>\n",
       "      <td>verizon.net</td>\n",
       "    </tr>\n",
       "    <tr>\n",
       "      <th>2</th>\n",
       "      <td>W3</td>\n",
       "      <td>Passport</td>\n",
       "      <td>wstark@mac.com</td>\n",
       "      <td>Other</td>\n",
       "      <td>3.0</td>\n",
       "      <td>20</td>\n",
       "      <td>YES</td>\n",
       "      <td>NO</td>\n",
       "      <td>Day to date</td>\n",
       "      <td>20</td>\n",
       "      <td>Day to date</td>\n",
       "      <td>40</td>\n",
       "      <td>3.0</td>\n",
       "      <td>NO</td>\n",
       "      <td>&lt;30</td>\n",
       "      <td>High</td>\n",
       "      <td>20</td>\n",
       "      <td>No</td>\n",
       "      <td>mac.com</td>\n",
       "    </tr>\n",
       "    <tr>\n",
       "      <th>3</th>\n",
       "      <td>W4</td>\n",
       "      <td>Passport</td>\n",
       "      <td>haven.gottlieb@comcast.net</td>\n",
       "      <td>High Risk Coutry</td>\n",
       "      <td>1.0</td>\n",
       "      <td>18</td>\n",
       "      <td>YES</td>\n",
       "      <td>NO</td>\n",
       "      <td>Day to date</td>\n",
       "      <td>20</td>\n",
       "      <td>ATM</td>\n",
       "      <td>20</td>\n",
       "      <td>3.0</td>\n",
       "      <td>YES</td>\n",
       "      <td>&lt;30</td>\n",
       "      <td>Same</td>\n",
       "      <td>0</td>\n",
       "      <td>Yes</td>\n",
       "      <td>comcast.net</td>\n",
       "    </tr>\n",
       "    <tr>\n",
       "      <th>4</th>\n",
       "      <td>W5</td>\n",
       "      <td>ID Card</td>\n",
       "      <td>qheidenreich@msn.com</td>\n",
       "      <td>High Risk Coutry</td>\n",
       "      <td>1.0</td>\n",
       "      <td>18</td>\n",
       "      <td>NO</td>\n",
       "      <td>NO</td>\n",
       "      <td>Day to date</td>\n",
       "      <td>30</td>\n",
       "      <td>ATM</td>\n",
       "      <td>70</td>\n",
       "      <td>2.0</td>\n",
       "      <td>YES</td>\n",
       "      <td>&lt;30</td>\n",
       "      <td>High</td>\n",
       "      <td>40</td>\n",
       "      <td>Yes</td>\n",
       "      <td>msn.com</td>\n",
       "    </tr>\n",
       "    <tr>\n",
       "      <th>...</th>\n",
       "      <td>...</td>\n",
       "      <td>...</td>\n",
       "      <td>...</td>\n",
       "      <td>...</td>\n",
       "      <td>...</td>\n",
       "      <td>...</td>\n",
       "      <td>...</td>\n",
       "      <td>...</td>\n",
       "      <td>...</td>\n",
       "      <td>...</td>\n",
       "      <td>...</td>\n",
       "      <td>...</td>\n",
       "      <td>...</td>\n",
       "      <td>...</td>\n",
       "      <td>...</td>\n",
       "      <td>...</td>\n",
       "      <td>...</td>\n",
       "      <td>...</td>\n",
       "      <td>...</td>\n",
       "    </tr>\n",
       "    <tr>\n",
       "      <th>211</th>\n",
       "      <td>W32</td>\n",
       "      <td>Driving licence Full</td>\n",
       "      <td>elinore.swaniawski@sbcglobal.net</td>\n",
       "      <td>UK</td>\n",
       "      <td>1.0</td>\n",
       "      <td>21</td>\n",
       "      <td>YES</td>\n",
       "      <td>NO</td>\n",
       "      <td>Receiving and Withdrawing</td>\n",
       "      <td>50</td>\n",
       "      <td>ATM</td>\n",
       "      <td>40</td>\n",
       "      <td>1.0</td>\n",
       "      <td>NO</td>\n",
       "      <td>&lt;30</td>\n",
       "      <td>Low</td>\n",
       "      <td>10</td>\n",
       "      <td>Yes</td>\n",
       "      <td>sbcglobal.net</td>\n",
       "    </tr>\n",
       "    <tr>\n",
       "      <th>212</th>\n",
       "      <td>W33</td>\n",
       "      <td>Driving licence Provisional</td>\n",
       "      <td>fheller@yahoo.com</td>\n",
       "      <td>Europe</td>\n",
       "      <td>1.0</td>\n",
       "      <td>22</td>\n",
       "      <td>NO</td>\n",
       "      <td>NO</td>\n",
       "      <td>Day to date</td>\n",
       "      <td>20</td>\n",
       "      <td>Friends and Family</td>\n",
       "      <td>20</td>\n",
       "      <td>2.0</td>\n",
       "      <td>NO</td>\n",
       "      <td>&lt;30</td>\n",
       "      <td>Same</td>\n",
       "      <td>0</td>\n",
       "      <td>Yes</td>\n",
       "      <td>yahoo.com</td>\n",
       "    </tr>\n",
       "    <tr>\n",
       "      <th>213</th>\n",
       "      <td>W34</td>\n",
       "      <td>Driving licence Provisional</td>\n",
       "      <td>predovic.syble@icloud.com</td>\n",
       "      <td>Other</td>\n",
       "      <td>3.0</td>\n",
       "      <td>21</td>\n",
       "      <td>NO</td>\n",
       "      <td>NO</td>\n",
       "      <td>Day to date</td>\n",
       "      <td>20</td>\n",
       "      <td>Receiving and Withdrawing</td>\n",
       "      <td>70</td>\n",
       "      <td>1.0</td>\n",
       "      <td>NO</td>\n",
       "      <td>&lt;30</td>\n",
       "      <td>High</td>\n",
       "      <td>50</td>\n",
       "      <td>Yes</td>\n",
       "      <td>icloud.com</td>\n",
       "    </tr>\n",
       "    <tr>\n",
       "      <th>214</th>\n",
       "      <td>W35</td>\n",
       "      <td>Passport</td>\n",
       "      <td>hahn.vivienne@comcast.net</td>\n",
       "      <td>High Risk Coutry</td>\n",
       "      <td>2.0</td>\n",
       "      <td>27</td>\n",
       "      <td>NO</td>\n",
       "      <td>YES</td>\n",
       "      <td>ATM</td>\n",
       "      <td>20</td>\n",
       "      <td>ATM</td>\n",
       "      <td>100</td>\n",
       "      <td>1.0</td>\n",
       "      <td>NO</td>\n",
       "      <td>&lt;30</td>\n",
       "      <td>High</td>\n",
       "      <td>80</td>\n",
       "      <td>No</td>\n",
       "      <td>comcast.net</td>\n",
       "    </tr>\n",
       "    <tr>\n",
       "      <th>215</th>\n",
       "      <td>W36</td>\n",
       "      <td>Passport</td>\n",
       "      <td>volkman.augustine@hotmail.com</td>\n",
       "      <td>High Risk Coutry</td>\n",
       "      <td>3.0</td>\n",
       "      <td>25</td>\n",
       "      <td>NO</td>\n",
       "      <td>YES</td>\n",
       "      <td>ATM</td>\n",
       "      <td>30</td>\n",
       "      <td>ATM</td>\n",
       "      <td>60</td>\n",
       "      <td>1.0</td>\n",
       "      <td>NO</td>\n",
       "      <td>&lt;30</td>\n",
       "      <td>High</td>\n",
       "      <td>30</td>\n",
       "      <td>No</td>\n",
       "      <td>hotmail.com</td>\n",
       "    </tr>\n",
       "  </tbody>\n",
       "</table>\n",
       "<p>216 rows × 19 columns</p>\n",
       "</div>\n",
       "      <button class=\"colab-df-convert\" onclick=\"convertToInteractive('df-19aa6cad-87da-46b9-88ab-20ba33e34a04')\"\n",
       "              title=\"Convert this dataframe to an interactive table.\"\n",
       "              style=\"display:none;\">\n",
       "        \n",
       "  <svg xmlns=\"http://www.w3.org/2000/svg\" height=\"24px\"viewBox=\"0 0 24 24\"\n",
       "       width=\"24px\">\n",
       "    <path d=\"M0 0h24v24H0V0z\" fill=\"none\"/>\n",
       "    <path d=\"M18.56 5.44l.94 2.06.94-2.06 2.06-.94-2.06-.94-.94-2.06-.94 2.06-2.06.94zm-11 1L8.5 8.5l.94-2.06 2.06-.94-2.06-.94L8.5 2.5l-.94 2.06-2.06.94zm10 10l.94 2.06.94-2.06 2.06-.94-2.06-.94-.94-2.06-.94 2.06-2.06.94z\"/><path d=\"M17.41 7.96l-1.37-1.37c-.4-.4-.92-.59-1.43-.59-.52 0-1.04.2-1.43.59L10.3 9.45l-7.72 7.72c-.78.78-.78 2.05 0 2.83L4 21.41c.39.39.9.59 1.41.59.51 0 1.02-.2 1.41-.59l7.78-7.78 2.81-2.81c.8-.78.8-2.07 0-2.86zM5.41 20L4 18.59l7.72-7.72 1.47 1.35L5.41 20z\"/>\n",
       "  </svg>\n",
       "      </button>\n",
       "      \n",
       "  <style>\n",
       "    .colab-df-container {\n",
       "      display:flex;\n",
       "      flex-wrap:wrap;\n",
       "      gap: 12px;\n",
       "    }\n",
       "\n",
       "    .colab-df-convert {\n",
       "      background-color: #E8F0FE;\n",
       "      border: none;\n",
       "      border-radius: 50%;\n",
       "      cursor: pointer;\n",
       "      display: none;\n",
       "      fill: #1967D2;\n",
       "      height: 32px;\n",
       "      padding: 0 0 0 0;\n",
       "      width: 32px;\n",
       "    }\n",
       "\n",
       "    .colab-df-convert:hover {\n",
       "      background-color: #E2EBFA;\n",
       "      box-shadow: 0px 1px 2px rgba(60, 64, 67, 0.3), 0px 1px 3px 1px rgba(60, 64, 67, 0.15);\n",
       "      fill: #174EA6;\n",
       "    }\n",
       "\n",
       "    [theme=dark] .colab-df-convert {\n",
       "      background-color: #3B4455;\n",
       "      fill: #D2E3FC;\n",
       "    }\n",
       "\n",
       "    [theme=dark] .colab-df-convert:hover {\n",
       "      background-color: #434B5C;\n",
       "      box-shadow: 0px 1px 3px 1px rgba(0, 0, 0, 0.15);\n",
       "      filter: drop-shadow(0px 1px 2px rgba(0, 0, 0, 0.3));\n",
       "      fill: #FFFFFF;\n",
       "    }\n",
       "  </style>\n",
       "\n",
       "      <script>\n",
       "        const buttonEl =\n",
       "          document.querySelector('#df-19aa6cad-87da-46b9-88ab-20ba33e34a04 button.colab-df-convert');\n",
       "        buttonEl.style.display =\n",
       "          google.colab.kernel.accessAllowed ? 'block' : 'none';\n",
       "\n",
       "        async function convertToInteractive(key) {\n",
       "          const element = document.querySelector('#df-19aa6cad-87da-46b9-88ab-20ba33e34a04');\n",
       "          const dataTable =\n",
       "            await google.colab.kernel.invokeFunction('convertToInteractive',\n",
       "                                                     [key], {});\n",
       "          if (!dataTable) return;\n",
       "\n",
       "          const docLinkHtml = 'Like what you see? Visit the ' +\n",
       "            '<a target=\"_blank\" href=https://colab.research.google.com/notebooks/data_table.ipynb>data table notebook</a>'\n",
       "            + ' to learn more about interactive tables.';\n",
       "          element.innerHTML = '';\n",
       "          dataTable['output_type'] = 'display_data';\n",
       "          await google.colab.output.renderOutput(dataTable, element);\n",
       "          const docLink = document.createElement('div');\n",
       "          docLink.innerHTML = docLinkHtml;\n",
       "          element.appendChild(docLink);\n",
       "        }\n",
       "      </script>\n",
       "    </div>\n",
       "  </div>\n",
       "  "
      ],
      "text/plain": [
       "    Post code                      ID Type                             Email  \\\n",
       "0          W1                    Passport                  jbrekke@gmail.com   \n",
       "1          W2                    Passport                  sid23@verizon.net   \n",
       "2          W3                    Passport                     wstark@mac.com   \n",
       "3          W4                    Passport         haven.gottlieb@comcast.net   \n",
       "4          W5                      ID Card              qheidenreich@msn.com   \n",
       "..        ...                          ...                               ...   \n",
       "211       W32         Driving licence Full  elinore.swaniawski@sbcglobal.net   \n",
       "212       W33  Driving licence Provisional                 fheller@yahoo.com   \n",
       "213       W34  Driving licence Provisional         predovic.syble@icloud.com   \n",
       "214       W35                    Passport          hahn.vivienne@comcast.net   \n",
       "215       W36                    Passport      volkman.augustine@hotmail.com   \n",
       "\n",
       "             Location  Number of Devices  Age Crypto Use ATM use  \\\n",
       "0                 UK                 3.0   18        YES      NO   \n",
       "1             Europe                 3.0   19        YES      NO   \n",
       "2               Other                3.0   20        YES      NO   \n",
       "3    High Risk Coutry                1.0   18        YES      NO   \n",
       "4    High Risk Coutry                1.0   18         NO      NO   \n",
       "..                ...                ...  ...        ...     ...   \n",
       "211               UK                 1.0   21        YES      NO   \n",
       "212           Europe                 1.0   22         NO      NO   \n",
       "213             Other                3.0   21         NO      NO   \n",
       "214  High Risk Coutry                2.0   27         NO     YES   \n",
       "215  High Risk Coutry                3.0   25         NO     YES   \n",
       "\n",
       "                  Declared Use  Declared Turnover                 Actual Use  \\\n",
       "0                  Day to date                 20                Day to date   \n",
       "1                  Day to date                 20                Day to date   \n",
       "2                  Day to date                 20                Day to date   \n",
       "3                  Day to date                 20                        ATM   \n",
       "4                  Day to date                 30                        ATM   \n",
       "..                         ...                ...                        ...   \n",
       "211  Receiving and Withdrawing                 50                        ATM   \n",
       "212                Day to date                 20         Friends and Family   \n",
       "213                Day to date                 20  Receiving and Withdrawing   \n",
       "214                        ATM                 20                        ATM   \n",
       "215                        ATM                 30                        ATM   \n",
       "\n",
       "     Actual Turnover  Months Active Fraud Confirmed AgeRange  \\\n",
       "0                 20           12.0              NO      <30   \n",
       "1                 30            3.0              NO      <30   \n",
       "2                 40            3.0              NO      <30   \n",
       "3                 20            3.0             YES      <30   \n",
       "4                 70            2.0             YES      <30   \n",
       "..               ...            ...             ...      ...   \n",
       "211               40            1.0              NO      <30   \n",
       "212               20            2.0              NO      <30   \n",
       "213               70            1.0              NO      <30   \n",
       "214              100            1.0              NO      <30   \n",
       "215               60            1.0              NO      <30   \n",
       "\n",
       "    TurnoverDiffStatus  TurnoverDiff AccUseDiff    EmailDomain  \n",
       "0                 Same             0         No      gmail.com  \n",
       "1                 High            10         No    verizon.net  \n",
       "2                 High            20         No        mac.com  \n",
       "3                 Same             0        Yes    comcast.net  \n",
       "4                 High            40        Yes        msn.com  \n",
       "..                 ...           ...        ...            ...  \n",
       "211                Low            10        Yes  sbcglobal.net  \n",
       "212               Same             0        Yes      yahoo.com  \n",
       "213               High            50        Yes     icloud.com  \n",
       "214               High            80         No    comcast.net  \n",
       "215               High            30         No    hotmail.com  \n",
       "\n",
       "[216 rows x 19 columns]"
      ]
     },
     "execution_count": 72,
     "metadata": {},
     "output_type": "execute_result"
    }
   ],
   "source": [
    "cleaned_data = pd.read_csv(path+\"Cleaned_Data.csv\")\n",
    "cleaned_data"
   ]
  },
  {
   "cell_type": "code",
   "execution_count": 73,
   "id": "pressing-graph",
   "metadata": {
    "ExecuteTime": {
     "end_time": "2022-04-08T16:12:36.888385Z",
     "start_time": "2022-04-08T16:12:36.822387Z"
    },
    "colab": {
     "base_uri": "https://localhost:8080/",
     "height": 670
    },
    "id": "pressing-graph",
    "outputId": "1c3b762a-2589-42d9-b6bb-73e06c7ec69e"
   },
   "outputs": [
    {
     "data": {
      "text/html": [
       "\n",
       "  <div id=\"df-0cc5da1b-6a64-43d4-99c5-51cc851f00a8\">\n",
       "    <div class=\"colab-df-container\">\n",
       "      <div>\n",
       "<style scoped>\n",
       "    .dataframe tbody tr th:only-of-type {\n",
       "        vertical-align: middle;\n",
       "    }\n",
       "\n",
       "    .dataframe tbody tr th {\n",
       "        vertical-align: top;\n",
       "    }\n",
       "\n",
       "    .dataframe thead th {\n",
       "        text-align: right;\n",
       "    }\n",
       "</style>\n",
       "<table border=\"1\" class=\"dataframe\">\n",
       "  <thead>\n",
       "    <tr style=\"text-align: right;\">\n",
       "      <th></th>\n",
       "      <th>Post code</th>\n",
       "      <th>ID Type</th>\n",
       "      <th>Email</th>\n",
       "      <th>Location</th>\n",
       "      <th>Number of Devices</th>\n",
       "      <th>Age</th>\n",
       "      <th>Crypto Use</th>\n",
       "      <th>ATM use</th>\n",
       "      <th>Declared Use</th>\n",
       "      <th>Declared Turnover</th>\n",
       "      <th>Actual Use</th>\n",
       "      <th>Actual Turnover</th>\n",
       "      <th>Months Active</th>\n",
       "      <th>Fraud Confirmed</th>\n",
       "      <th>AgeRange</th>\n",
       "      <th>TurnoverDiffStatus</th>\n",
       "      <th>TurnoverDiff</th>\n",
       "      <th>AccUseDiff</th>\n",
       "      <th>EmailDomain</th>\n",
       "      <th>Cluster</th>\n",
       "    </tr>\n",
       "  </thead>\n",
       "  <tbody>\n",
       "    <tr>\n",
       "      <th>0</th>\n",
       "      <td>W1</td>\n",
       "      <td>Passport</td>\n",
       "      <td>jbrekke@gmail.com</td>\n",
       "      <td>UK</td>\n",
       "      <td>3.0</td>\n",
       "      <td>18</td>\n",
       "      <td>YES</td>\n",
       "      <td>NO</td>\n",
       "      <td>Day to date</td>\n",
       "      <td>20</td>\n",
       "      <td>Day to date</td>\n",
       "      <td>20</td>\n",
       "      <td>12.0</td>\n",
       "      <td>NO</td>\n",
       "      <td>&lt;30</td>\n",
       "      <td>Same</td>\n",
       "      <td>0</td>\n",
       "      <td>No</td>\n",
       "      <td>gmail.com</td>\n",
       "      <td>0</td>\n",
       "    </tr>\n",
       "    <tr>\n",
       "      <th>1</th>\n",
       "      <td>W2</td>\n",
       "      <td>Passport</td>\n",
       "      <td>sid23@verizon.net</td>\n",
       "      <td>Europe</td>\n",
       "      <td>3.0</td>\n",
       "      <td>19</td>\n",
       "      <td>YES</td>\n",
       "      <td>NO</td>\n",
       "      <td>Day to date</td>\n",
       "      <td>20</td>\n",
       "      <td>Day to date</td>\n",
       "      <td>30</td>\n",
       "      <td>3.0</td>\n",
       "      <td>NO</td>\n",
       "      <td>&lt;30</td>\n",
       "      <td>High</td>\n",
       "      <td>10</td>\n",
       "      <td>No</td>\n",
       "      <td>verizon.net</td>\n",
       "      <td>2</td>\n",
       "    </tr>\n",
       "    <tr>\n",
       "      <th>2</th>\n",
       "      <td>W3</td>\n",
       "      <td>Passport</td>\n",
       "      <td>wstark@mac.com</td>\n",
       "      <td>Other</td>\n",
       "      <td>3.0</td>\n",
       "      <td>20</td>\n",
       "      <td>YES</td>\n",
       "      <td>NO</td>\n",
       "      <td>Day to date</td>\n",
       "      <td>20</td>\n",
       "      <td>Day to date</td>\n",
       "      <td>40</td>\n",
       "      <td>3.0</td>\n",
       "      <td>NO</td>\n",
       "      <td>&lt;30</td>\n",
       "      <td>High</td>\n",
       "      <td>20</td>\n",
       "      <td>No</td>\n",
       "      <td>mac.com</td>\n",
       "      <td>2</td>\n",
       "    </tr>\n",
       "    <tr>\n",
       "      <th>3</th>\n",
       "      <td>W4</td>\n",
       "      <td>Passport</td>\n",
       "      <td>haven.gottlieb@comcast.net</td>\n",
       "      <td>High Risk Coutry</td>\n",
       "      <td>1.0</td>\n",
       "      <td>18</td>\n",
       "      <td>YES</td>\n",
       "      <td>NO</td>\n",
       "      <td>Day to date</td>\n",
       "      <td>20</td>\n",
       "      <td>ATM</td>\n",
       "      <td>20</td>\n",
       "      <td>3.0</td>\n",
       "      <td>YES</td>\n",
       "      <td>&lt;30</td>\n",
       "      <td>Same</td>\n",
       "      <td>0</td>\n",
       "      <td>Yes</td>\n",
       "      <td>comcast.net</td>\n",
       "      <td>0</td>\n",
       "    </tr>\n",
       "    <tr>\n",
       "      <th>4</th>\n",
       "      <td>W5</td>\n",
       "      <td>ID Card</td>\n",
       "      <td>qheidenreich@msn.com</td>\n",
       "      <td>High Risk Coutry</td>\n",
       "      <td>1.0</td>\n",
       "      <td>18</td>\n",
       "      <td>NO</td>\n",
       "      <td>NO</td>\n",
       "      <td>Day to date</td>\n",
       "      <td>30</td>\n",
       "      <td>ATM</td>\n",
       "      <td>70</td>\n",
       "      <td>2.0</td>\n",
       "      <td>YES</td>\n",
       "      <td>&lt;30</td>\n",
       "      <td>High</td>\n",
       "      <td>40</td>\n",
       "      <td>Yes</td>\n",
       "      <td>msn.com</td>\n",
       "      <td>2</td>\n",
       "    </tr>\n",
       "    <tr>\n",
       "      <th>5</th>\n",
       "      <td>W6</td>\n",
       "      <td>ID Card</td>\n",
       "      <td>nconn@yahoo.ca</td>\n",
       "      <td>High Risk Coutry</td>\n",
       "      <td>3.0</td>\n",
       "      <td>18</td>\n",
       "      <td>NO</td>\n",
       "      <td>YES</td>\n",
       "      <td>Day to date</td>\n",
       "      <td>40</td>\n",
       "      <td>ATM</td>\n",
       "      <td>100</td>\n",
       "      <td>2.0</td>\n",
       "      <td>YES</td>\n",
       "      <td>&lt;30</td>\n",
       "      <td>High</td>\n",
       "      <td>60</td>\n",
       "      <td>Yes</td>\n",
       "      <td>yahoo.ca</td>\n",
       "      <td>2</td>\n",
       "    </tr>\n",
       "    <tr>\n",
       "      <th>6</th>\n",
       "      <td>W7</td>\n",
       "      <td>ID Card</td>\n",
       "      <td>amos07@me.com</td>\n",
       "      <td>High Risk Coutry</td>\n",
       "      <td>2.0</td>\n",
       "      <td>31</td>\n",
       "      <td>NO</td>\n",
       "      <td>YES</td>\n",
       "      <td>ATM</td>\n",
       "      <td>20</td>\n",
       "      <td>ATM</td>\n",
       "      <td>20</td>\n",
       "      <td>2.0</td>\n",
       "      <td>NO</td>\n",
       "      <td>30-40</td>\n",
       "      <td>Same</td>\n",
       "      <td>0</td>\n",
       "      <td>No</td>\n",
       "      <td>me.com</td>\n",
       "      <td>0</td>\n",
       "    </tr>\n",
       "    <tr>\n",
       "      <th>7</th>\n",
       "      <td>W8</td>\n",
       "      <td>Residence permit</td>\n",
       "      <td>osinski.jeffery@icloud.com</td>\n",
       "      <td>High Risk Coutry</td>\n",
       "      <td>3.0</td>\n",
       "      <td>32</td>\n",
       "      <td>NO</td>\n",
       "      <td>YES</td>\n",
       "      <td>ATM</td>\n",
       "      <td>70</td>\n",
       "      <td>Friends and Family</td>\n",
       "      <td>20</td>\n",
       "      <td>2.0</td>\n",
       "      <td>NO</td>\n",
       "      <td>30-40</td>\n",
       "      <td>Low</td>\n",
       "      <td>50</td>\n",
       "      <td>Yes</td>\n",
       "      <td>icloud.com</td>\n",
       "      <td>1</td>\n",
       "    </tr>\n",
       "    <tr>\n",
       "      <th>8</th>\n",
       "      <td>W9</td>\n",
       "      <td>Residence permit</td>\n",
       "      <td>nitzsche.emerson@mac.com</td>\n",
       "      <td>Europe</td>\n",
       "      <td>2.0</td>\n",
       "      <td>31</td>\n",
       "      <td>NO</td>\n",
       "      <td>YES</td>\n",
       "      <td>ATM</td>\n",
       "      <td>100</td>\n",
       "      <td>Receiving and Withdrawing</td>\n",
       "      <td>20</td>\n",
       "      <td>6.0</td>\n",
       "      <td>NO</td>\n",
       "      <td>30-40</td>\n",
       "      <td>Low</td>\n",
       "      <td>80</td>\n",
       "      <td>Yes</td>\n",
       "      <td>mac.com</td>\n",
       "      <td>1</td>\n",
       "    </tr>\n",
       "    <tr>\n",
       "      <th>9</th>\n",
       "      <td>W10</td>\n",
       "      <td>Driving licence Full</td>\n",
       "      <td>bbahringer@live.com</td>\n",
       "      <td>Other</td>\n",
       "      <td>1.0</td>\n",
       "      <td>25</td>\n",
       "      <td>NO</td>\n",
       "      <td>YES</td>\n",
       "      <td>ATM</td>\n",
       "      <td>20</td>\n",
       "      <td>ATM</td>\n",
       "      <td>20</td>\n",
       "      <td>10.0</td>\n",
       "      <td>NO</td>\n",
       "      <td>&lt;30</td>\n",
       "      <td>Same</td>\n",
       "      <td>0</td>\n",
       "      <td>No</td>\n",
       "      <td>live.com</td>\n",
       "      <td>0</td>\n",
       "    </tr>\n",
       "  </tbody>\n",
       "</table>\n",
       "</div>\n",
       "      <button class=\"colab-df-convert\" onclick=\"convertToInteractive('df-0cc5da1b-6a64-43d4-99c5-51cc851f00a8')\"\n",
       "              title=\"Convert this dataframe to an interactive table.\"\n",
       "              style=\"display:none;\">\n",
       "        \n",
       "  <svg xmlns=\"http://www.w3.org/2000/svg\" height=\"24px\"viewBox=\"0 0 24 24\"\n",
       "       width=\"24px\">\n",
       "    <path d=\"M0 0h24v24H0V0z\" fill=\"none\"/>\n",
       "    <path d=\"M18.56 5.44l.94 2.06.94-2.06 2.06-.94-2.06-.94-.94-2.06-.94 2.06-2.06.94zm-11 1L8.5 8.5l.94-2.06 2.06-.94-2.06-.94L8.5 2.5l-.94 2.06-2.06.94zm10 10l.94 2.06.94-2.06 2.06-.94-2.06-.94-.94-2.06-.94 2.06-2.06.94z\"/><path d=\"M17.41 7.96l-1.37-1.37c-.4-.4-.92-.59-1.43-.59-.52 0-1.04.2-1.43.59L10.3 9.45l-7.72 7.72c-.78.78-.78 2.05 0 2.83L4 21.41c.39.39.9.59 1.41.59.51 0 1.02-.2 1.41-.59l7.78-7.78 2.81-2.81c.8-.78.8-2.07 0-2.86zM5.41 20L4 18.59l7.72-7.72 1.47 1.35L5.41 20z\"/>\n",
       "  </svg>\n",
       "      </button>\n",
       "      \n",
       "  <style>\n",
       "    .colab-df-container {\n",
       "      display:flex;\n",
       "      flex-wrap:wrap;\n",
       "      gap: 12px;\n",
       "    }\n",
       "\n",
       "    .colab-df-convert {\n",
       "      background-color: #E8F0FE;\n",
       "      border: none;\n",
       "      border-radius: 50%;\n",
       "      cursor: pointer;\n",
       "      display: none;\n",
       "      fill: #1967D2;\n",
       "      height: 32px;\n",
       "      padding: 0 0 0 0;\n",
       "      width: 32px;\n",
       "    }\n",
       "\n",
       "    .colab-df-convert:hover {\n",
       "      background-color: #E2EBFA;\n",
       "      box-shadow: 0px 1px 2px rgba(60, 64, 67, 0.3), 0px 1px 3px 1px rgba(60, 64, 67, 0.15);\n",
       "      fill: #174EA6;\n",
       "    }\n",
       "\n",
       "    [theme=dark] .colab-df-convert {\n",
       "      background-color: #3B4455;\n",
       "      fill: #D2E3FC;\n",
       "    }\n",
       "\n",
       "    [theme=dark] .colab-df-convert:hover {\n",
       "      background-color: #434B5C;\n",
       "      box-shadow: 0px 1px 3px 1px rgba(0, 0, 0, 0.15);\n",
       "      filter: drop-shadow(0px 1px 2px rgba(0, 0, 0, 0.3));\n",
       "      fill: #FFFFFF;\n",
       "    }\n",
       "  </style>\n",
       "\n",
       "      <script>\n",
       "        const buttonEl =\n",
       "          document.querySelector('#df-0cc5da1b-6a64-43d4-99c5-51cc851f00a8 button.colab-df-convert');\n",
       "        buttonEl.style.display =\n",
       "          google.colab.kernel.accessAllowed ? 'block' : 'none';\n",
       "\n",
       "        async function convertToInteractive(key) {\n",
       "          const element = document.querySelector('#df-0cc5da1b-6a64-43d4-99c5-51cc851f00a8');\n",
       "          const dataTable =\n",
       "            await google.colab.kernel.invokeFunction('convertToInteractive',\n",
       "                                                     [key], {});\n",
       "          if (!dataTable) return;\n",
       "\n",
       "          const docLinkHtml = 'Like what you see? Visit the ' +\n",
       "            '<a target=\"_blank\" href=https://colab.research.google.com/notebooks/data_table.ipynb>data table notebook</a>'\n",
       "            + ' to learn more about interactive tables.';\n",
       "          element.innerHTML = '';\n",
       "          dataTable['output_type'] = 'display_data';\n",
       "          await google.colab.output.renderOutput(dataTable, element);\n",
       "          const docLink = document.createElement('div');\n",
       "          docLink.innerHTML = docLinkHtml;\n",
       "          element.appendChild(docLink);\n",
       "        }\n",
       "      </script>\n",
       "    </div>\n",
       "  </div>\n",
       "  "
      ],
      "text/plain": [
       "  Post code               ID Type                       Email  \\\n",
       "0        W1             Passport            jbrekke@gmail.com   \n",
       "1        W2             Passport            sid23@verizon.net   \n",
       "2        W3             Passport               wstark@mac.com   \n",
       "3        W4             Passport   haven.gottlieb@comcast.net   \n",
       "4        W5               ID Card        qheidenreich@msn.com   \n",
       "5        W6               ID Card              nconn@yahoo.ca   \n",
       "6        W7               ID Card               amos07@me.com   \n",
       "7        W8     Residence permit   osinski.jeffery@icloud.com   \n",
       "8        W9     Residence permit     nitzsche.emerson@mac.com   \n",
       "9       W10  Driving licence Full         bbahringer@live.com   \n",
       "\n",
       "           Location  Number of Devices  Age Crypto Use ATM use Declared Use  \\\n",
       "0               UK                 3.0   18        YES      NO  Day to date   \n",
       "1           Europe                 3.0   19        YES      NO  Day to date   \n",
       "2             Other                3.0   20        YES      NO  Day to date   \n",
       "3  High Risk Coutry                1.0   18        YES      NO  Day to date   \n",
       "4  High Risk Coutry                1.0   18         NO      NO  Day to date   \n",
       "5  High Risk Coutry                3.0   18         NO     YES  Day to date   \n",
       "6  High Risk Coutry                2.0   31         NO     YES          ATM   \n",
       "7  High Risk Coutry                3.0   32         NO     YES          ATM   \n",
       "8           Europe                 2.0   31         NO     YES          ATM   \n",
       "9             Other                1.0   25         NO     YES          ATM   \n",
       "\n",
       "   Declared Turnover                 Actual Use  Actual Turnover  \\\n",
       "0                 20                Day to date               20   \n",
       "1                 20                Day to date               30   \n",
       "2                 20                Day to date               40   \n",
       "3                 20                        ATM               20   \n",
       "4                 30                        ATM               70   \n",
       "5                 40                        ATM              100   \n",
       "6                 20                        ATM               20   \n",
       "7                 70         Friends and Family               20   \n",
       "8                100  Receiving and Withdrawing               20   \n",
       "9                 20                        ATM               20   \n",
       "\n",
       "   Months Active Fraud Confirmed AgeRange TurnoverDiffStatus  TurnoverDiff  \\\n",
       "0           12.0              NO      <30               Same             0   \n",
       "1            3.0              NO      <30               High            10   \n",
       "2            3.0              NO      <30               High            20   \n",
       "3            3.0             YES      <30               Same             0   \n",
       "4            2.0             YES      <30               High            40   \n",
       "5            2.0             YES      <30               High            60   \n",
       "6            2.0              NO    30-40               Same             0   \n",
       "7            2.0              NO    30-40                Low            50   \n",
       "8            6.0              NO    30-40                Low            80   \n",
       "9           10.0              NO      <30               Same             0   \n",
       "\n",
       "  AccUseDiff  EmailDomain  Cluster  \n",
       "0         No    gmail.com        0  \n",
       "1         No  verizon.net        2  \n",
       "2         No      mac.com        2  \n",
       "3        Yes  comcast.net        0  \n",
       "4        Yes      msn.com        2  \n",
       "5        Yes     yahoo.ca        2  \n",
       "6         No       me.com        0  \n",
       "7        Yes   icloud.com        1  \n",
       "8        Yes      mac.com        1  \n",
       "9         No     live.com        0  "
      ]
     },
     "execution_count": 73,
     "metadata": {},
     "output_type": "execute_result"
    }
   ],
   "source": [
    "clustered_data = cleaned_data.copy()\n",
    "clustered_data[\"Cluster\"] = yhat\n",
    "clustered_data.head(10)"
   ]
  },
  {
   "cell_type": "code",
   "execution_count": 74,
   "id": "potential-medication",
   "metadata": {
    "ExecuteTime": {
     "end_time": "2022-04-08T16:13:11.199940Z",
     "start_time": "2022-04-08T16:13:10.773943Z"
    },
    "colab": {
     "base_uri": "https://localhost:8080/",
     "height": 517
    },
    "id": "potential-medication",
    "outputId": "76112c91-a597-4561-8dce-c97f7852655a"
   },
   "outputs": [
    {
     "data": {
      "image/png": "[encoded data removed]",
      "text/plain": [
       "<Figure size 1080x576 with 1 Axes>"
      ]
     },
     "metadata": {},
     "output_type": "display_data"
    }
   ],
   "source": [
    "plt.figure(figsize=((15,8)))\n",
    "ax = sns.countplot( x = 'Cluster', hue = 'Fraud Confirmed' , data = clustered_data)\n",
    "plt.title(f\"Count of Customers with cluster and Fraud Confirmed\")\n",
    "plt.show()"
   ]
  },
  {
   "cell_type": "markdown",
   "id": "blessed-nashville",
   "metadata": {
    "id": "blessed-nashville"
   },
   "source": [
    "### From the above plot , There are more number of customers in cluster 2 with fraud confirmed, followed by cluster 0 and cluster 1. <br> From that we can assume \n",
    "- cluster0 = medium risk\n",
    "- cluster1 = low risk\n",
    "- cluster2 = high risk\n",
    "\n",
    "### Let's Explore other parameters"
   ]
  },
  {
   "cell_type": "code",
   "execution_count": 75,
   "id": "exposed-voice",
   "metadata": {
    "ExecuteTime": {
     "end_time": "2022-04-08T16:13:19.509572Z",
     "start_time": "2022-04-08T16:13:19.489571Z"
    },
    "id": "exposed-voice",
    "scrolled": false
   },
   "outputs": [],
   "source": [
    "def getbarplot(columnname):\n",
    "    plt.figure(figsize=((15,8)))\n",
    "    ax = sns.countplot( x = 'Cluster', hue = columnname, data = clustered_data)\n",
    "    plt.title(f\"Count of Customers with {columnname} and Clusters\")\n",
    "    plt.show()"
   ]
  },
  {
   "cell_type": "code",
   "execution_count": 76,
   "id": "decent-values",
   "metadata": {
    "ExecuteTime": {
     "end_time": "2022-04-08T16:13:20.385040Z",
     "start_time": "2022-04-08T16:13:19.992505Z"
    },
    "colab": {
     "base_uri": "https://localhost:8080/",
     "height": 517
    },
    "id": "decent-values",
    "outputId": "7df38f6e-7a92-4db3-ca5c-a1150e31f00f"
   },
   "outputs": [
    {
     "data": {
      "image/png": "[encoded data removed]",
      "text/plain": [
       "<Figure size 1080x576 with 1 Axes>"
      ]
     },
     "metadata": {},
     "output_type": "display_data"
    }
   ],
   "source": [
    "getbarplot('Crypto Use')"
   ]
  },
  {
   "cell_type": "markdown",
   "id": "complicated-origin",
   "metadata": {
    "id": "complicated-origin"
   },
   "source": [
    "### Cluster 2 has highest number customers using Crypto, then cluster0 and minimum for cluster1 Hence by previous conclusions and this one, we can again claim about risk level of customers and cluster that\n",
    "- cluster0 = medium risk\n",
    "- cluster1 = low risk\n",
    "- cluster2 = high risk"
   ]
  },
  {
   "cell_type": "code",
   "execution_count": 77,
   "id": "acoustic-raise",
   "metadata": {
    "ExecuteTime": {
     "end_time": "2022-04-08T16:13:53.945426Z",
     "start_time": "2022-04-08T16:13:53.534435Z"
    },
    "colab": {
     "base_uri": "https://localhost:8080/",
     "height": 517
    },
    "id": "acoustic-raise",
    "outputId": "21ebe4f6-8913-4a96-d696-a0ea42483505"
   },
   "outputs": [
    {
     "data": {
      "image/png": "[encoded data removed]",
      "text/plain": [
       "<Figure size 1080x576 with 1 Axes>"
      ]
     },
     "metadata": {},
     "output_type": "display_data"
    }
   ],
   "source": [
    "getbarplot('ATM use')"
   ]
  },
  {
   "cell_type": "markdown",
   "id": "improved-peter",
   "metadata": {
    "id": "improved-peter"
   },
   "source": [
    "### From the above plot we can see that, There are more number of customers in cluster 1 who use ATM. <br> Nowadays most of the people use ATM and not all people commit fraud, so the above results are obvious.<br> We can say that \n",
    "- cluster0 = medium risk\n",
    "- cluster1 = low risk\n",
    "- cluster2 = high risk"
   ]
  },
  {
   "cell_type": "code",
   "execution_count": 78,
   "id": "magnetic-preference",
   "metadata": {
    "ExecuteTime": {
     "end_time": "2022-04-08T16:15:38.104648Z",
     "start_time": "2022-04-08T16:15:37.577647Z"
    },
    "colab": {
     "base_uri": "https://localhost:8080/",
     "height": 517
    },
    "id": "magnetic-preference",
    "outputId": "33fb9783-dcf4-48d0-bae3-628291ede883"
   },
   "outputs": [
    {
     "data": {
      "image/png": "[encoded data removed]",
      "text/plain": [
       "<Figure size 1080x576 with 1 Axes>"
      ]
     },
     "metadata": {},
     "output_type": "display_data"
    }
   ],
   "source": [
    "getbarplot('Location')"
   ]
  },
  {
   "cell_type": "code",
   "execution_count": 79,
   "id": "assisted-highland",
   "metadata": {
    "ExecuteTime": {
     "end_time": "2022-04-08T16:15:44.764492Z",
     "start_time": "2022-04-08T16:15:44.738495Z"
    },
    "colab": {
     "base_uri": "https://localhost:8080/"
    },
    "id": "assisted-highland",
    "outputId": "145a83f7-f651-4617-e97f-e8ce1a511d36"
   },
   "outputs": [
    {
     "data": {
      "text/plain": [
       "Fraud Confirmed\n",
       "NO                 73.4375\n",
       "YES                26.5625\n",
       "dtype: float64"
      ]
     },
     "execution_count": 79,
     "metadata": {},
     "output_type": "execute_result"
    }
   ],
   "source": [
    "clustered_data[clustered_data['Location'] == \"UK \"][[\"Fraud Confirmed\"]].value_counts(normalize=True).mul(100)"
   ]
  },
  {
   "cell_type": "markdown",
   "id": "seasonal-fraction",
   "metadata": {
    "id": "seasonal-fraction"
   },
   "source": [
    "### Above plots shows that cluster 2 contains most of the people having location as \"High Risk Country\".<br> Cluster 1 and 0 have nearly equal in count. <br> Around 73% people from UK have not commited fraud. So from these values we can say that\n",
    "- cluster0 = medium risk\n",
    "- cluster1 = low risk\n",
    "- cluster2 = high risk"
   ]
  },
  {
   "cell_type": "code",
   "execution_count": 80,
   "id": "cubic-unemployment",
   "metadata": {
    "ExecuteTime": {
     "end_time": "2022-04-08T16:16:35.221546Z",
     "start_time": "2022-04-08T16:16:34.612194Z"
    },
    "colab": {
     "base_uri": "https://localhost:8080/",
     "height": 517
    },
    "id": "cubic-unemployment",
    "outputId": "6a94eb8c-050f-4771-80ec-d80cc818a41b"
   },
   "outputs": [
    {
     "data": {
      "image/png": "[encoded data removed]",
      "text/plain": [
       "<Figure size 1080x576 with 1 Axes>"
      ]
     },
     "metadata": {},
     "output_type": "display_data"
    }
   ],
   "source": [
    "getbarplot(\"Number of Devices\")"
   ]
  },
  {
   "cell_type": "markdown",
   "id": "explicit-hampton",
   "metadata": {
    "id": "explicit-hampton"
   },
   "source": [
    "### More the no of devices connected, higher the chance of confirming fraud. <br> It is observed that in cluster 2 , there are more no of customers having 4+ devices connected, followed by cluster 1 and cluster 0. <br>Also fraud can be done with a single device. Cluster 0 and 2 have nearly same number of customers with 1 device. <br> Cluster 1 has less people. <br>Hence it indicates. \n",
    "- cluster0 = low risk\n",
    "- cluster1 = medium risk\n",
    "- cluster2 = high risk"
   ]
  },
  {
   "cell_type": "code",
   "execution_count": 81,
   "id": "surrounded-device",
   "metadata": {
    "ExecuteTime": {
     "end_time": "2022-04-08T16:17:40.219785Z",
     "start_time": "2022-04-08T16:17:39.722763Z"
    },
    "colab": {
     "base_uri": "https://localhost:8080/",
     "height": 517
    },
    "id": "surrounded-device",
    "outputId": "4c784a30-4b0e-4630-b5c7-1715437fa64e"
   },
   "outputs": [
    {
     "data": {
      "image/png": "[encoded data removed]",
      "text/plain": [
       "<Figure size 1080x576 with 1 Axes>"
      ]
     },
     "metadata": {},
     "output_type": "display_data"
    }
   ],
   "source": [
    "getbarplot(\"TurnoverDiffStatus\")"
   ]
  },
  {
   "cell_type": "markdown",
   "id": "polish-cargo",
   "metadata": {
    "id": "polish-cargo"
   },
   "source": [
    "### Difference between actual and declared turnover is an important feature. <br> In cluster 2 , All the people are have high difference between turnover, that can be the clear indication of fraud,<br> where cluster 0 has more no of customers with same turnover, those can be low risky customers with stable turnover. Thus\n",
    "- cluster0 = low risk\n",
    "- cluster1 = medium risk\n",
    "- cluster2 = high risk"
   ]
  },
  {
   "cell_type": "code",
   "execution_count": 82,
   "id": "wireless-memphis",
   "metadata": {
    "ExecuteTime": {
     "end_time": "2022-04-08T16:18:16.234551Z",
     "start_time": "2022-04-08T16:18:15.797394Z"
    },
    "colab": {
     "base_uri": "https://localhost:8080/",
     "height": 517
    },
    "id": "wireless-memphis",
    "outputId": "8bda4ee0-af6f-46b0-b4d0-7b0445457db0"
   },
   "outputs": [
    {
     "data": {
      "image/png": "[encoded data removed]",
      "text/plain": [
       "<Figure size 1080x576 with 1 Axes>"
      ]
     },
     "metadata": {},
     "output_type": "display_data"
    }
   ],
   "source": [
    "getbarplot(\"AccUseDiff\")"
   ]
  },
  {
   "cell_type": "markdown",
   "id": "beneficial-burner",
   "metadata": {
    "id": "beneficial-burner"
   },
   "source": [
    "### Cluster 2 contains most of the customer who are actually using their account for other purpose than the declared use. Those can be risky customers Hence\n",
    "- cluster0 = medium risk\n",
    "- cluster1 = low risk\n",
    "- cluster2 = high risk"
   ]
  },
  {
   "cell_type": "markdown",
   "id": "unknown-hacker",
   "metadata": {
    "id": "unknown-hacker"
   },
   "source": [
    "\n",
    "## From the Above Conclusions, We have found that most of the results are indicating \n",
    "- Cluster 2 customers as High risky customers, \n",
    "- Cluster 1 as low risky customers and \n",
    "- Customers in Cluster 0 with medium level of risk. "
   ]
  },
  {
   "cell_type": "markdown",
   "id": "verified-coating",
   "metadata": {
    "id": "verified-coating"
   },
   "source": [
    "### Creating Model for the same."
   ]
  },
  {
   "cell_type": "markdown",
   "id": "protecting-basis",
   "metadata": {
    "id": "protecting-basis"
   },
   "source": [
    "# Machine Learning"
   ]
  },
  {
   "cell_type": "code",
   "execution_count": 83,
   "id": "bacterial-reviewer",
   "metadata": {
    "ExecuteTime": {
     "end_time": "2022-04-08T16:21:18.374402Z",
     "start_time": "2022-04-08T16:21:18.327404Z"
    },
    "colab": {
     "base_uri": "https://localhost:8080/",
     "height": 484
    },
    "id": "bacterial-reviewer",
    "outputId": "5e5af6b3-4868-4741-e7db-a6e8f697005f"
   },
   "outputs": [
    {
     "data": {
      "text/html": [
       "\n",
       "  <div id=\"df-84e25c11-21a6-45c5-b767-026c4120341d\">\n",
       "    <div class=\"colab-df-container\">\n",
       "      <div>\n",
       "<style scoped>\n",
       "    .dataframe tbody tr th:only-of-type {\n",
       "        vertical-align: middle;\n",
       "    }\n",
       "\n",
       "    .dataframe tbody tr th {\n",
       "        vertical-align: top;\n",
       "    }\n",
       "\n",
       "    .dataframe thead th {\n",
       "        text-align: right;\n",
       "    }\n",
       "</style>\n",
       "<table border=\"1\" class=\"dataframe\">\n",
       "  <thead>\n",
       "    <tr style=\"text-align: right;\">\n",
       "      <th></th>\n",
       "      <th>Number of Devices</th>\n",
       "      <th>Age</th>\n",
       "      <th>Declared Turnover</th>\n",
       "      <th>Actual Turnover</th>\n",
       "      <th>Months Active</th>\n",
       "      <th>TurnoverDiff</th>\n",
       "      <th>Crypto Use</th>\n",
       "      <th>ATM use</th>\n",
       "      <th>AccUseDiff</th>\n",
       "      <th>Fraud Confirmed</th>\n",
       "      <th>TurnoverDiffStatus</th>\n",
       "      <th>Location</th>\n",
       "      <th>Declared Use</th>\n",
       "      <th>Actual Use</th>\n",
       "      <th>ID Type</th>\n",
       "    </tr>\n",
       "  </thead>\n",
       "  <tbody>\n",
       "    <tr>\n",
       "      <th>0</th>\n",
       "      <td>3.0</td>\n",
       "      <td>18</td>\n",
       "      <td>20</td>\n",
       "      <td>20</td>\n",
       "      <td>12.0</td>\n",
       "      <td>0</td>\n",
       "      <td>1</td>\n",
       "      <td>0</td>\n",
       "      <td>0</td>\n",
       "      <td>0</td>\n",
       "      <td>2</td>\n",
       "      <td>3</td>\n",
       "      <td>1</td>\n",
       "      <td>1</td>\n",
       "      <td>3</td>\n",
       "    </tr>\n",
       "    <tr>\n",
       "      <th>1</th>\n",
       "      <td>3.0</td>\n",
       "      <td>19</td>\n",
       "      <td>20</td>\n",
       "      <td>30</td>\n",
       "      <td>3.0</td>\n",
       "      <td>10</td>\n",
       "      <td>1</td>\n",
       "      <td>0</td>\n",
       "      <td>0</td>\n",
       "      <td>0</td>\n",
       "      <td>0</td>\n",
       "      <td>0</td>\n",
       "      <td>1</td>\n",
       "      <td>1</td>\n",
       "      <td>3</td>\n",
       "    </tr>\n",
       "    <tr>\n",
       "      <th>2</th>\n",
       "      <td>3.0</td>\n",
       "      <td>20</td>\n",
       "      <td>20</td>\n",
       "      <td>40</td>\n",
       "      <td>3.0</td>\n",
       "      <td>20</td>\n",
       "      <td>1</td>\n",
       "      <td>0</td>\n",
       "      <td>0</td>\n",
       "      <td>0</td>\n",
       "      <td>0</td>\n",
       "      <td>2</td>\n",
       "      <td>1</td>\n",
       "      <td>1</td>\n",
       "      <td>3</td>\n",
       "    </tr>\n",
       "    <tr>\n",
       "      <th>3</th>\n",
       "      <td>1.0</td>\n",
       "      <td>18</td>\n",
       "      <td>20</td>\n",
       "      <td>20</td>\n",
       "      <td>3.0</td>\n",
       "      <td>0</td>\n",
       "      <td>1</td>\n",
       "      <td>0</td>\n",
       "      <td>1</td>\n",
       "      <td>1</td>\n",
       "      <td>2</td>\n",
       "      <td>1</td>\n",
       "      <td>1</td>\n",
       "      <td>0</td>\n",
       "      <td>3</td>\n",
       "    </tr>\n",
       "    <tr>\n",
       "      <th>4</th>\n",
       "      <td>1.0</td>\n",
       "      <td>18</td>\n",
       "      <td>30</td>\n",
       "      <td>70</td>\n",
       "      <td>2.0</td>\n",
       "      <td>40</td>\n",
       "      <td>0</td>\n",
       "      <td>0</td>\n",
       "      <td>1</td>\n",
       "      <td>1</td>\n",
       "      <td>0</td>\n",
       "      <td>1</td>\n",
       "      <td>1</td>\n",
       "      <td>0</td>\n",
       "      <td>2</td>\n",
       "    </tr>\n",
       "    <tr>\n",
       "      <th>...</th>\n",
       "      <td>...</td>\n",
       "      <td>...</td>\n",
       "      <td>...</td>\n",
       "      <td>...</td>\n",
       "      <td>...</td>\n",
       "      <td>...</td>\n",
       "      <td>...</td>\n",
       "      <td>...</td>\n",
       "      <td>...</td>\n",
       "      <td>...</td>\n",
       "      <td>...</td>\n",
       "      <td>...</td>\n",
       "      <td>...</td>\n",
       "      <td>...</td>\n",
       "      <td>...</td>\n",
       "    </tr>\n",
       "    <tr>\n",
       "      <th>211</th>\n",
       "      <td>1.0</td>\n",
       "      <td>21</td>\n",
       "      <td>50</td>\n",
       "      <td>40</td>\n",
       "      <td>1.0</td>\n",
       "      <td>10</td>\n",
       "      <td>1</td>\n",
       "      <td>0</td>\n",
       "      <td>1</td>\n",
       "      <td>0</td>\n",
       "      <td>1</td>\n",
       "      <td>3</td>\n",
       "      <td>3</td>\n",
       "      <td>0</td>\n",
       "      <td>0</td>\n",
       "    </tr>\n",
       "    <tr>\n",
       "      <th>212</th>\n",
       "      <td>1.0</td>\n",
       "      <td>22</td>\n",
       "      <td>20</td>\n",
       "      <td>20</td>\n",
       "      <td>2.0</td>\n",
       "      <td>0</td>\n",
       "      <td>0</td>\n",
       "      <td>0</td>\n",
       "      <td>1</td>\n",
       "      <td>0</td>\n",
       "      <td>2</td>\n",
       "      <td>0</td>\n",
       "      <td>1</td>\n",
       "      <td>2</td>\n",
       "      <td>1</td>\n",
       "    </tr>\n",
       "    <tr>\n",
       "      <th>213</th>\n",
       "      <td>3.0</td>\n",
       "      <td>21</td>\n",
       "      <td>20</td>\n",
       "      <td>70</td>\n",
       "      <td>1.0</td>\n",
       "      <td>50</td>\n",
       "      <td>0</td>\n",
       "      <td>0</td>\n",
       "      <td>1</td>\n",
       "      <td>0</td>\n",
       "      <td>0</td>\n",
       "      <td>2</td>\n",
       "      <td>1</td>\n",
       "      <td>3</td>\n",
       "      <td>1</td>\n",
       "    </tr>\n",
       "    <tr>\n",
       "      <th>214</th>\n",
       "      <td>2.0</td>\n",
       "      <td>27</td>\n",
       "      <td>20</td>\n",
       "      <td>100</td>\n",
       "      <td>1.0</td>\n",
       "      <td>80</td>\n",
       "      <td>0</td>\n",
       "      <td>1</td>\n",
       "      <td>0</td>\n",
       "      <td>0</td>\n",
       "      <td>0</td>\n",
       "      <td>1</td>\n",
       "      <td>0</td>\n",
       "      <td>0</td>\n",
       "      <td>3</td>\n",
       "    </tr>\n",
       "    <tr>\n",
       "      <th>215</th>\n",
       "      <td>3.0</td>\n",
       "      <td>25</td>\n",
       "      <td>30</td>\n",
       "      <td>60</td>\n",
       "      <td>1.0</td>\n",
       "      <td>30</td>\n",
       "      <td>0</td>\n",
       "      <td>1</td>\n",
       "      <td>0</td>\n",
       "      <td>0</td>\n",
       "      <td>0</td>\n",
       "      <td>1</td>\n",
       "      <td>0</td>\n",
       "      <td>0</td>\n",
       "      <td>3</td>\n",
       "    </tr>\n",
       "  </tbody>\n",
       "</table>\n",
       "<p>216 rows × 15 columns</p>\n",
       "</div>\n",
       "      <button class=\"colab-df-convert\" onclick=\"convertToInteractive('df-84e25c11-21a6-45c5-b767-026c4120341d')\"\n",
       "              title=\"Convert this dataframe to an interactive table.\"\n",
       "              style=\"display:none;\">\n",
       "        \n",
       "  <svg xmlns=\"http://www.w3.org/2000/svg\" height=\"24px\"viewBox=\"0 0 24 24\"\n",
       "       width=\"24px\">\n",
       "    <path d=\"M0 0h24v24H0V0z\" fill=\"none\"/>\n",
       "    <path d=\"M18.56 5.44l.94 2.06.94-2.06 2.06-.94-2.06-.94-.94-2.06-.94 2.06-2.06.94zm-11 1L8.5 8.5l.94-2.06 2.06-.94-2.06-.94L8.5 2.5l-.94 2.06-2.06.94zm10 10l.94 2.06.94-2.06 2.06-.94-2.06-.94-.94-2.06-.94 2.06-2.06.94z\"/><path d=\"M17.41 7.96l-1.37-1.37c-.4-.4-.92-.59-1.43-.59-.52 0-1.04.2-1.43.59L10.3 9.45l-7.72 7.72c-.78.78-.78 2.05 0 2.83L4 21.41c.39.39.9.59 1.41.59.51 0 1.02-.2 1.41-.59l7.78-7.78 2.81-2.81c.8-.78.8-2.07 0-2.86zM5.41 20L4 18.59l7.72-7.72 1.47 1.35L5.41 20z\"/>\n",
       "  </svg>\n",
       "      </button>\n",
       "      \n",
       "  <style>\n",
       "    .colab-df-container {\n",
       "      display:flex;\n",
       "      flex-wrap:wrap;\n",
       "      gap: 12px;\n",
       "    }\n",
       "\n",
       "    .colab-df-convert {\n",
       "      background-color: #E8F0FE;\n",
       "      border: none;\n",
       "      border-radius: 50%;\n",
       "      cursor: pointer;\n",
       "      display: none;\n",
       "      fill: #1967D2;\n",
       "      height: 32px;\n",
       "      padding: 0 0 0 0;\n",
       "      width: 32px;\n",
       "    }\n",
       "\n",
       "    .colab-df-convert:hover {\n",
       "      background-color: #E2EBFA;\n",
       "      box-shadow: 0px 1px 2px rgba(60, 64, 67, 0.3), 0px 1px 3px 1px rgba(60, 64, 67, 0.15);\n",
       "      fill: #174EA6;\n",
       "    }\n",
       "\n",
       "    [theme=dark] .colab-df-convert {\n",
       "      background-color: #3B4455;\n",
       "      fill: #D2E3FC;\n",
       "    }\n",
       "\n",
       "    [theme=dark] .colab-df-convert:hover {\n",
       "      background-color: #434B5C;\n",
       "      box-shadow: 0px 1px 3px 1px rgba(0, 0, 0, 0.15);\n",
       "      filter: drop-shadow(0px 1px 2px rgba(0, 0, 0, 0.3));\n",
       "      fill: #FFFFFF;\n",
       "    }\n",
       "  </style>\n",
       "\n",
       "      <script>\n",
       "        const buttonEl =\n",
       "          document.querySelector('#df-84e25c11-21a6-45c5-b767-026c4120341d button.colab-df-convert');\n",
       "        buttonEl.style.display =\n",
       "          google.colab.kernel.accessAllowed ? 'block' : 'none';\n",
       "\n",
       "        async function convertToInteractive(key) {\n",
       "          const element = document.querySelector('#df-84e25c11-21a6-45c5-b767-026c4120341d');\n",
       "          const dataTable =\n",
       "            await google.colab.kernel.invokeFunction('convertToInteractive',\n",
       "                                                     [key], {});\n",
       "          if (!dataTable) return;\n",
       "\n",
       "          const docLinkHtml = 'Like what you see? Visit the ' +\n",
       "            '<a target=\"_blank\" href=https://colab.research.google.com/notebooks/data_table.ipynb>data table notebook</a>'\n",
       "            + ' to learn more about interactive tables.';\n",
       "          element.innerHTML = '';\n",
       "          dataTable['output_type'] = 'display_data';\n",
       "          await google.colab.output.renderOutput(dataTable, element);\n",
       "          const docLink = document.createElement('div');\n",
       "          docLink.innerHTML = docLinkHtml;\n",
       "          element.appendChild(docLink);\n",
       "        }\n",
       "      </script>\n",
       "    </div>\n",
       "  </div>\n",
       "  "
      ],
      "text/plain": [
       "     Number of Devices  Age  Declared Turnover  Actual Turnover  \\\n",
       "0                  3.0   18                 20               20   \n",
       "1                  3.0   19                 20               30   \n",
       "2                  3.0   20                 20               40   \n",
       "3                  1.0   18                 20               20   \n",
       "4                  1.0   18                 30               70   \n",
       "..                 ...  ...                ...              ...   \n",
       "211                1.0   21                 50               40   \n",
       "212                1.0   22                 20               20   \n",
       "213                3.0   21                 20               70   \n",
       "214                2.0   27                 20              100   \n",
       "215                3.0   25                 30               60   \n",
       "\n",
       "     Months Active  TurnoverDiff  Crypto Use  ATM use  AccUseDiff  \\\n",
       "0             12.0             0           1        0           0   \n",
       "1              3.0            10           1        0           0   \n",
       "2              3.0            20           1        0           0   \n",
       "3              3.0             0           1        0           1   \n",
       "4              2.0            40           0        0           1   \n",
       "..             ...           ...         ...      ...         ...   \n",
       "211            1.0            10           1        0           1   \n",
       "212            2.0             0           0        0           1   \n",
       "213            1.0            50           0        0           1   \n",
       "214            1.0            80           0        1           0   \n",
       "215            1.0            30           0        1           0   \n",
       "\n",
       "     Fraud Confirmed  TurnoverDiffStatus  Location  Declared Use  Actual Use  \\\n",
       "0                  0                   2         3             1           1   \n",
       "1                  0                   0         0             1           1   \n",
       "2                  0                   0         2             1           1   \n",
       "3                  1                   2         1             1           0   \n",
       "4                  1                   0         1             1           0   \n",
       "..               ...                 ...       ...           ...         ...   \n",
       "211                0                   1         3             3           0   \n",
       "212                0                   2         0             1           2   \n",
       "213                0                   0         2             1           3   \n",
       "214                0                   0         1             0           0   \n",
       "215                0                   0         1             0           0   \n",
       "\n",
       "     ID Type  \n",
       "0          3  \n",
       "1          3  \n",
       "2          3  \n",
       "3          3  \n",
       "4          2  \n",
       "..       ...  \n",
       "211        0  \n",
       "212        1  \n",
       "213        1  \n",
       "214        3  \n",
       "215        3  \n",
       "\n",
       "[216 rows x 15 columns]"
      ]
     },
     "execution_count": 83,
     "metadata": {},
     "output_type": "execute_result"
    }
   ],
   "source": [
    "numeric_data = pd.read_csv(path+\"Numeric_Data.csv\")\n",
    "numeric_data"
   ]
  },
  {
   "cell_type": "code",
   "execution_count": 84,
   "id": "Ja6i24jBb7BZ",
   "metadata": {
    "ExecuteTime": {
     "end_time": "2022-04-08T16:21:22.228652Z",
     "start_time": "2022-04-08T16:21:22.211660Z"
    },
    "colab": {
     "base_uri": "https://localhost:8080/"
    },
    "id": "Ja6i24jBb7BZ",
    "outputId": "6ef40ab4-f560-44d7-f0fb-68405affd151"
   },
   "outputs": [
    {
     "data": {
      "text/plain": [
       "Index(['Number of Devices', 'Age', 'Declared Turnover', 'Actual Turnover',\n",
       "       'Months Active', 'TurnoverDiff', 'Crypto Use', 'ATM use', 'AccUseDiff',\n",
       "       'Fraud Confirmed', 'TurnoverDiffStatus', 'Location', 'Declared Use',\n",
       "       'Actual Use', 'ID Type'],\n",
       "      dtype='object')"
      ]
     },
     "execution_count": 84,
     "metadata": {},
     "output_type": "execute_result"
    }
   ],
   "source": [
    "numeric_data.columns"
   ]
  },
  {
   "cell_type": "code",
   "execution_count": 90,
   "id": "relevant-welsh",
   "metadata": {
    "ExecuteTime": {
     "end_time": "2022-04-08T16:22:32.977246Z",
     "start_time": "2022-04-08T16:22:32.959247Z"
    },
    "id": "relevant-welsh"
   },
   "outputs": [],
   "source": [
    "X = numeric_data.copy() # Cluster is our target variable\n",
    "y = clustered_data[\"Cluster\"].copy()"
   ]
  },
  {
   "cell_type": "code",
   "execution_count": 91,
   "id": "artistic-detroit",
   "metadata": {
    "ExecuteTime": {
     "end_time": "2022-04-08T16:22:33.703119Z",
     "start_time": "2022-04-08T16:22:33.658081Z"
    },
    "colab": {
     "base_uri": "https://localhost:8080/",
     "height": 484
    },
    "id": "artistic-detroit",
    "outputId": "dbe2bcf6-f48f-4bf3-f24c-5271a36cdfb6"
   },
   "outputs": [
    {
     "data": {
      "text/html": [
       "\n",
       "  <div id=\"df-3e08339e-70c2-4cce-b63c-cea497c427d2\">\n",
       "    <div class=\"colab-df-container\">\n",
       "      <div>\n",
       "<style scoped>\n",
       "    .dataframe tbody tr th:only-of-type {\n",
       "        vertical-align: middle;\n",
       "    }\n",
       "\n",
       "    .dataframe tbody tr th {\n",
       "        vertical-align: top;\n",
       "    }\n",
       "\n",
       "    .dataframe thead th {\n",
       "        text-align: right;\n",
       "    }\n",
       "</style>\n",
       "<table border=\"1\" class=\"dataframe\">\n",
       "  <thead>\n",
       "    <tr style=\"text-align: right;\">\n",
       "      <th></th>\n",
       "      <th>Number of Devices</th>\n",
       "      <th>Age</th>\n",
       "      <th>Declared Turnover</th>\n",
       "      <th>Actual Turnover</th>\n",
       "      <th>Months Active</th>\n",
       "      <th>TurnoverDiff</th>\n",
       "      <th>Crypto Use</th>\n",
       "      <th>ATM use</th>\n",
       "      <th>AccUseDiff</th>\n",
       "      <th>Fraud Confirmed</th>\n",
       "      <th>TurnoverDiffStatus</th>\n",
       "      <th>Location</th>\n",
       "      <th>Declared Use</th>\n",
       "      <th>Actual Use</th>\n",
       "      <th>ID Type</th>\n",
       "    </tr>\n",
       "  </thead>\n",
       "  <tbody>\n",
       "    <tr>\n",
       "      <th>0</th>\n",
       "      <td>3.0</td>\n",
       "      <td>18</td>\n",
       "      <td>20</td>\n",
       "      <td>20</td>\n",
       "      <td>12.0</td>\n",
       "      <td>0</td>\n",
       "      <td>1</td>\n",
       "      <td>0</td>\n",
       "      <td>0</td>\n",
       "      <td>0</td>\n",
       "      <td>2</td>\n",
       "      <td>3</td>\n",
       "      <td>1</td>\n",
       "      <td>1</td>\n",
       "      <td>3</td>\n",
       "    </tr>\n",
       "    <tr>\n",
       "      <th>1</th>\n",
       "      <td>3.0</td>\n",
       "      <td>19</td>\n",
       "      <td>20</td>\n",
       "      <td>30</td>\n",
       "      <td>3.0</td>\n",
       "      <td>10</td>\n",
       "      <td>1</td>\n",
       "      <td>0</td>\n",
       "      <td>0</td>\n",
       "      <td>0</td>\n",
       "      <td>0</td>\n",
       "      <td>0</td>\n",
       "      <td>1</td>\n",
       "      <td>1</td>\n",
       "      <td>3</td>\n",
       "    </tr>\n",
       "    <tr>\n",
       "      <th>2</th>\n",
       "      <td>3.0</td>\n",
       "      <td>20</td>\n",
       "      <td>20</td>\n",
       "      <td>40</td>\n",
       "      <td>3.0</td>\n",
       "      <td>20</td>\n",
       "      <td>1</td>\n",
       "      <td>0</td>\n",
       "      <td>0</td>\n",
       "      <td>0</td>\n",
       "      <td>0</td>\n",
       "      <td>2</td>\n",
       "      <td>1</td>\n",
       "      <td>1</td>\n",
       "      <td>3</td>\n",
       "    </tr>\n",
       "    <tr>\n",
       "      <th>3</th>\n",
       "      <td>1.0</td>\n",
       "      <td>18</td>\n",
       "      <td>20</td>\n",
       "      <td>20</td>\n",
       "      <td>3.0</td>\n",
       "      <td>0</td>\n",
       "      <td>1</td>\n",
       "      <td>0</td>\n",
       "      <td>1</td>\n",
       "      <td>1</td>\n",
       "      <td>2</td>\n",
       "      <td>1</td>\n",
       "      <td>1</td>\n",
       "      <td>0</td>\n",
       "      <td>3</td>\n",
       "    </tr>\n",
       "    <tr>\n",
       "      <th>4</th>\n",
       "      <td>1.0</td>\n",
       "      <td>18</td>\n",
       "      <td>30</td>\n",
       "      <td>70</td>\n",
       "      <td>2.0</td>\n",
       "      <td>40</td>\n",
       "      <td>0</td>\n",
       "      <td>0</td>\n",
       "      <td>1</td>\n",
       "      <td>1</td>\n",
       "      <td>0</td>\n",
       "      <td>1</td>\n",
       "      <td>1</td>\n",
       "      <td>0</td>\n",
       "      <td>2</td>\n",
       "    </tr>\n",
       "    <tr>\n",
       "      <th>...</th>\n",
       "      <td>...</td>\n",
       "      <td>...</td>\n",
       "      <td>...</td>\n",
       "      <td>...</td>\n",
       "      <td>...</td>\n",
       "      <td>...</td>\n",
       "      <td>...</td>\n",
       "      <td>...</td>\n",
       "      <td>...</td>\n",
       "      <td>...</td>\n",
       "      <td>...</td>\n",
       "      <td>...</td>\n",
       "      <td>...</td>\n",
       "      <td>...</td>\n",
       "      <td>...</td>\n",
       "    </tr>\n",
       "    <tr>\n",
       "      <th>211</th>\n",
       "      <td>1.0</td>\n",
       "      <td>21</td>\n",
       "      <td>50</td>\n",
       "      <td>40</td>\n",
       "      <td>1.0</td>\n",
       "      <td>10</td>\n",
       "      <td>1</td>\n",
       "      <td>0</td>\n",
       "      <td>1</td>\n",
       "      <td>0</td>\n",
       "      <td>1</td>\n",
       "      <td>3</td>\n",
       "      <td>3</td>\n",
       "      <td>0</td>\n",
       "      <td>0</td>\n",
       "    </tr>\n",
       "    <tr>\n",
       "      <th>212</th>\n",
       "      <td>1.0</td>\n",
       "      <td>22</td>\n",
       "      <td>20</td>\n",
       "      <td>20</td>\n",
       "      <td>2.0</td>\n",
       "      <td>0</td>\n",
       "      <td>0</td>\n",
       "      <td>0</td>\n",
       "      <td>1</td>\n",
       "      <td>0</td>\n",
       "      <td>2</td>\n",
       "      <td>0</td>\n",
       "      <td>1</td>\n",
       "      <td>2</td>\n",
       "      <td>1</td>\n",
       "    </tr>\n",
       "    <tr>\n",
       "      <th>213</th>\n",
       "      <td>3.0</td>\n",
       "      <td>21</td>\n",
       "      <td>20</td>\n",
       "      <td>70</td>\n",
       "      <td>1.0</td>\n",
       "      <td>50</td>\n",
       "      <td>0</td>\n",
       "      <td>0</td>\n",
       "      <td>1</td>\n",
       "      <td>0</td>\n",
       "      <td>0</td>\n",
       "      <td>2</td>\n",
       "      <td>1</td>\n",
       "      <td>3</td>\n",
       "      <td>1</td>\n",
       "    </tr>\n",
       "    <tr>\n",
       "      <th>214</th>\n",
       "      <td>2.0</td>\n",
       "      <td>27</td>\n",
       "      <td>20</td>\n",
       "      <td>100</td>\n",
       "      <td>1.0</td>\n",
       "      <td>80</td>\n",
       "      <td>0</td>\n",
       "      <td>1</td>\n",
       "      <td>0</td>\n",
       "      <td>0</td>\n",
       "      <td>0</td>\n",
       "      <td>1</td>\n",
       "      <td>0</td>\n",
       "      <td>0</td>\n",
       "      <td>3</td>\n",
       "    </tr>\n",
       "    <tr>\n",
       "      <th>215</th>\n",
       "      <td>3.0</td>\n",
       "      <td>25</td>\n",
       "      <td>30</td>\n",
       "      <td>60</td>\n",
       "      <td>1.0</td>\n",
       "      <td>30</td>\n",
       "      <td>0</td>\n",
       "      <td>1</td>\n",
       "      <td>0</td>\n",
       "      <td>0</td>\n",
       "      <td>0</td>\n",
       "      <td>1</td>\n",
       "      <td>0</td>\n",
       "      <td>0</td>\n",
       "      <td>3</td>\n",
       "    </tr>\n",
       "  </tbody>\n",
       "</table>\n",
       "<p>216 rows × 15 columns</p>\n",
       "</div>\n",
       "      <button class=\"colab-df-convert\" onclick=\"convertToInteractive('df-3e08339e-70c2-4cce-b63c-cea497c427d2')\"\n",
       "              title=\"Convert this dataframe to an interactive table.\"\n",
       "              style=\"display:none;\">\n",
       "        \n",
       "  <svg xmlns=\"http://www.w3.org/2000/svg\" height=\"24px\"viewBox=\"0 0 24 24\"\n",
       "       width=\"24px\">\n",
       "    <path d=\"M0 0h24v24H0V0z\" fill=\"none\"/>\n",
       "    <path d=\"M18.56 5.44l.94 2.06.94-2.06 2.06-.94-2.06-.94-.94-2.06-.94 2.06-2.06.94zm-11 1L8.5 8.5l.94-2.06 2.06-.94-2.06-.94L8.5 2.5l-.94 2.06-2.06.94zm10 10l.94 2.06.94-2.06 2.06-.94-2.06-.94-.94-2.06-.94 2.06-2.06.94z\"/><path d=\"M17.41 7.96l-1.37-1.37c-.4-.4-.92-.59-1.43-.59-.52 0-1.04.2-1.43.59L10.3 9.45l-7.72 7.72c-.78.78-.78 2.05 0 2.83L4 21.41c.39.39.9.59 1.41.59.51 0 1.02-.2 1.41-.59l7.78-7.78 2.81-2.81c.8-.78.8-2.07 0-2.86zM5.41 20L4 18.59l7.72-7.72 1.47 1.35L5.41 20z\"/>\n",
       "  </svg>\n",
       "      </button>\n",
       "      \n",
       "  <style>\n",
       "    .colab-df-container {\n",
       "      display:flex;\n",
       "      flex-wrap:wrap;\n",
       "      gap: 12px;\n",
       "    }\n",
       "\n",
       "    .colab-df-convert {\n",
       "      background-color: #E8F0FE;\n",
       "      border: none;\n",
       "      border-radius: 50%;\n",
       "      cursor: pointer;\n",
       "      display: none;\n",
       "      fill: #1967D2;\n",
       "      height: 32px;\n",
       "      padding: 0 0 0 0;\n",
       "      width: 32px;\n",
       "    }\n",
       "\n",
       "    .colab-df-convert:hover {\n",
       "      background-color: #E2EBFA;\n",
       "      box-shadow: 0px 1px 2px rgba(60, 64, 67, 0.3), 0px 1px 3px 1px rgba(60, 64, 67, 0.15);\n",
       "      fill: #174EA6;\n",
       "    }\n",
       "\n",
       "    [theme=dark] .colab-df-convert {\n",
       "      background-color: #3B4455;\n",
       "      fill: #D2E3FC;\n",
       "    }\n",
       "\n",
       "    [theme=dark] .colab-df-convert:hover {\n",
       "      background-color: #434B5C;\n",
       "      box-shadow: 0px 1px 3px 1px rgba(0, 0, 0, 0.15);\n",
       "      filter: drop-shadow(0px 1px 2px rgba(0, 0, 0, 0.3));\n",
       "      fill: #FFFFFF;\n",
       "    }\n",
       "  </style>\n",
       "\n",
       "      <script>\n",
       "        const buttonEl =\n",
       "          document.querySelector('#df-3e08339e-70c2-4cce-b63c-cea497c427d2 button.colab-df-convert');\n",
       "        buttonEl.style.display =\n",
       "          google.colab.kernel.accessAllowed ? 'block' : 'none';\n",
       "\n",
       "        async function convertToInteractive(key) {\n",
       "          const element = document.querySelector('#df-3e08339e-70c2-4cce-b63c-cea497c427d2');\n",
       "          const dataTable =\n",
       "            await google.colab.kernel.invokeFunction('convertToInteractive',\n",
       "                                                     [key], {});\n",
       "          if (!dataTable) return;\n",
       "\n",
       "          const docLinkHtml = 'Like what you see? Visit the ' +\n",
       "            '<a target=\"_blank\" href=https://colab.research.google.com/notebooks/data_table.ipynb>data table notebook</a>'\n",
       "            + ' to learn more about interactive tables.';\n",
       "          element.innerHTML = '';\n",
       "          dataTable['output_type'] = 'display_data';\n",
       "          await google.colab.output.renderOutput(dataTable, element);\n",
       "          const docLink = document.createElement('div');\n",
       "          docLink.innerHTML = docLinkHtml;\n",
       "          element.appendChild(docLink);\n",
       "        }\n",
       "      </script>\n",
       "    </div>\n",
       "  </div>\n",
       "  "
      ],
      "text/plain": [
       "     Number of Devices  Age  Declared Turnover  Actual Turnover  \\\n",
       "0                  3.0   18                 20               20   \n",
       "1                  3.0   19                 20               30   \n",
       "2                  3.0   20                 20               40   \n",
       "3                  1.0   18                 20               20   \n",
       "4                  1.0   18                 30               70   \n",
       "..                 ...  ...                ...              ...   \n",
       "211                1.0   21                 50               40   \n",
       "212                1.0   22                 20               20   \n",
       "213                3.0   21                 20               70   \n",
       "214                2.0   27                 20              100   \n",
       "215                3.0   25                 30               60   \n",
       "\n",
       "     Months Active  TurnoverDiff  Crypto Use  ATM use  AccUseDiff  \\\n",
       "0             12.0             0           1        0           0   \n",
       "1              3.0            10           1        0           0   \n",
       "2              3.0            20           1        0           0   \n",
       "3              3.0             0           1        0           1   \n",
       "4              2.0            40           0        0           1   \n",
       "..             ...           ...         ...      ...         ...   \n",
       "211            1.0            10           1        0           1   \n",
       "212            2.0             0           0        0           1   \n",
       "213            1.0            50           0        0           1   \n",
       "214            1.0            80           0        1           0   \n",
       "215            1.0            30           0        1           0   \n",
       "\n",
       "     Fraud Confirmed  TurnoverDiffStatus  Location  Declared Use  Actual Use  \\\n",
       "0                  0                   2         3             1           1   \n",
       "1                  0                   0         0             1           1   \n",
       "2                  0                   0         2             1           1   \n",
       "3                  1                   2         1             1           0   \n",
       "4                  1                   0         1             1           0   \n",
       "..               ...                 ...       ...           ...         ...   \n",
       "211                0                   1         3             3           0   \n",
       "212                0                   2         0             1           2   \n",
       "213                0                   0         2             1           3   \n",
       "214                0                   0         1             0           0   \n",
       "215                0                   0         1             0           0   \n",
       "\n",
       "     ID Type  \n",
       "0          3  \n",
       "1          3  \n",
       "2          3  \n",
       "3          3  \n",
       "4          2  \n",
       "..       ...  \n",
       "211        0  \n",
       "212        1  \n",
       "213        1  \n",
       "214        3  \n",
       "215        3  \n",
       "\n",
       "[216 rows x 15 columns]"
      ]
     },
     "execution_count": 91,
     "metadata": {},
     "output_type": "execute_result"
    }
   ],
   "source": [
    "X"
   ]
  },
  {
   "cell_type": "code",
   "execution_count": 92,
   "id": "filled-moore",
   "metadata": {
    "ExecuteTime": {
     "end_time": "2022-04-08T16:22:34.229050Z",
     "start_time": "2022-04-08T16:22:34.211056Z"
    },
    "colab": {
     "base_uri": "https://localhost:8080/"
    },
    "id": "filled-moore",
    "outputId": "be135118-f58d-472c-fc95-74dc6abd9d63"
   },
   "outputs": [
    {
     "data": {
      "text/plain": [
       "0      0\n",
       "1      2\n",
       "2      2\n",
       "3      0\n",
       "4      2\n",
       "      ..\n",
       "211    0\n",
       "212    0\n",
       "213    2\n",
       "214    2\n",
       "215    2\n",
       "Name: Cluster, Length: 216, dtype: int32"
      ]
     },
     "execution_count": 92,
     "metadata": {},
     "output_type": "execute_result"
    }
   ],
   "source": [
    "y"
   ]
  },
  {
   "cell_type": "code",
   "execution_count": 93,
   "id": "creative-contrary",
   "metadata": {
    "ExecuteTime": {
     "end_time": "2022-04-08T16:22:35.286975Z",
     "start_time": "2022-04-08T16:22:34.880247Z"
    },
    "colab": {
     "base_uri": "https://localhost:8080/"
    },
    "id": "creative-contrary",
    "outputId": "a94cefab-6d80-4cb2-f3ef-91c79353792b"
   },
   "outputs": [
    {
     "data": {
      "text/plain": [
       "0    82\n",
       "2    82\n",
       "1    52\n",
       "Name: Cluster, dtype: int64"
      ]
     },
     "execution_count": 93,
     "metadata": {},
     "output_type": "execute_result"
    }
   ],
   "source": [
    "y.value_counts()"
   ]
  },
  {
   "cell_type": "code",
   "execution_count": 94,
   "id": "billion-assist",
   "metadata": {
    "ExecuteTime": {
     "end_time": "2022-04-08T16:24:18.507340Z",
     "start_time": "2022-04-08T16:24:18.476355Z"
    },
    "id": "billion-assist"
   },
   "outputs": [],
   "source": [
    "class_weight = {0:1 ,1:1,2:1.5}"
   ]
  },
  {
   "cell_type": "code",
   "execution_count": 95,
   "id": "hearing-winning",
   "metadata": {
    "ExecuteTime": {
     "end_time": "2022-04-08T16:24:24.659362Z",
     "start_time": "2022-04-08T16:24:21.518813Z"
    },
    "colab": {
     "base_uri": "https://localhost:8080/",
     "height": 610
    },
    "id": "hearing-winning",
    "outputId": "be8bf38a-1fbf-44f5-afdd-a52e2ca27117"
   },
   "outputs": [
    {
     "name": "stdout",
     "output_type": "stream",
     "text": [
      "The Shape of X_train: (151, 15)\n",
      "The Shape of X_test: (65, 15)\n",
      "The Shape of y_train: (151,)\n",
      "The Shape of y_test: (65,)\n",
      "\n",
      "\n",
      "---------------------------------------------------------------------------------\n",
      "\n",
      "\n",
      "DoneLogisticRegression\n",
      "DoneGaussianNB\n",
      "DoneSVM\n",
      "DoneDecisionTreeClassifier\n",
      "DoneXGBClassifier\n",
      "DoneGradientBoostingClassifier\n",
      "DoneKNeighborsClassifier\n",
      "DoneRandomForestClassifier\n"
     ]
    },
    {
     "data": {
      "text/html": [
       "\n",
       "  <div id=\"df-fb163d1d-e64a-4722-b863-d093fea13a87\">\n",
       "    <div class=\"colab-df-container\">\n",
       "      <div>\n",
       "<style scoped>\n",
       "    .dataframe tbody tr th:only-of-type {\n",
       "        vertical-align: middle;\n",
       "    }\n",
       "\n",
       "    .dataframe tbody tr th {\n",
       "        vertical-align: top;\n",
       "    }\n",
       "\n",
       "    .dataframe thead th {\n",
       "        text-align: right;\n",
       "    }\n",
       "</style>\n",
       "<table border=\"1\" class=\"dataframe\">\n",
       "  <thead>\n",
       "    <tr style=\"text-align: right;\">\n",
       "      <th></th>\n",
       "      <th>Model</th>\n",
       "      <th>train_accuracy</th>\n",
       "      <th>test_accuracy</th>\n",
       "    </tr>\n",
       "  </thead>\n",
       "  <tbody>\n",
       "    <tr>\n",
       "      <th>0</th>\n",
       "      <td>LogisticRegression</td>\n",
       "      <td>1.000000</td>\n",
       "      <td>0.969231</td>\n",
       "    </tr>\n",
       "    <tr>\n",
       "      <th>1</th>\n",
       "      <td>GaussianNB</td>\n",
       "      <td>0.966887</td>\n",
       "      <td>0.938462</td>\n",
       "    </tr>\n",
       "    <tr>\n",
       "      <th>2</th>\n",
       "      <td>SVM</td>\n",
       "      <td>0.927152</td>\n",
       "      <td>0.830769</td>\n",
       "    </tr>\n",
       "    <tr>\n",
       "      <th>3</th>\n",
       "      <td>DecisionTreeClassifier</td>\n",
       "      <td>1.000000</td>\n",
       "      <td>0.907692</td>\n",
       "    </tr>\n",
       "    <tr>\n",
       "      <th>4</th>\n",
       "      <td>XGBClassifier</td>\n",
       "      <td>1.000000</td>\n",
       "      <td>0.953846</td>\n",
       "    </tr>\n",
       "    <tr>\n",
       "      <th>5</th>\n",
       "      <td>GradientBoostingClassifier</td>\n",
       "      <td>1.000000</td>\n",
       "      <td>0.969231</td>\n",
       "    </tr>\n",
       "    <tr>\n",
       "      <th>6</th>\n",
       "      <td>KNeighborsClassifier</td>\n",
       "      <td>0.960265</td>\n",
       "      <td>0.830769</td>\n",
       "    </tr>\n",
       "    <tr>\n",
       "      <th>7</th>\n",
       "      <td>RandomForestClassifier</td>\n",
       "      <td>1.000000</td>\n",
       "      <td>0.953846</td>\n",
       "    </tr>\n",
       "  </tbody>\n",
       "</table>\n",
       "</div>\n",
       "      <button class=\"colab-df-convert\" onclick=\"convertToInteractive('df-fb163d1d-e64a-4722-b863-d093fea13a87')\"\n",
       "              title=\"Convert this dataframe to an interactive table.\"\n",
       "              style=\"display:none;\">\n",
       "        \n",
       "  <svg xmlns=\"http://www.w3.org/2000/svg\" height=\"24px\"viewBox=\"0 0 24 24\"\n",
       "       width=\"24px\">\n",
       "    <path d=\"M0 0h24v24H0V0z\" fill=\"none\"/>\n",
       "    <path d=\"M18.56 5.44l.94 2.06.94-2.06 2.06-.94-2.06-.94-.94-2.06-.94 2.06-2.06.94zm-11 1L8.5 8.5l.94-2.06 2.06-.94-2.06-.94L8.5 2.5l-.94 2.06-2.06.94zm10 10l.94 2.06.94-2.06 2.06-.94-2.06-.94-.94-2.06-.94 2.06-2.06.94z\"/><path d=\"M17.41 7.96l-1.37-1.37c-.4-.4-.92-.59-1.43-.59-.52 0-1.04.2-1.43.59L10.3 9.45l-7.72 7.72c-.78.78-.78 2.05 0 2.83L4 21.41c.39.39.9.59 1.41.59.51 0 1.02-.2 1.41-.59l7.78-7.78 2.81-2.81c.8-.78.8-2.07 0-2.86zM5.41 20L4 18.59l7.72-7.72 1.47 1.35L5.41 20z\"/>\n",
       "  </svg>\n",
       "      </button>\n",
       "      \n",
       "  <style>\n",
       "    .colab-df-container {\n",
       "      display:flex;\n",
       "      flex-wrap:wrap;\n",
       "      gap: 12px;\n",
       "    }\n",
       "\n",
       "    .colab-df-convert {\n",
       "      background-color: #E8F0FE;\n",
       "      border: none;\n",
       "      border-radius: 50%;\n",
       "      cursor: pointer;\n",
       "      display: none;\n",
       "      fill: #1967D2;\n",
       "      height: 32px;\n",
       "      padding: 0 0 0 0;\n",
       "      width: 32px;\n",
       "    }\n",
       "\n",
       "    .colab-df-convert:hover {\n",
       "      background-color: #E2EBFA;\n",
       "      box-shadow: 0px 1px 2px rgba(60, 64, 67, 0.3), 0px 1px 3px 1px rgba(60, 64, 67, 0.15);\n",
       "      fill: #174EA6;\n",
       "    }\n",
       "\n",
       "    [theme=dark] .colab-df-convert {\n",
       "      background-color: #3B4455;\n",
       "      fill: #D2E3FC;\n",
       "    }\n",
       "\n",
       "    [theme=dark] .colab-df-convert:hover {\n",
       "      background-color: #434B5C;\n",
       "      box-shadow: 0px 1px 3px 1px rgba(0, 0, 0, 0.15);\n",
       "      filter: drop-shadow(0px 1px 2px rgba(0, 0, 0, 0.3));\n",
       "      fill: #FFFFFF;\n",
       "    }\n",
       "  </style>\n",
       "\n",
       "      <script>\n",
       "        const buttonEl =\n",
       "          document.querySelector('#df-fb163d1d-e64a-4722-b863-d093fea13a87 button.colab-df-convert');\n",
       "        buttonEl.style.display =\n",
       "          google.colab.kernel.accessAllowed ? 'block' : 'none';\n",
       "\n",
       "        async function convertToInteractive(key) {\n",
       "          const element = document.querySelector('#df-fb163d1d-e64a-4722-b863-d093fea13a87');\n",
       "          const dataTable =\n",
       "            await google.colab.kernel.invokeFunction('convertToInteractive',\n",
       "                                                     [key], {});\n",
       "          if (!dataTable) return;\n",
       "\n",
       "          const docLinkHtml = 'Like what you see? Visit the ' +\n",
       "            '<a target=\"_blank\" href=https://colab.research.google.com/notebooks/data_table.ipynb>data table notebook</a>'\n",
       "            + ' to learn more about interactive tables.';\n",
       "          element.innerHTML = '';\n",
       "          dataTable['output_type'] = 'display_data';\n",
       "          await google.colab.output.renderOutput(dataTable, element);\n",
       "          const docLink = document.createElement('div');\n",
       "          docLink.innerHTML = docLinkHtml;\n",
       "          element.appendChild(docLink);\n",
       "        }\n",
       "      </script>\n",
       "    </div>\n",
       "  </div>\n",
       "  "
      ],
      "text/plain": [
       "                        Model  train_accuracy  test_accuracy\n",
       "0          LogisticRegression        1.000000       0.969231\n",
       "1                  GaussianNB        0.966887       0.938462\n",
       "2                         SVM        0.927152       0.830769\n",
       "3      DecisionTreeClassifier        1.000000       0.907692\n",
       "4               XGBClassifier        1.000000       0.953846\n",
       "5  GradientBoostingClassifier        1.000000       0.969231\n",
       "6        KNeighborsClassifier        0.960265       0.830769\n",
       "7      RandomForestClassifier        1.000000       0.953846"
      ]
     },
     "execution_count": 95,
     "metadata": {},
     "output_type": "execute_result"
    }
   ],
   "source": [
    "X_train, X_test, y_train, y_test = train_test_split(X, y, test_size=0.30, random_state=42, shuffle=True , stratify=y)\n",
    "\n",
    "print(\"The Shape of X_train:\", X_train.shape)\n",
    "print(\"The Shape of X_test:\", X_test.shape)\n",
    "print(\"The Shape of y_train:\", y_train.shape)\n",
    "print(\"The Shape of y_test:\", y_test.shape)\n",
    "print(\"\\n\\n---------------------------------------------------------------------------------\\n\\n\")\n",
    "\n",
    "models = []\n",
    "models.append(('LogisticRegression', LogisticRegression(random_state=0 , class_weight=class_weight)))\n",
    "models.append(('GaussianNB'   , GaussianNB()))\n",
    "models.append(('SVM'  , SVC(random_state=0 ,probability=True , class_weight=class_weight)))\n",
    "models.append(('DecisionTreeClassifier', DecisionTreeClassifier(random_state=0 , class_weight=class_weight)))\n",
    "models.append(('XGBClassifier', XGBClassifier(random_state=0)))\n",
    "models.append(('GradientBoostingClassifier', GradientBoostingClassifier(random_state=0 )))\n",
    "models.append(('KNeighborsClassifier', KNeighborsClassifier()))\n",
    "models.append(('RandomForestClassifier', RandomForestClassifier(random_state=0 , class_weight=class_weight)))\n",
    "\n",
    "\n",
    "model_name = []\n",
    "train_accuracy = []\n",
    "test_accuracy = []\n",
    "\n",
    "for name, model in models: \n",
    "    \n",
    "    model.fit(X_train,y_train)\n",
    "    model_name.append(name)\n",
    "    train_accuracy.append(model.score(X_train, y_train))\n",
    "    test_accuracy.append(model.score(X_test, y_test))\n",
    "    print(\"Done\" + name)\n",
    "Accuracy_df = pd.DataFrame({\"Model\" : model_name , \"train_accuracy\" : train_accuracy, \"test_accuracy\" : test_accuracy})\n",
    "Accuracy_df"
   ]
  },
  {
   "cell_type": "code",
   "execution_count": null,
   "id": "confirmed-companion",
   "metadata": {
    "ExecuteTime": {
     "end_time": "2022-04-08T16:24:34.670080Z",
     "start_time": "2022-04-08T16:24:34.303654Z"
    },
    "colab": {
     "base_uri": "https://localhost:8080/",
     "height": 421
    },
    "id": "confirmed-companion",
    "outputId": "79c90e96-dcff-4647-977d-d386cccb1da7"
   },
   "outputs": [
    {
     "name": "stdout",
     "output_type": "stream",
     "text": [
      "                        Model  train_accuracy  test_accuracy\n",
      "2                         SVM        0.920530       0.784615\n",
      "6        KNeighborsClassifier        0.927152       0.815385\n",
      "0          LogisticRegression        1.000000       0.938462\n",
      "1                  GaussianNB        0.973510       0.953846\n",
      "3      DecisionTreeClassifier        1.000000       0.953846\n",
      "4               XGBClassifier        1.000000       0.969231\n",
      "5  GradientBoostingClassifier        1.000000       0.969231\n",
      "7      RandomForestClassifier        1.000000       0.969231\n"
     ]
    },
    {
     "data": {
      "text/plain": [
       "<BarContainer object of 8 artists>"
      ]
     },
     "execution_count": 266,
     "metadata": {},
     "output_type": "execute_result"
    },
    {
     "data": {
      "image/png": "[encoded data removed]",
      "text/plain": [
       "<Figure size 432x288 with 1 Axes>"
      ]
     },
     "metadata": {},
     "output_type": "display_data"
    }
   ],
   "source": [
    "Temp = Accuracy_df.sort_values(\"test_accuracy\")\n",
    "print(Temp)\n",
    "plt.barh( Temp[\"Model\"],Temp[\"test_accuracy\"] )"
   ]
  },
  {
   "cell_type": "code",
   "execution_count": 96,
   "id": "nervous-terrorist",
   "metadata": {
    "ExecuteTime": {
     "end_time": "2022-04-08T16:24:46.670699Z",
     "start_time": "2022-04-08T16:24:46.647691Z"
    },
    "id": "nervous-terrorist"
   },
   "outputs": [],
   "source": [
    "def NormalizedModel(nameOfScaler):\n",
    "    \n",
    "    if nameOfScaler == 'standard':\n",
    "        scaler = StandardScaler()\n",
    "    elif nameOfScaler =='minmax':\n",
    "        scaler = MinMaxScaler()\n",
    "    elif nameOfScaler == 'normalizer':\n",
    "        scaler = Normalizer()\n",
    "    elif nameOfScaler == 'binarizer':\n",
    "        scaler = Binarizer()\n",
    "\n",
    "    pipelines = []\n",
    "    pipelines.append((nameOfScaler+'_LR'  , Pipeline([('Scaler', scaler),('LR'  , LogisticRegression(class_weight=class_weight))])))\n",
    "    pipelines.append((nameOfScaler+'_KNN' , Pipeline([('Scaler', scaler),('KNN' , KNeighborsClassifier())])))\n",
    "    pipelines.append((nameOfScaler+'_DT'  , Pipeline([('Scaler', scaler),('DT'  , DecisionTreeClassifier(class_weight=class_weight))])))\n",
    "    pipelines.append((nameOfScaler+'_NB'  , Pipeline([('Scaler', scaler),('NB'  , GaussianNB())])))\n",
    "    pipelines.append((nameOfScaler+'_SVM' , Pipeline([('Scaler', scaler),('SVM' , SVC())])))\n",
    "    pipelines.append((nameOfScaler+'_XGB' , Pipeline([('Scaler', scaler),('XGB' , XGBClassifier())])  ))\n",
    "    pipelines.append((nameOfScaler+'_GBM' , Pipeline([('Scaler', scaler),('GBM' , GradientBoostingClassifier())])  ))\n",
    "    pipelines.append((nameOfScaler+'_RF'  , Pipeline([('Scaler', scaler),('RF'  , RandomForestClassifier(class_weight=class_weight))])  ))\n",
    "\n",
    "    return pipelines\n",
    "\n",
    "# Train model\n",
    "def fit_model(X_train, y_train, X_test , y_test ,models):\n",
    "    \n",
    "    num_folds = 10\n",
    "    scoring = 'accuracy'\n",
    "\n",
    "    model_name = []\n",
    "    train_accuracy = []\n",
    "    test_accuracy = []\n",
    "\n",
    "    for name, model in models: \n",
    "        \n",
    "        model.fit(X_train,y_train)\n",
    "        model_name.append(name)\n",
    "        train_accuracy.append(model.score(X_train, y_train))\n",
    "        test_accuracy.append(model.score(X_test, y_test))\n",
    "        print(\"Done\" + name)\n",
    "        Accuracy_df = pd.DataFrame({\"Model\" : model_name , \"train_accuracy\" : train_accuracy, \"test_accuracy\" : test_accuracy})\n",
    "    print(Accuracy_df)\n",
    "    return Accuracy_df"
   ]
  },
  {
   "cell_type": "code",
   "execution_count": 97,
   "id": "noble-timer",
   "metadata": {
    "ExecuteTime": {
     "end_time": "2022-04-08T16:24:49.131658Z",
     "start_time": "2022-04-08T16:24:47.734645Z"
    },
    "colab": {
     "base_uri": "https://localhost:8080/"
    },
    "id": "noble-timer",
    "outputId": "a6261e91-283d-452b-dbd7-43e17ac38757"
   },
   "outputs": [
    {
     "name": "stdout",
     "output_type": "stream",
     "text": [
      "Donestandard_LR\n",
      "Donestandard_KNN\n",
      "Donestandard_DT\n",
      "Donestandard_NB\n",
      "Donestandard_SVM\n",
      "Donestandard_XGB\n",
      "Donestandard_GBM\n",
      "Donestandard_RF\n",
      "          Model  train_accuracy  test_accuracy\n",
      "0   standard_LR        1.000000       1.000000\n",
      "1  standard_KNN        0.953642       0.892308\n",
      "2   standard_DT        1.000000       0.876923\n",
      "3   standard_NB        0.966887       0.938462\n",
      "4  standard_SVM        1.000000       0.984615\n",
      "5  standard_XGB        1.000000       0.953846\n",
      "6  standard_GBM        1.000000       0.969231\n",
      "7   standard_RF        1.000000       0.953846\n"
     ]
    }
   ],
   "source": [
    "ScaledModel = NormalizedModel('standard')\n",
    "df = fit_model(X_train, y_train, X_test , y_test, ScaledModel)"
   ]
  },
  {
   "cell_type": "code",
   "execution_count": 98,
   "id": "thirty-northeast",
   "metadata": {
    "ExecuteTime": {
     "end_time": "2022-04-08T16:24:55.877592Z",
     "start_time": "2022-04-08T16:24:55.497586Z"
    },
    "colab": {
     "base_uri": "https://localhost:8080/",
     "height": 447
    },
    "id": "thirty-northeast",
    "outputId": "07bc2b4a-cfde-41e7-e7df-832829472f3f"
   },
   "outputs": [
    {
     "name": "stdout",
     "output_type": "stream",
     "text": [
      "          Model  train_accuracy  test_accuracy\n",
      "2   standard_DT        1.000000       0.876923\n",
      "1  standard_KNN        0.953642       0.892308\n",
      "3   standard_NB        0.966887       0.938462\n",
      "5  standard_XGB        1.000000       0.953846\n",
      "7   standard_RF        1.000000       0.953846\n",
      "6  standard_GBM        1.000000       0.969231\n",
      "4  standard_SVM        1.000000       0.984615\n",
      "0   standard_LR        1.000000       1.000000\n"
     ]
    },
    {
     "data": {
      "text/plain": [
       "<BarContainer object of 8 artists>"
      ]
     },
     "execution_count": 98,
     "metadata": {},
     "output_type": "execute_result"
    },
    {
     "data": {
      "image/png": "[encoded data removed]",
      "text/plain": [
       "<Figure size 432x288 with 1 Axes>"
      ]
     },
     "metadata": {},
     "output_type": "display_data"
    }
   ],
   "source": [
    "Temp = df.sort_values(\"test_accuracy\")\n",
    "print(Temp)\n",
    "plt.barh( Temp[\"Model\"],Temp[\"test_accuracy\"] )"
   ]
  },
  {
   "cell_type": "code",
   "execution_count": 99,
   "id": "DjkU6QHUbHMg",
   "metadata": {
    "ExecuteTime": {
     "end_time": "2022-04-08T16:36:14.997713Z",
     "start_time": "2022-04-08T16:36:14.966702Z"
    },
    "id": "DjkU6QHUbHMg"
   },
   "outputs": [],
   "source": [
    "finalmodels = []\n",
    "\n",
    "finalmodels.append(('RF' , Pipeline([('RF', RandomForestClassifier(class_weight=class_weight))])))\n",
    "finalmodels.append(('XGB' , Pipeline([('XGB', XGBClassifier())])))\n",
    "finalmodels.append(('GBM' , Pipeline([('GBM', GradientBoostingClassifier())])))\n",
    "finalmodels.append(('DT' , Pipeline([('DT', DecisionTreeClassifier(class_weight=class_weight))])))\n",
    "finalmodels.append(('LR' , Pipeline([('LR', LogisticRegression(class_weight=class_weight))])))\n",
    "\n",
    "\n",
    "finalmodels.append(('std_RF' , Pipeline([('Scaler' ,StandardScaler()), ('RF', RandomForestClassifier(class_weight=class_weight))])))\n",
    "finalmodels.append(('std_SVM' , Pipeline([('Scaler' ,StandardScaler()), ('SVM' , SVC())])))\n",
    "finalmodels.append(('std_XGB' , Pipeline([('Scaler' ,StandardScaler()), ('XGB' , XGBClassifier())])))\n",
    "finalmodels.append(('std_GBM' , Pipeline([('Scaler' ,StandardScaler()), ('GBM', GradientBoostingClassifier())])))\n",
    "finalmodels.append(('std_DT' , Pipeline([('Scaler' ,StandardScaler()), ('DT' , DecisionTreeClassifier(class_weight=class_weight))])))\n",
    "finalmodels.append(('std_LR' , Pipeline([('Scaler' ,StandardScaler()), ('LR' , LogisticRegression(class_weight=class_weight))])))\n"
   ]
  },
  {
   "cell_type": "code",
   "execution_count": 100,
   "id": "lASl7eP9jNgJ",
   "metadata": {
    "ExecuteTime": {
     "end_time": "2022-04-08T16:36:18.396288Z",
     "start_time": "2022-04-08T16:36:15.659287Z"
    },
    "colab": {
     "base_uri": "https://localhost:8080/"
    },
    "id": "lASl7eP9jNgJ",
    "outputId": "b11db07a-9474-4a22-c9aa-82238a5dcc7f",
    "scrolled": false
   },
   "outputs": [
    {
     "name": "stdout",
     "output_type": "stream",
     "text": [
      "\n",
      "*****************************************************************************\n",
      "RF\n",
      "Training Accuracy Score: 100.0%\n",
      "Validation Accuracy Score :96.9%\n",
      "              precision    recall  f1-score   support\n",
      "\n",
      "           0       1.00      0.92      0.96        25\n",
      "           1       0.88      1.00      0.94        15\n",
      "           2       1.00      1.00      1.00        25\n",
      "\n",
      "    accuracy                           0.97        65\n",
      "   macro avg       0.96      0.97      0.97        65\n",
      "weighted avg       0.97      0.97      0.97        65\n",
      "\n",
      "\n",
      "*****************************************************************************\n",
      "XGB\n",
      "Training Accuracy Score: 100.0%\n",
      "Validation Accuracy Score :95.4%\n",
      "              precision    recall  f1-score   support\n",
      "\n",
      "           0       0.92      0.96      0.94        25\n",
      "           1       0.93      0.87      0.90        15\n",
      "           2       1.00      1.00      1.00        25\n",
      "\n",
      "    accuracy                           0.95        65\n",
      "   macro avg       0.95      0.94      0.95        65\n",
      "weighted avg       0.95      0.95      0.95        65\n",
      "\n",
      "\n",
      "*****************************************************************************\n",
      "GBM\n",
      "Training Accuracy Score: 100.0%\n",
      "Validation Accuracy Score :96.9%\n",
      "              precision    recall  f1-score   support\n",
      "\n",
      "           0       0.96      0.96      0.96        25\n",
      "           1       0.93      0.93      0.93        15\n",
      "           2       1.00      1.00      1.00        25\n",
      "\n",
      "    accuracy                           0.97        65\n",
      "   macro avg       0.96      0.96      0.96        65\n",
      "weighted avg       0.97      0.97      0.97        65\n",
      "\n",
      "\n",
      "*****************************************************************************\n",
      "DT\n",
      "Training Accuracy Score: 100.0%\n",
      "Validation Accuracy Score :90.8%\n",
      "              precision    recall  f1-score   support\n",
      "\n",
      "           0       0.85      0.92      0.88        25\n",
      "           1       0.86      0.80      0.83        15\n",
      "           2       1.00      0.96      0.98        25\n",
      "\n",
      "    accuracy                           0.91        65\n",
      "   macro avg       0.90      0.89      0.90        65\n",
      "weighted avg       0.91      0.91      0.91        65\n",
      "\n",
      "\n",
      "*****************************************************************************\n",
      "LR\n",
      "Training Accuracy Score: 100.0%\n",
      "Validation Accuracy Score :96.9%\n",
      "              precision    recall  f1-score   support\n",
      "\n",
      "           0       0.96      0.96      0.96        25\n",
      "           1       0.94      1.00      0.97        15\n",
      "           2       1.00      0.96      0.98        25\n",
      "\n",
      "    accuracy                           0.97        65\n",
      "   macro avg       0.97      0.97      0.97        65\n",
      "weighted avg       0.97      0.97      0.97        65\n",
      "\n",
      "\n",
      "*****************************************************************************\n",
      "std_RF\n",
      "Training Accuracy Score: 100.0%\n",
      "Validation Accuracy Score :93.8%\n",
      "              precision    recall  f1-score   support\n",
      "\n",
      "           0       0.86      1.00      0.93        25\n",
      "           1       1.00      0.73      0.85        15\n",
      "           2       1.00      1.00      1.00        25\n",
      "\n",
      "    accuracy                           0.94        65\n",
      "   macro avg       0.95      0.91      0.92        65\n",
      "weighted avg       0.95      0.94      0.94        65\n",
      "\n",
      "\n",
      "*****************************************************************************\n",
      "std_SVM\n",
      "Training Accuracy Score: 100.0%\n",
      "Validation Accuracy Score :98.5%\n",
      "              precision    recall  f1-score   support\n",
      "\n",
      "           0       0.96      1.00      0.98        25\n",
      "           1       1.00      0.93      0.97        15\n",
      "           2       1.00      1.00      1.00        25\n",
      "\n",
      "    accuracy                           0.98        65\n",
      "   macro avg       0.99      0.98      0.98        65\n",
      "weighted avg       0.99      0.98      0.98        65\n",
      "\n",
      "\n",
      "*****************************************************************************\n",
      "std_XGB\n",
      "Training Accuracy Score: 100.0%\n",
      "Validation Accuracy Score :95.4%\n",
      "              precision    recall  f1-score   support\n",
      "\n",
      "           0       0.92      0.96      0.94        25\n",
      "           1       0.93      0.87      0.90        15\n",
      "           2       1.00      1.00      1.00        25\n",
      "\n",
      "    accuracy                           0.95        65\n",
      "   macro avg       0.95      0.94      0.95        65\n",
      "weighted avg       0.95      0.95      0.95        65\n",
      "\n",
      "\n",
      "*****************************************************************************\n",
      "std_GBM\n",
      "Training Accuracy Score: 100.0%\n",
      "Validation Accuracy Score :96.9%\n",
      "              precision    recall  f1-score   support\n",
      "\n",
      "           0       0.96      0.96      0.96        25\n",
      "           1       0.93      0.93      0.93        15\n",
      "           2       1.00      1.00      1.00        25\n",
      "\n",
      "    accuracy                           0.97        65\n",
      "   macro avg       0.96      0.96      0.96        65\n",
      "weighted avg       0.97      0.97      0.97        65\n",
      "\n",
      "\n",
      "*****************************************************************************\n",
      "std_DT\n",
      "Training Accuracy Score: 100.0%\n",
      "Validation Accuracy Score :87.7%\n",
      "              precision    recall  f1-score   support\n",
      "\n",
      "           0       0.81      0.88      0.85        25\n",
      "           1       0.79      0.73      0.76        15\n",
      "           2       1.00      0.96      0.98        25\n",
      "\n",
      "    accuracy                           0.88        65\n",
      "   macro avg       0.87      0.86      0.86        65\n",
      "weighted avg       0.88      0.88      0.88        65\n",
      "\n",
      "\n",
      "*****************************************************************************\n",
      "std_LR\n",
      "Training Accuracy Score: 100.0%\n",
      "Validation Accuracy Score :100.0%\n",
      "              precision    recall  f1-score   support\n",
      "\n",
      "           0       1.00      1.00      1.00        25\n",
      "           1       1.00      1.00      1.00        15\n",
      "           2       1.00      1.00      1.00        25\n",
      "\n",
      "    accuracy                           1.00        65\n",
      "   macro avg       1.00      1.00      1.00        65\n",
      "weighted avg       1.00      1.00      1.00        65\n",
      "\n"
     ]
    }
   ],
   "source": [
    "# Metrics\n",
    "import warnings\n",
    "warnings.filterwarnings('ignore')\n",
    "from sklearn.metrics import classification_report\n",
    "from sklearn.metrics import accuracy_score        \n",
    "\n",
    "\n",
    "# pipeline = make_pipeline(MinMaxScaler(),  LogisticRegression())\n",
    "for name, model in finalmodels:\n",
    "    model = model.fit(X_train, y_train)\n",
    "    y_pred = model.predict(X_test)\n",
    "    print(\"\\n*****************************************************************************\")\n",
    "    print(name)\n",
    "    print(f\"Training Accuracy Score: {model.score(X_train, y_train) * 100:.1f}%\")\n",
    "    print(f\"Validation Accuracy Score :{accuracy_score(y_test, y_pred) * 100:.1f}%\")\n",
    "\n",
    "    print(classification_report(y_test, y_pred))"
   ]
  },
  {
   "cell_type": "markdown",
   "id": "global-missile",
   "metadata": {
    "id": "global-missile"
   },
   "source": [
    "## Clearly standardized LR Model is perfoming good if we observe f1, precision and recall values."
   ]
  },
  {
   "cell_type": "markdown",
   "id": "Foy1nGogmnUT",
   "metadata": {
    "id": "Foy1nGogmnUT"
   },
   "source": [
    "# Retraining Model with 100% data & Saving Models as Serilized File"
   ]
  },
  {
   "cell_type": "code",
   "execution_count": 101,
   "id": "cooperative-currency",
   "metadata": {
    "id": "cooperative-currency"
   },
   "outputs": [],
   "source": [
    "import pickle\n",
    "import os\n",
    "\n",
    "pipeline = make_pipeline(StandardScaler(),  LogisticRegression(class_weight=class_weight))\n",
    "model = model.fit(X, y)\n",
    "with open( path+f'Std_LR_model.pkl', 'wb') as fileWriteStream:\n",
    "    pickle.dump(model, fileWriteStream)\n",
    "    # Don't forget to close the filestream!\n",
    "    fileWriteStream.close()"
   ]
  },
  {
   "cell_type": "markdown",
   "id": "LhxfmnNEVoyM",
   "metadata": {
    "id": "LhxfmnNEVoyM"
   },
   "source": [
    "## Sample Data Prediction"
   ]
  },
  {
   "cell_type": "code",
   "execution_count": 114,
   "id": "YDoCGAXZUFCR",
   "metadata": {
    "colab": {
     "base_uri": "https://localhost:8080/"
    },
    "id": "YDoCGAXZUFCR",
    "outputId": "255ab8fa-535e-40aa-c470-44cdb50d279e"
   },
   "outputs": [
    {
     "data": {
      "text/plain": [
       "(Number of Devices      1.0\n",
       " Age                   22.0\n",
       " Declared Turnover     20.0\n",
       " Actual Turnover       20.0\n",
       " Months Active          2.0\n",
       " TurnoverDiff           0.0\n",
       " Crypto Use             0.0\n",
       " ATM use                0.0\n",
       " AccUseDiff             1.0\n",
       " Fraud Confirmed        0.0\n",
       " TurnoverDiffStatus     2.0\n",
       " Location               0.0\n",
       " Declared Use           1.0\n",
       " Actual Use             2.0\n",
       " ID Type                1.0\n",
       " Name: 212, dtype: float64, 0)"
      ]
     },
     "execution_count": 114,
     "metadata": {},
     "output_type": "execute_result"
    }
   ],
   "source": [
    "customer_no = 212\n",
    "X.iloc[customer_no] , y.iloc[customer_no]"
   ]
  },
  {
   "cell_type": "markdown",
   "id": "Sjyt346MrlRa",
   "metadata": {
    "id": "Sjyt346MrlRa"
   },
   "source": [
    "## For customer no 212 , it is in cluster 0. <br> Let's see what our model predicts."
   ]
  },
  {
   "cell_type": "code",
   "execution_count": 115,
   "id": "cXawThxeUFIV",
   "metadata": {
    "colab": {
     "base_uri": "https://localhost:8080/"
    },
    "id": "cXawThxeUFIV",
    "outputId": "b7a6353e-42b9-494b-b706-b8d25889634d"
   },
   "outputs": [
    {
     "name": "stdout",
     "output_type": "stream",
     "text": [
      "0\n",
      "0.9994203014864941\n",
      "[9.99420301e-01 1.17230365e-04 4.62468148e-04]\n"
     ]
    }
   ],
   "source": [
    "\n",
    "sample = X.iloc[customer_no]\n",
    "single_sample = np.array(sample).reshape(1,-1)\n",
    "pred = model.predict(single_sample)\n",
    "print(pred.item())\n",
    "print(max(model.predict_proba(single_sample)[0]))\n",
    "print((model.predict_proba(single_sample)[0]))"
   ]
  },
  {
   "cell_type": "markdown",
   "id": "V_hS2U9HrzE0",
   "metadata": {
    "id": "V_hS2U9HrzE0"
   },
   "source": [
    "### Here we are getting output as 0, that means this customer belong to Cluster 0 <br> If we look at the probabilities it is clear that 99.94% , model is sure that this customer belong to cluster 0.\n",
    "\n"
   ]
  },
  {
   "cell_type": "markdown",
   "id": "3N4oHrKns_Zb",
   "metadata": {
    "id": "3N4oHrKns_Zb"
   },
   "source": [
    "# Final Conclusion :\n",
    "\n",
    "1. From the analysis we did before, We were successfully able to decide the risk level of customers given some parameters.\n",
    "2. With K-Means clustring algorithm , we achieved to segregate customers into 3 clusters as following:\n",
    "\n",
    "  - Cluster 2 => High risk level customers\n",
    "  - Cluster 1 => Low risk level customers \n",
    "  - Cluster 0 => Medium risk level customers \n",
    "\n",
    "3. Then with the help of machine learning, Linear Regression Model is able to predict the risk level with 100% accuracy if the desired attributes of the customer are provided. \n",
    "4. From the above analysis, the important attributes were \n",
    "  - Actual Turnover\n",
    "  - Declared Turnover\n",
    "  - Number of Devices\n",
    "  - Crypto Use\n",
    "  - ATM use\n",
    "  - Actual Use\n",
    "  - Location\n",
    "  - Months active\n",
    "5. More attributes were invented with the help of above attributes during the analysis. e.g.\n",
    "  - Turnover difference\n",
    "  - Actual turnover is high / low / same than declared turnover.\n",
    "  - Actual use and delclared use are same or not.\n",
    "  - Age Groups were created to analyze the data.\n",
    "6. The attributes like Age, Post code and ID type were not much useful in the analysis. If more details can be collected about these factors then may be we can find some pattern that helps to predict fraud.\n",
    "7. Data collected from Time to time feedback from customers about service will definetly help us to understand the customer more. \n",
    "\n",
    "We proposed a model using K-Means Clusturing algorithm for customer segmentation to divide customers into different risk levels and classification model for prediction of the risk level of particular customer.<br>\n",
    "We were able to conclude by in depth analysis of various features like - \n",
    "  - Actual Turnover\n",
    "  - Declared Turnover\n",
    "  - Number of Devices\n",
    "  - Crypto Use\n",
    "  - ATM use\n",
    "  - Actual Use\n",
    "  - Location\n",
    "  - Months active <br>\n",
    "\n",
    "\n",
    "Also we were able to create more features using feature engieering to get more insights from data. The new invented features were - \n",
    "  - Turnover difference\n",
    "  - Actual turnover is high / low / same than declared turnover.\n",
    "  - Actual use and delclared use are same or not.\n",
    "  - Age Groups were created to analyze the data.\n",
    "\n",
    "\n",
    "Other attributes can be considered are \n",
    "- Gender\n",
    "- Loan details\n",
    "- Credit score (e.g. Cibil - India , Shufa - Germany)\n",
    "- Employment history\n",
    "- Family Details\n",
    "- Tax clearances\n",
    "- Insurance Details\n",
    "- Crime Records\n",
    "\n",
    "\n"
   ]
  },
  {
   "cell_type": "code",
   "execution_count": null,
   "id": "DJRDoFQtXMZM",
   "metadata": {
    "id": "DJRDoFQtXMZM"
   },
   "outputs": [],
   "source": []
  }
 ],
 "metadata": {
  "colab": {
   "collapsed_sections": [],
   "name": "KrooBI-Copy1.ipynb",
   "provenance": []
  },
  "kernelspec": {
   "display_name": "Python 3",
   "language": "python",
   "name": "python3"
  },
  "language_info": {
   "codemirror_mode": {
    "name": "ipython",
    "version": 3
   },
   "file_extension": ".py",
   "mimetype": "text/x-python",
   "name": "python",
   "nbconvert_exporter": "python",
   "pygments_lexer": "ipython3",
   "version": "3.8.8"
  },
  "toc": {
   "base_numbering": 1,
   "nav_menu": {},
   "number_sections": false,
   "sideBar": true,
   "skip_h1_title": false,
   "title_cell": "Table of Contents",
   "title_sidebar": "Contents",
   "toc_cell": false,
   "toc_position": {},
   "toc_section_display": true,
   "toc_window_display": false
  }
 },
 "nbformat": 4,
 "nbformat_minor": 5
}
